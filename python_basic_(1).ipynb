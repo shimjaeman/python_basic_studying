{
  "nbformat": 4,
  "nbformat_minor": 0,
  "metadata": {
    "colab": {
      "name": "python basic (1)",
      "provenance": [],
      "collapsed_sections": [],
      "toc_visible": true,
      "authorship_tag": "ABX9TyOX55T29iPNgTyk3UtlyOgb",
      "include_colab_link": true
    },
    "kernelspec": {
      "name": "python3",
      "display_name": "Python 3"
    },
    "language_info": {
      "name": "python"
    }
  },
  "cells": [
    {
      "cell_type": "markdown",
      "metadata": {
        "id": "view-in-github",
        "colab_type": "text"
      },
      "source": [
        "<a href=\"https://colab.research.google.com/github/shimjaeman/study/blob/main/python_basic_(1).ipynb\" target=\"_parent\"><img src=\"https://colab.research.google.com/assets/colab-badge.svg\" alt=\"Open In Colab\"/></a>"
      ]
    },
    {
      "cell_type": "markdown",
      "source": [
        "# 파이썬 기초"
      ],
      "metadata": {
        "id": "mOSPAlsBOEPV"
      }
    },
    {
      "cell_type": "markdown",
      "source": [
        "## 대화식 인터프리터\n",
        "1. 번역하기 : 파이썬은 등호를 중심으로 오른쪽에 있는 문장이나 수식들을 왼쪽에서 오른쪽으로 번역\n",
        "2. 주석 (#) : 파이썬이 알아차리지 못하는 영역, 즉 무시해도 되는 영역 지정\n",
        "3. 인덱스 (index) : 데이터의 각 위치는 0부터 카운트 (정방향 : 0부터, 역방향 : -1부터 시작)\n",
        "4. 행과 열 : 2차원 형태에서 행의 방향을 우선 ex) print (a[행, 열])\n",
        "5. 대문자 != 소문자 ex) True(o), true(x)\n",
        "6. 인덴트 : if, def, for, while 등의 들여쓰기 \n",
        "   - tip) 일반적으로 현업에서는 라인당 4개의 공백으로 들여쓰기 작성"
      ],
      "metadata": {
        "id": "19PBrKzTOFU-"
      }
    },
    {
      "cell_type": "code",
      "source": [
        "import numpy as np\n",
        "import pandas as pd\n",
        "import matplotlib.pyplot as plt"
      ],
      "metadata": {
        "id": "1JIeU6v8gzGm"
      },
      "execution_count": null,
      "outputs": []
    },
    {
      "cell_type": "code",
      "source": [
        "# [추가] 주석 처리\n",
        "# 1. #을 이용한 주석처리 (#)\n",
        "# 2. 따음표 3개를 이용한 주석처리 (''' ''' or \"\"\" \"\"\")\n",
        "# tip : 한번에 주석 처리 (ctrl + /)"
      ],
      "metadata": {
        "id": "bSzR3Kk49XDb"
      },
      "execution_count": null,
      "outputs": []
    },
    {
      "cell_type": "markdown",
      "source": [
        "## 데이터 타입, 변수\n",
        "1. 변수 : 데이터가 담길 그릇에 이름을 지어주어 잠시 메모리에 저장될수 있게 해주는것 (이름 = 데이터) \n",
        "2. 변수의 가변성 : 이름을 그대로 유지한채 데이터의 유형을 바꾸면 다른 형태로 변환된다.\n",
        "3. type : 어떤 데이터 타입인지 확인하는 기능"
      ],
      "metadata": {
        "id": "wzBeFKdhR4Tk"
      }
    },
    {
      "cell_type": "markdown",
      "source": [
        "### 기본 데이터 타입"
      ],
      "metadata": {
        "id": "U0BpezlocaGO"
      }
    },
    {
      "cell_type": "code",
      "source": [
        "# 변수\n",
        "정수=123\n",
        "소수=1.23\n",
        "문자열 = \"abc\"\n",
        "print(정수, 소수, 문자열)"
      ],
      "metadata": {
        "colab": {
          "base_uri": "https://localhost:8080/"
        },
        "id": "IiF57th2Uyz-",
        "outputId": "85a0a442-7d14-4145-9270-602bc98b2e1e"
      },
      "execution_count": null,
      "outputs": [
        {
          "output_type": "stream",
          "name": "stdout",
          "text": [
            "123 1.23 abc\n"
          ]
        }
      ]
    },
    {
      "cell_type": "code",
      "source": [
        "# 정수 (integer) : 음수, 양수, 0\n",
        "\n",
        "# 사칙연산 \n",
        "print(3)\n",
        "print(3+3)\n",
        "print(3*3)\n",
        "print(3/3) # 소숫점 이하 자리를 '버림'한 결과 :1.0 (float)\n",
        "\n",
        "# type 확인\n",
        "print(type(3))\n",
        "print(type(-3))\n",
        "print(type(0))\n",
        "\n",
        "# 변환\n",
        "print(int(\"100\")) # 문자  -> 정수\n",
        "print(int(100.0)) # 소수  -> 정수\n",
        "print(int(True))  # 불린  -> 정수\n",
        "# print(int(\"hi\")) : 오류 발생 (변환 시 숫자가 아니여서)\n"
      ],
      "metadata": {
        "colab": {
          "base_uri": "https://localhost:8080/"
        },
        "id": "3u8SZmBJTjYG",
        "outputId": "246a1fda-45ef-454a-ffe2-5bea55047999"
      },
      "execution_count": null,
      "outputs": [
        {
          "output_type": "stream",
          "name": "stdout",
          "text": [
            "3\n",
            "6\n",
            "9\n",
            "1.0\n",
            "<class 'int'>\n",
            "<class 'int'>\n",
            "<class 'int'>\n",
            "100\n",
            "100\n",
            "1\n"
          ]
        }
      ]
    },
    {
      "cell_type": "code",
      "source": [
        "# 부동 소수점 (floating point) : 숫자의 정밀도를 높이기 위한 모습\n",
        "\n",
        "# 사칙연산 \n",
        "print(3.0)\n",
        "print(3.0+3.0)\n",
        "print(3.0*3.0)\n",
        "print(3.0/3.0)\n",
        "\n",
        "# type 확인\n",
        "print(type(3.0))\n",
        "print(type(-3.0))\n",
        "print(type(0.0))\n",
        "\n",
        "# e를 이용한 부동 소수점\n",
        "# 유효숫자e**지수 = 유효숫자 * 10**지수\n",
        "print(1e8) # + / = 1 x 10**8\n",
        "print(123e-4) # - / 0.0123\n",
        "\n",
        "# 변환\n",
        "print(float(\"100\")) # 문자  -> 소수\n",
        "print(float(100)) # 정수  -> 소수\n",
        "print(float(True))  # 불린  -> 소수\n",
        "# print(int(\"hi\")) : 오류 발생 (변환 시 숫자가 아니여서)"
      ],
      "metadata": {
        "colab": {
          "base_uri": "https://localhost:8080/"
        },
        "id": "yni8bQxdTlrS",
        "outputId": "5be941f9-87cf-4609-b604-e68801510c8f"
      },
      "execution_count": null,
      "outputs": [
        {
          "output_type": "stream",
          "name": "stdout",
          "text": [
            "3.0\n",
            "6.0\n",
            "9.0\n",
            "1.0\n",
            "<class 'float'>\n",
            "<class 'float'>\n",
            "<class 'float'>\n",
            "100000000.0\n",
            "0.0123\n",
            "100.0\n",
            "100.0\n",
            "1.0\n"
          ]
        }
      ]
    },
    {
      "cell_type": "code",
      "source": [
        "# 문자열 (str) : \" \" or ' '\n",
        "print(\"don't you know \\\"sjm\\\"\") # 백슬래시를 사용하면 따음표 포함가능\n",
        "\n",
        "# 사칙연산 \n",
        "print(\"3\")\n",
        "print(\"3\"+\"3\")\n",
        "print(\"3\"*3)\n",
        "\n",
        "# type 확인\n",
        "print(type(\"3\"))\n",
        "print(type(\"-3\"))\n",
        "print(type(\"0\"))\n",
        "\n",
        "# 변환\n",
        "print(str(100)) # 정수  -> 문자\n",
        "print(str(100.0)) # 소수  -> 문자\n",
        "print(str(True))  # 불린  -> 문자\n",
        "print(type(str(True))) # True(bool) -> \"True\"(str)"
      ],
      "metadata": {
        "colab": {
          "base_uri": "https://localhost:8080/"
        },
        "id": "QvqDUqNtTn9Y",
        "outputId": "65dde413-2dad-4cc8-c372-c06c92b06788"
      },
      "execution_count": null,
      "outputs": [
        {
          "output_type": "stream",
          "name": "stdout",
          "text": [
            "don't you know \"sjm\"\n",
            "3\n",
            "33\n",
            "333\n",
            "<class 'str'>\n",
            "<class 'str'>\n",
            "<class 'str'>\n",
            "100\n",
            "100.0\n",
            "True\n",
            "<class 'str'>\n"
          ]
        }
      ]
    },
    {
      "cell_type": "code",
      "source": [
        "# 불린 (boolean) : True (0을 제외한 나머지) / False (0))\n",
        "a=3\n",
        "print (a==3)\n",
        "print (a!=3)\n",
        "print(\"*\"*20)\n",
        "print(True)\n",
        "print(False)\n",
        "print(not True)\n",
        "print(not False)\n",
        "print(not (5 < 10))\n",
        "print(\"*\"*20)\n",
        "print(bool(0)) \n",
        "print(bool(1)) \n",
        "print(bool(\"ddd\"))\n",
        "print(type(True))"
      ],
      "metadata": {
        "colab": {
          "base_uri": "https://localhost:8080/"
        },
        "id": "aReTNvBcTqhI",
        "outputId": "2220a958-fae7-4a1f-ce8b-5b8d5a8b4c23"
      },
      "execution_count": null,
      "outputs": [
        {
          "output_type": "stream",
          "name": "stdout",
          "text": [
            "True\n",
            "False\n",
            "********************\n",
            "True\n",
            "False\n",
            "False\n",
            "True\n",
            "False\n",
            "********************\n",
            "False\n",
            "True\n",
            "True\n",
            "<class 'bool'>\n"
          ]
        }
      ]
    },
    {
      "cell_type": "markdown",
      "source": [
        "### 응용 데이터 타입\n"
      ],
      "metadata": {
        "id": "vqMEnMupcfdi"
      }
    },
    {
      "cell_type": "markdown",
      "source": [
        "컬럼 데이터 추출하기\n",
        "1. [] : 컬럼 데이터를 추출\n",
        "2. [[ ]] : 여러 개의 컬럼 데이터를 추출하는 경우\n",
        "3. .loc[] : 인덱스(index)를 기준으로 행 데이터를 추출 Ex) df1.loc[:2, ['Survived', 'Pclass','Name']]\n",
        "4. .iloc[] : 행 번호를 기준으로 행 데이터를 추출 Ex) df1.iloc[:2,1:4]\n",
        "  - 여러개를 추출하려면 [[ ]]"
      ],
      "metadata": {
        "id": "Itg1itBehJKd"
      }
    },
    {
      "cell_type": "markdown",
      "source": [
        "#### 리스트(List)"
      ],
      "metadata": {
        "id": "yiBXnuL8_rTk"
      }
    },
    {
      "cell_type": "code",
      "source": [
        "# 리스트 [list, 잠겨있지 않은 상태] : []를 사용\n",
        "# 1. 데이터를 수정, 추가, 삭제, 확인 가능\n",
        "# Tip : 비어있는 리스트 선언 -> [ A=[] or A=List() ]\n",
        "\n",
        "리스트=[\"banana\", \"cherry\", \"apple\"]\n",
        "print(리스트)\n",
        "print(리스트[0])\n",
        "print(리스트[0:2])\n",
        "\n",
        "# 연산\n",
        "print(\"*\"*20,\"연산\",\"*\"*20)\n",
        "print(리스트+리스트)\n",
        "print(리스트*2)\n",
        "\n",
        "# 수정\n",
        "print(\"*\"*20,\"수정\",\"*\"*20)\n",
        "리스트[2]=\"potato\"\n",
        "print(리스트)\n",
        "\n",
        "# 추가\n",
        "print(\"*\"*20,\"추가\",\"*\"*20)\n",
        "리스트.append(\"peach\") # 리스트에 한개의 요소를 추가 (마지막 리스트에 추가)\n",
        "리스트.extend([\"plum\", \"melon\"]) # 리스트에 여러 개의 요소를 추가 (마지막 리스트에 추가)\n",
        "리스트.insert(3, \"orange\") # insert(넣고 싶은 자리, \"넣고 싶은 데이터\") : 넣고 싶은 자리에 데이터 추가 가능\n",
        "리스트[2:2] = [\"peach\", \"orange\"] # [시작:끝]의 값을 같게 한다면 해당 위치에 여러 개의 데이터 추가 가능\n",
        "리스트[1:3] = [\"apple\", \"watermelon\"] # [시작:끝]의 값을 다르게 한다면 해당 요소의 구간을 잘라 내고 덮어쓰면서 추가qa\n",
        "print(리스트)\n",
        "\n",
        "# 기타\n",
        "print(\"*\"*20,\"기타\",\"*\"*20)\n",
        "리스트.reverse() # 데이터 역순\n",
        "리스트.sort() # 데이터 정렬 [오름차순]\n",
        "print(\"오름차순 :\", 리스트)\n",
        "리스트.sort(reverse=True) # 데이터 정렬 [내림차순]\n",
        "print(\"내림차순 :\", 리스트)\n",
        "print(\"값의 위치 파악 :\", 리스트.index(\"banana\")) # 값의 위치파악\n",
        "print(\"banaan의 개수 확인 :\", 리스트.count(\"banana\")) # 값의 개수를 세는 함수\n",
        "print(\"길이 확인 :\", len(리스트))\n",
        "\n",
        "# 제거\n",
        "print(\"*\"*20,\"제거\",\"*\"*20)\n",
        "del 리스트[2] # 인덱스를 받아서 지우는 방식,[del 인덱스[ ]]은 지워진 인덱스의 값을 반환하지 않음\n",
        "print(리스트)\n",
        "del 리스트[0:2] # 인덱스 범위 지정을 통해서 지우는 방식\n",
        "print(리스트)\n",
        "리스트.remove(\"peach\") # remove()는 지우고자 하는 인덱스가 아닌, 값을 입력하는 방식\n",
        "print(\"지워진 인덱스 값 : \", 리스트.pop(3)) # 인덱스를 받아서 지우는 방식, [ 인덱스.pop() ]은 지워진 인덱스의 값을 반환 Tip) 인덱스 지정하지 않으면 마지막 요소 제거\n",
        "리스트.clear() # 모든 인덱스 제거 (list를 삭제하는 것이 아닌, 값을 삭제)\n",
        "print(리스트)\n",
        "\n",
        "# 1차원 리스트 초기화\n",
        "print(\"*\"*20,\"초기화\",\"*\"*20)\n",
        "n = 10\n",
        "a = [0]*n\n",
        "print(a)\n",
        "\n",
        "# 다양한 자료형과 함께 사용 가능\n",
        "print(\"*\"*20,\"다른 자료형\",\"*\"*20)\n",
        "mix_list = [\"조세호\", 20, True]\n",
        "print(mix_list)"
      ],
      "metadata": {
        "id": "OAQa0cfVc95O",
        "colab": {
          "base_uri": "https://localhost:8080/"
        },
        "outputId": "3ecf0faa-b373-49da-94fc-c917c690ef93"
      },
      "execution_count": null,
      "outputs": [
        {
          "output_type": "stream",
          "name": "stdout",
          "text": [
            "['banana', 'cherry', 'apple']\n",
            "banana\n",
            "['banana', 'cherry']\n",
            "******************** 연산 ********************\n",
            "['banana', 'cherry', 'apple', 'banana', 'cherry', 'apple']\n",
            "['banana', 'cherry', 'apple', 'banana', 'cherry', 'apple']\n",
            "******************** 수정 ********************\n",
            "['banana', 'cherry', 'potato']\n",
            "******************** 추가 ********************\n",
            "['banana', 'apple', 'watermelon', 'orange', 'potato', 'orange', 'peach', 'plum', 'melon']\n",
            "******************** 기타 ********************\n",
            "오름차순 : ['apple', 'banana', 'melon', 'orange', 'orange', 'peach', 'plum', 'potato', 'watermelon']\n",
            "내림차순 : ['watermelon', 'potato', 'plum', 'peach', 'orange', 'orange', 'melon', 'banana', 'apple']\n",
            "값의 위치 파악 : 7\n",
            "banaan의 개수 확인 : 1\n",
            "길이 확인 : 9\n",
            "******************** 제거 ********************\n",
            "['watermelon', 'potato', 'peach', 'orange', 'orange', 'melon', 'banana', 'apple']\n",
            "['peach', 'orange', 'orange', 'melon', 'banana', 'apple']\n",
            "지워진 인덱스 값 :  banana\n",
            "[]\n",
            "******************** 초기화 ********************\n",
            "[0, 0, 0, 0, 0, 0, 0, 0, 0, 0]\n",
            "******************** 다른 자료형 ********************\n",
            "['조세호', 20, True]\n"
          ]
        }
      ]
    },
    {
      "cell_type": "code",
      "source": [
        "# 중첩 리스트\n",
        "# 리스트 안에 또 다른 리스트를 추가하는 것\n",
        "리스트2 = [[\"apple\", \"banana\", \"cherry\"]]\n",
        "print(리스트2[0]) \n",
        "print(리스트2[0][0])\n",
        "print(리스트2[0][0][0])"
      ],
      "metadata": {
        "colab": {
          "base_uri": "https://localhost:8080/"
        },
        "id": "ZQdMg5Ww_BpQ",
        "outputId": "70433f6f-0360-4ba5-f881-d683c542450c"
      },
      "execution_count": null,
      "outputs": [
        {
          "output_type": "stream",
          "name": "stdout",
          "text": [
            "['apple', 'banana', 'cherry']\n",
            "apple\n",
            "a\n"
          ]
        }
      ]
    },
    {
      "cell_type": "code",
      "source": [
        "# 리스트 컴프리 헨션 (리스트 초기화)\n",
        "# ([])안에 조건문과 반복문을 넣는 방식으로 리스트 초기화\n",
        "print(\"리스트 컴프리 헨션 방법\")\n",
        "array1 = [i for i in range(20) if i % 2 ==1]\n",
        "array2 = [i * i for i in range(1,10)]\n",
        "print(array1)\n",
        "print(array2)\n",
        "\n",
        "print(\"*\"*30)\n",
        "\n",
        "print(\"기본 방식\")\n",
        "array = []\n",
        "for i in range(20):\n",
        "  if i % 2 == 1 :\n",
        "    array.append(i)\n",
        "\n",
        "print(array)"
      ],
      "metadata": {
        "colab": {
          "base_uri": "https://localhost:8080/"
        },
        "id": "ZIrkm4rdqEeA",
        "outputId": "d49c356d-4711-44fb-a137-5110fc6840de"
      },
      "execution_count": null,
      "outputs": [
        {
          "output_type": "stream",
          "name": "stdout",
          "text": [
            "리스트 컴프리 헨션 방법\n",
            "[1, 3, 5, 7, 9, 11, 13, 15, 17, 19]\n",
            "[1, 4, 9, 16, 25, 36, 49, 64, 81]\n",
            "******************************\n",
            "기본 방식\n",
            "[1, 3, 5, 7, 9, 11, 13, 15, 17, 19]\n"
          ]
        }
      ]
    },
    {
      "cell_type": "code",
      "source": [
        "# 2차원 리스트 초기화 방법\n",
        "# 내부적으로 포함된 n개의 리스트가 모두 동일한 객체에 대한 3개의 레퍼런스로 인식\n",
        "n=3\n",
        "m=4\n",
        "array = [[0] * m for _ in range(n)]\n",
        "print(array)\n",
        "\n",
        "array[1][1] = 5\n",
        "print(array)"
      ],
      "metadata": {
        "colab": {
          "base_uri": "https://localhost:8080/"
        },
        "id": "t-VdpE3Ar_JJ",
        "outputId": "e30c78c0-2504-4006-c283-b8ae459f1fda"
      },
      "execution_count": null,
      "outputs": [
        {
          "output_type": "stream",
          "name": "stdout",
          "text": [
            "[[0, 0, 0, 0], [0, 0, 0, 0], [0, 0, 0, 0]]\n",
            "[[0, 0, 0, 0], [0, 5, 0, 0], [0, 0, 0, 0]]\n"
          ]
        }
      ]
    },
    {
      "cell_type": "markdown",
      "source": [
        "#### 튜플(Tuple)"
      ],
      "metadata": {
        "id": "Dr3pd3ad_voy"
      }
    },
    {
      "cell_type": "code",
      "source": [
        "# 튜플 (tuple, 잠겨있는 상태) : ()를 사용\n",
        "# 1. 데이터를 수정, 추가, 삭제 불가능\n",
        "# 2. 데이터 확인은 가능\n",
        "# 3. 변경하면 안되는 값을 튜플로 지정하여 변경여부 체크 가능 ex) 다익스트라 최단경로 알고리즘\n",
        "# 4. 튜플은 리스트에 비해 상대적으로 공간 효율적\n",
        "# 5. 일반적으로 각 원소의 성질이 서로 다를때 사용\n",
        "\n",
        "튜플 = (\"banana\", \"pineapple\", \"cherry\")\n",
        "튜플1 = (0) \n",
        "튜플2 = (0,) # 튜플은 1개의 요소를 가질 떄 요소 뒤에 콤바(,) 필수\n",
        "튜플3 = 1,2,3 # 객체 선언 시 튜플은 괄호() 생략 가능\n",
        "print(튜플)\n",
        "print(type(튜플))\n",
        "print(type(튜플1))\n",
        "print(type(튜플2))\n",
        "print(type(튜플3))\n",
        "\n",
        "# 연산\n",
        "print(\"*\"*20,\"연산\",\"*\"*20)\n",
        "print(튜플+튜플)\n",
        "print(튜플*2)\n",
        "\n",
        "# 수정, 추가, 삭제 불가능\n",
        "\"\"\" print(튜플.update(1, \"potato\"))\n",
        "print(튜플.append(\"apple\"))\n",
        "print(튜플.remove(\"banana\")) \"\"\"\n",
        "\n",
        "# 인덱싱 및 슬라이싱(확인) : (정방향 : 0부터, 역방향 : -1부터 시작)\n",
        "print(\"*\"*20,\"확인\",\"*\"*20)\n",
        "print(튜플[0])\n",
        "print(튜플[-1])\n",
        "print(튜플[0:2])"
      ],
      "metadata": {
        "colab": {
          "base_uri": "https://localhost:8080/"
        },
        "id": "gbf2oKNHdBjE",
        "outputId": "1a76020a-ce99-4bda-9118-943613e9f76a"
      },
      "execution_count": null,
      "outputs": [
        {
          "output_type": "stream",
          "name": "stdout",
          "text": [
            "('banana', 'pineapple', 'cherry')\n",
            "<class 'tuple'>\n",
            "<class 'int'>\n",
            "<class 'tuple'>\n",
            "<class 'tuple'>\n",
            "******************** 연산 ********************\n",
            "('banana', 'pineapple', 'cherry', 'banana', 'pineapple', 'cherry')\n",
            "('banana', 'pineapple', 'cherry', 'banana', 'pineapple', 'cherry')\n",
            "******************** 확인 ********************\n",
            "banana\n",
            "cherry\n",
            "('banana', 'pineapple')\n"
          ]
        }
      ]
    },
    {
      "cell_type": "markdown",
      "source": [
        "#### 딕셔너리(dictionary)"
      ],
      "metadata": {
        "id": "tLIfvSvz_x4U"
      }
    },
    {
      "cell_type": "code",
      "source": [
        "# 딕셔너리 {dictionary} : { key :value }\n",
        "# 1. 각각의 딕션너리간의 순서가 존재하지 않는다.\n",
        "# 2. 딕셔너리의 경우 키를 기준으로 값을 찾아가는 구조이다.\n",
        "# 3. 중복된 키를 허용하지 않는다.\n",
        "# 4. 원하는 변경 불가능한 데이터(한번 초기화되면 변경이 불가능한 자료형)를 키로 사용\n",
        "\n",
        "# 기본적인 확인\n",
        "print(\"*\"*20,\"기초 확인\",\"*\"*20)\n",
        "딕션={\"banana\" : 27, \"cherry\" : 16, \"pineapple\" : 20, \"orange\" : [20, 30, 20]}\n",
        "print(딕션)\n",
        "print(딕션[\"banana\"])\n",
        "# print(딕션[\"apple\"]) : 존재하지 않는 Key 값 -> error 발생\n",
        "print(딕션.keys())\n",
        "print(딕션.values())\n",
        "print(딕션.items())\n",
        "\n",
        "# get을 이용한 확인\n",
        "# get() : key값에 대응하는 value값 반환\n",
        "print(\"*\"*20,\"get 확인\",\"*\"*20)\n",
        "print(딕션.get(\"banana\"))  \n",
        "print(딕션.get(\"apple\")) # 존재하지 않는 Key 값 -> None을 반환\n",
        "print(딕션.get(\"apple\", 30)) # 사전에 정해둔 값 Get(Key, \"디폴트 값\") 형태로 디폴트 값 반환\n",
        "\n",
        "# 추가\n",
        "print(\"*\"*20,\"추가\",\"*\"*20)\n",
        "딕션[\"apple\"]=20 # 없는 데이터는 추가\n",
        "print(딕션)\n",
        "\n",
        "# 수정\n",
        "print(\"*\"*20,\"수정\",\"*\"*20)\n",
        "딕션[\"banana\"]=30 # 있는 데이터는 수정\n",
        "print(딕션)\n",
        "\n",
        "# 원소 in 사전 형태\n",
        "print(\"*\"*20,\"원소 in 사전 형태\",\"*\"*20)\n",
        "if \"pineapple\" in 딕션:\n",
        "  print (\"pineapple 키를 가진 데이터가 존재합니다\")\n",
        "print(\"banana\" in 딕션) # True\n",
        "print(\"potato\" in 딕션) # False\n",
        "\n",
        "# 제거\n",
        "print(\"*\"*20,\"제거\",\"*\"*20)\n",
        "del 딕션[\"banana\"]\n",
        "딕션.clear()\n",
        "print(딕션)"
      ],
      "metadata": {
        "id": "MBwBA3AHdCcT",
        "colab": {
          "base_uri": "https://localhost:8080/"
        },
        "outputId": "53a7ac01-367f-4609-f769-d16965a064b9"
      },
      "execution_count": null,
      "outputs": [
        {
          "output_type": "stream",
          "name": "stdout",
          "text": [
            "******************** 기초 확인 ********************\n",
            "{'banana': 27, 'cherry': 16, 'pineapple': 20, 'orange': [20, 30, 20]}\n",
            "27\n",
            "dict_keys(['banana', 'cherry', 'pineapple', 'orange'])\n",
            "dict_values([27, 16, 20, [20, 30, 20]])\n",
            "dict_items([('banana', 27), ('cherry', 16), ('pineapple', 20), ('orange', [20, 30, 20])])\n",
            "******************** get 확인 ********************\n",
            "27\n",
            "None\n",
            "30\n",
            "******************** 추가 ********************\n",
            "{'banana': 27, 'cherry': 16, 'pineapple': 20, 'orange': [20, 30, 20], 'apple': 20}\n",
            "******************** 수정 ********************\n",
            "{'banana': 30, 'cherry': 16, 'pineapple': 20, 'orange': [20, 30, 20], 'apple': 20}\n",
            "******************** 원소 in 사전 형태 ********************\n",
            "pineapple 키를 가진 데이터가 존재합니다\n",
            "True\n",
            "False\n",
            "******************** 제거 ********************\n",
            "{}\n"
          ]
        }
      ]
    },
    {
      "cell_type": "markdown",
      "source": [
        "#### 집합 (set)"
      ],
      "metadata": {
        "id": "fVuJAKsX_3BF"
      }
    },
    {
      "cell_type": "code",
      "source": [
        "# 집합 ([set])\n",
        "# 1. 중복된 데이터가 없으며 데이터 간에 순서가 없다\n",
        "# 2. set(\"데이터\") or set(['데이터']) or {}\n",
        "\n",
        "# 중복 및 순서 확인\n",
        "집합_1=set(\"hellllo\")\n",
        "집합_2=set([1, 1, 2, 2, 3, 4, 5, 5])\n",
        "집합_3=set([1, 2, 4, 9, 10])\n",
        "집합_4 = {1, 2, 333, 4, 5}\n",
        "\n",
        "print(집합_1)\n",
        "print(집합_2)\n",
        "print(집합_3)\n",
        "print(집합_4)\n",
        "\n",
        "# 합집합 (|)\n",
        "print(\"*\"*20,\"합집합\",\"*\"*20)\n",
        "print(집합_2 | 집합_3)\n",
        "print(집합_2.union(집합_3))\n",
        "\n",
        "# 교집합 (&)\n",
        "print(\"*\"*20,\"교집합\",\"*\"*20)\n",
        "print(집합_2 & 집합_3)\n",
        "print(집합_2.intersection(집합_3))\n",
        "\n",
        "# 차집합 (-)\n",
        "print(\"*\"*20,\"차집합\",\"*\"*20)\n",
        "print(집합_2 - 집합_3)\n",
        "print(집합_2.difference(집합_3))\n",
        "\n",
        "# 대칭 차집합 (^) [합집합 - 교집합]\n",
        "print(\"*\"*20,\"대칭 차집합\",\"*\"*20)\n",
        "print(집합_2 ^ 집합_3)\n",
        "print(집합_2.symmetric_difference(집합_3))\n",
        "\n",
        "# 기타\n",
        "print(\"*\"*20,\"기타\",\"*\"*20)\n",
        "집합_2.add(3)\n",
        "집합_2.update([2,3,4])\n",
        "집합_2.remove(2)\n",
        "print(집합_2)"
      ],
      "metadata": {
        "id": "8ou9x49ddDiI",
        "colab": {
          "base_uri": "https://localhost:8080/"
        },
        "outputId": "9d6e0b81-02f6-4314-cf4b-a3c97c0236ab"
      },
      "execution_count": null,
      "outputs": [
        {
          "output_type": "stream",
          "name": "stdout",
          "text": [
            "{'l', 'o', 'e', 'h'}\n",
            "{1, 2, 3, 4, 5}\n",
            "{1, 2, 4, 9, 10}\n",
            "{1, 2, 4, 5, 333}\n",
            "******************** 합집합 ********************\n",
            "{1, 2, 3, 4, 5, 9, 10}\n",
            "{1, 2, 3, 4, 5, 9, 10}\n",
            "******************** 교집합 ********************\n",
            "{1, 2, 4}\n",
            "{1, 2, 4}\n",
            "******************** 차집합 ********************\n",
            "{3, 5}\n",
            "{3, 5}\n",
            "******************** 대칭 차집합 ********************\n",
            "{3, 5, 9, 10}\n",
            "{3, 5, 9, 10}\n",
            "******************** 기타 ********************\n",
            "{1, 3, 4, 5}\n"
          ]
        }
      ]
    },
    {
      "cell_type": "markdown",
      "source": [
        "## 연산자\n",
        "1. 산술 연산자 (+, -, /, //, *, **, %)\n",
        "2. 비교 연산자 (<, <=, >, >=, !=, ==)\n",
        "3. 논리 연산자(and, or, not)"
      ],
      "metadata": {
        "id": "ibKBVsb5LiPd"
      }
    },
    {
      "cell_type": "code",
      "source": [
        "# 산술 연산자\n",
        "# 정수형은 기본적으로 정수형으로 반환\n",
        "# 실수형은 기본적으로 실수형으로 반환\n",
        "print(2+5) # 덧셈 \n",
        "print(2-5) # 뺼셈\n",
        "print(2%5) # 나머지 구하기\n",
        "print(2/5) # 나눗셈\n",
        "print(2//5) # 소수점을 버린 몫\n",
        "print(2*5) # 곱셈\n",
        "print(2**5) # 거듭제곱"
      ],
      "metadata": {
        "colab": {
          "base_uri": "https://localhost:8080/"
        },
        "id": "nEviyysaL4T7",
        "outputId": "beba6279-1318-4152-f4ba-ec392d44fd32"
      },
      "execution_count": null,
      "outputs": [
        {
          "output_type": "stream",
          "name": "stdout",
          "text": [
            "7\n",
            "-3\n",
            "2\n",
            "0.4\n",
            "0\n",
            "10\n",
            "32\n"
          ]
        }
      ]
    },
    {
      "cell_type": "code",
      "source": [
        "# 비교 연산자 (모두 숫자이거나 모두 문자열이여야 비교 가능)\n",
        "print(2 > 5) # 작다\n",
        "print(2 >= 5) # 작거나 같다\n",
        "print(2 < 5) # 크다\n",
        "print(2 <= 5) # 크거나 같다\n",
        "print(2 == 5) # 같다\n",
        "print(2 != 5) # 같지않다"
      ],
      "metadata": {
        "colab": {
          "base_uri": "https://localhost:8080/"
        },
        "id": "m1jc-LBOMfC1",
        "outputId": "66772ae3-cba5-4eab-9b52-82420105a0f9"
      },
      "execution_count": null,
      "outputs": [
        {
          "output_type": "stream",
          "name": "stdout",
          "text": [
            "False\n",
            "False\n",
            "True\n",
            "True\n",
            "False\n",
            "True\n"
          ]
        }
      ]
    },
    {
      "cell_type": "code",
      "source": [
        "# 논리 연산자(and, or, Not)\n",
        "print (2==5 or 2!=5) # or(합집합) [|] : 둘중에 하나라도 True이면 True\n",
        "print (2==5 and 2!=5) # and(교집합) [&] : 둘 모두 True를 만족하는 경우만 True\n",
        "print (not (2!=5)) # nor(차집합) [-] : not 뒤에 값을 반대로 "
      ],
      "metadata": {
        "colab": {
          "base_uri": "https://localhost:8080/"
        },
        "id": "-m4hoO5kM7UP",
        "outputId": "2bfcc5c1-0ba8-4f26-c49f-d2fdd3c71b57"
      },
      "execution_count": null,
      "outputs": [
        {
          "output_type": "stream",
          "name": "stdout",
          "text": [
            "True\n",
            "False\n",
            "False\n"
          ]
        }
      ]
    },
    {
      "cell_type": "code",
      "source": [
        "# 대입 연산자 \n",
        "# 왼쪽에 있는 변수를 오른쪽에 있는 값만큼 지시된 연산을 사용하여 계산후 대입\n",
        "number = 14\n",
        "\n",
        "number += 2\n",
        "print(number) \n",
        "number -= 2\n",
        "print(number) \n",
        "number *= 2\n",
        "print(number) \n",
        "number /= 2\n",
        "print(number) \n",
        "number %= 5\n",
        "print(number) "
      ],
      "metadata": {
        "colab": {
          "base_uri": "https://localhost:8080/"
        },
        "id": "55ZhbMc5_z2d",
        "outputId": "81108a11-941e-4c6d-af39-fe46e8e05118"
      },
      "execution_count": null,
      "outputs": [
        {
          "output_type": "stream",
          "name": "stdout",
          "text": [
            "16\n",
            "14\n",
            "28\n",
            "14.0\n",
            "4.0\n"
          ]
        }
      ]
    },
    {
      "cell_type": "markdown",
      "source": [
        "## 문자열 가공 함수"
      ],
      "metadata": {
        "id": "FqZ0jJHMOafs"
      }
    },
    {
      "cell_type": "markdown",
      "source": [
        "\n",
        "\n",
        "*   문자열 인덱싱 : 각각의 문자열 안에서 범위를 지정하는 것\n",
        "   - 문자열의 범위는 0번째부터 시작하며, 반대로는 -1부터 시작한다.\n",
        "\n",
        "*   문자열 슬라이싱 : 범위를 지정해 문자열의 일부를 추출하는 것\n",
        "   - 문자의 길이가 n이라고 한다면, 왼쪽이 0부터 오른쪽 끝은 n-1까지다\n",
        "   - str[:] : 처음부터 끝까지 전체 문자열 추출\n",
        "   - str[Start:] : Start 인덱스부터 끝까지 문자열 추출\n",
        "   - str[:End] : 처음부터 End-1까지 문자열 추출\n",
        "   - str[Start:End] : Start 인덱스부터 End-1까지 문제열 추출\n",
        "   - str[Start:End:Step] : Step만큰 문자를 건너 뛰면서  인덱스 Start와 End-1까지의 문제열 추출\n",
        "\n"
      ],
      "metadata": {
        "id": "z5ilozm69E3W"
      }
    },
    {
      "cell_type": "code",
      "source": [
        "# 문자열 추출, 곱, 더하기, 슬라이싱 [::]\n",
        "print (\"문자열 합\")\n",
        "a=\"my \" + \"name \" + \" sjm\" \n",
        "print (a)\n",
        "\n",
        "print(\"문자열 곱\")\n",
        "print(a*3)\n",
        "\n",
        "print(\"문자열 추출\")\n",
        "print(a[0])\n",
        "print(a[-1])\n",
        "\n",
        "print(\"문자열 슬라이싱\")\n",
        "print(a[0:6])\n",
        "print(a[0::-2])\n",
        "print(a[6:2:-2])"
      ],
      "metadata": {
        "colab": {
          "base_uri": "https://localhost:8080/"
        },
        "id": "pV9ktRmpQAyV",
        "outputId": "1ef19c2b-f796-4728-b0c6-23c1f8c3bfa1"
      },
      "execution_count": null,
      "outputs": [
        {
          "output_type": "stream",
          "name": "stdout",
          "text": [
            "문자열 합\n",
            "my name  sjm\n",
            "문자열 곱\n",
            "my name  sjmmy name  sjmmy name  sjm\n",
            "문자열 추출\n",
            "m\n",
            "m\n",
            "문자열 슬라이싱\n",
            "my nam\n",
            "m\n",
            "ea\n"
          ]
        }
      ]
    },
    {
      "cell_type": "code",
      "source": [
        "# 끼어들기 (join)\n",
        "b=\".\".join(a)\n",
        "print(b)"
      ],
      "metadata": {
        "colab": {
          "base_uri": "https://localhost:8080/"
        },
        "id": "X5xXySUgOiMn",
        "outputId": "4b0a5a33-24e9-4dce-8736-1761861799e1"
      },
      "execution_count": null,
      "outputs": [
        {
          "output_type": "stream",
          "name": "stdout",
          "text": [
            "m.y. .n.a.m.e. . .s.j.m\n"
          ]
        }
      ]
    },
    {
      "cell_type": "code",
      "source": [
        "# 길이 재기 (length)\n",
        "c=len(a)\n",
        "print(c)"
      ],
      "metadata": {
        "colab": {
          "base_uri": "https://localhost:8080/"
        },
        "id": "biaqe1QbOly4",
        "outputId": "0d706f08-7394-4d39-9b3a-efb0037e3210"
      },
      "execution_count": null,
      "outputs": [
        {
          "output_type": "stream",
          "name": "stdout",
          "text": [
            "12\n"
          ]
        }
      ]
    },
    {
      "cell_type": "code",
      "source": [
        "# 분리 (split)\n",
        "d=a.split(\" \")\n",
        "print(d)"
      ],
      "metadata": {
        "colab": {
          "base_uri": "https://localhost:8080/"
        },
        "id": "H2M0ijRgQGtH",
        "outputId": "615965bd-cdf7-46b2-c9f9-5acba4ba1422"
      },
      "execution_count": null,
      "outputs": [
        {
          "output_type": "stream",
          "name": "stdout",
          "text": [
            "['my', 'name', '', 'sjm']\n"
          ]
        }
      ]
    },
    {
      "cell_type": "code",
      "source": [
        "# 교체 (replace)\n",
        "e=a.replace(\"sjm\", \"SJM\")\n",
        "print(e)"
      ],
      "metadata": {
        "colab": {
          "base_uri": "https://localhost:8080/"
        },
        "id": "3oZTuIBMQJuI",
        "outputId": "9307e777-d9a3-493e-e39e-8063f058bb5f"
      },
      "execution_count": null,
      "outputs": [
        {
          "output_type": "stream",
          "name": "stdout",
          "text": [
            "my name  SJM\n"
          ]
        }
      ]
    },
    {
      "cell_type": "code",
      "source": [
        "# 위치 탐색 (find / index)\n",
        "# 1. 찾는값이 없는경우 find는 -1을 index는 에러 발생\n",
        "print(a.find(\"sjm\"))\n",
        "print(a.find(\"OOO\")) \n",
        "print(a.index(\"sjm\"))\n",
        "# print(a.index(\"OOO\")) - error"
      ],
      "metadata": {
        "colab": {
          "base_uri": "https://localhost:8080/"
        },
        "id": "MKV2qPseQNaA",
        "outputId": "7c1dccc1-6816-415b-f70b-fe8c580b6d71"
      },
      "execution_count": null,
      "outputs": [
        {
          "output_type": "stream",
          "name": "stdout",
          "text": [
            "9\n",
            "-1\n",
            "9\n"
          ]
        }
      ]
    },
    {
      "cell_type": "code",
      "source": [
        "# 개수 세기 (count)\n",
        "f=a.count(\"s\")\n",
        "print(f)"
      ],
      "metadata": {
        "colab": {
          "base_uri": "https://localhost:8080/"
        },
        "id": "FAiheuReQRzw",
        "outputId": "d54575f5-646d-46c5-efa6-eaa7767d2a7e"
      },
      "execution_count": null,
      "outputs": [
        {
          "output_type": "stream",
          "name": "stdout",
          "text": [
            "1\n"
          ]
        }
      ]
    },
    {
      "cell_type": "code",
      "source": [
        "# 공백제거 (strip)\n",
        "g=\"  제거  \"\n",
        "print(g.strip()) \n",
        "print(g.lstrip())\n",
        "print(g.rstrip())"
      ],
      "metadata": {
        "colab": {
          "base_uri": "https://localhost:8080/"
        },
        "id": "h_r1JU3LpeHw",
        "outputId": "a539cf64-0d3d-4263-89e1-aa68391b6f6b"
      },
      "execution_count": null,
      "outputs": [
        {
          "output_type": "stream",
          "name": "stdout",
          "text": [
            "제거\n",
            "제거  \n",
            "  제거\n"
          ]
        }
      ]
    },
    {
      "cell_type": "code",
      "source": [
        "# 대문자 및 소문자 변환 (capitalize / title / upper / lower)\n",
        "print(a.capitalize())\n",
        "print(a.title())\n",
        "print(a.upper())\n",
        "print(a.lower())"
      ],
      "metadata": {
        "colab": {
          "base_uri": "https://localhost:8080/"
        },
        "id": "NjfHKw8nQVjG",
        "outputId": "b9af6334-1b6e-4cfd-ffa3-02debb937bd3"
      },
      "execution_count": null,
      "outputs": [
        {
          "output_type": "stream",
          "name": "stdout",
          "text": [
            "My name  sjm\n",
            "My Name  Sjm\n",
            "MY NAME  SJM\n",
            "my name  sjm\n"
          ]
        }
      ]
    },
    {
      "cell_type": "code",
      "source": [
        "# 대문자 및 소문자 확인\n",
        "print(a[0].isupper()) # a의 첫번째 인덱스가 대문자인지 확인\n",
        "print(a[0].islower()) # a의 첫번째 인덱스가 소문자인지 확인"
      ],
      "metadata": {
        "colab": {
          "base_uri": "https://localhost:8080/"
        },
        "id": "aB2nPG9b5rrl",
        "outputId": "3a040c8a-f76d-43ce-b9c9-97f40760e667"
      },
      "execution_count": null,
      "outputs": [
        {
          "output_type": "stream",
          "name": "stdout",
          "text": [
            "False\n",
            "True\n"
          ]
        }
      ]
    },
    {
      "cell_type": "markdown",
      "source": [
        "## 파일 처리\n",
        "  - r : 읽기 모드\n",
        "  - w : 쓰기 모드\n",
        "  - a : 추가 모드"
      ],
      "metadata": {
        "id": "lK0J-Pdayb6d"
      }
    },
    {
      "cell_type": "markdown",
      "source": [
        "**이스케이프 코드  [탈출문자] **\n",
        "\n",
        "\\n  :  줄바꿈\n",
        "\n",
        "\\t  :  tap\n",
        "\n",
        "\\r : 커서를 맨 앞으로 이동\n",
        "\n",
        "\\b : 백스페이스 (한 글자 삭제)\n",
        "\n",
        "\\0  :  null값(공백)\n",
        "\n",
        "\\\\\\  :  \\표시\n",
        "\n",
        "\\\\'\t :  ' 을 표현\n",
        "\n",
        "\\\\\" : \" 을 표현"
      ],
      "metadata": {
        "id": "QAFw2hkv313d"
      }
    },
    {
      "cell_type": "code",
      "source": [
        "# 파일 쓰기\n",
        "f = open(\"D:\\text.txt\", \"w\")\n",
        "\n",
        "for i in range (1,6) :\n",
        "  data = \"나는 %d번째 사람입니다. \\n\" % i # %d라는 문자 안에 뒤에있는 정수가 입력돠는 형식 / 뒤에 % 연결다리 (무엇을 d에 넣을것인가.)\n",
        "  f.write(data)\n",
        "\n",
        "f.close()"
      ],
      "metadata": {
        "id": "KlRONQB_ybdO"
      },
      "execution_count": null,
      "outputs": []
    },
    {
      "cell_type": "code",
      "source": [
        "# 파일 수정\n",
        "f = open(\"D:\\text.txt\", \"a\")\n",
        "\n",
        "for i in range (6,12) :\n",
        "  data = \"나는 %d번째 사람입니다. \\n\" % i\n",
        "  f.write(data)\n",
        "\n",
        "f.close()"
      ],
      "metadata": {
        "id": "f-1cLwKOynLe"
      },
      "execution_count": null,
      "outputs": []
    },
    {
      "cell_type": "code",
      "source": [
        "# 파일 읽기 (1)\n",
        "f = open(\"D:\\text.txt\", \"r\")\n",
        "line=f.readline()\n",
        "print(line)\n",
        "\n",
        "# whie True 라는 것은 특별한 일이 없는 한 계속해서 반복문을 진행하겠다는 (무한반복문)\n",
        "while True :\n",
        "  line = f.readline()\n",
        "  if not line : \n",
        "    break\n",
        "  print (line)\n",
        "\n",
        "f.close()"
      ],
      "metadata": {
        "colab": {
          "base_uri": "https://localhost:8080/"
        },
        "id": "y-mxVLWb1HUC",
        "outputId": "842ffdbf-4f54-48ec-9f39-a6813cf37f21"
      },
      "execution_count": null,
      "outputs": [
        {
          "output_type": "stream",
          "name": "stdout",
          "text": [
            "나는 1번째 사람입니다. \n",
            "\n",
            "나는 2번째 사람입니다. \n",
            "\n",
            "나는 3번째 사람입니다. \n",
            "\n",
            "나는 4번째 사람입니다. \n",
            "\n",
            "나는 5번째 사람입니다. \n",
            "\n",
            "나는 6번째 사람입니다. \n",
            "\n",
            "나는 7번째 사람입니다. \n",
            "\n",
            "나는 8번째 사람입니다. \n",
            "\n",
            "나는 9번째 사람입니다. \n",
            "\n",
            "나는 10번째 사람입니다. \n",
            "\n",
            "나는 11번째 사람입니다. \n",
            "\n"
          ]
        }
      ]
    },
    {
      "cell_type": "code",
      "source": [
        "# 파일 읽기 (2)\n",
        "f = open(\"D:\\text.txt\", \"r\")\n",
        "line=f.readlines()\n",
        "print(line)\n",
        "\n",
        "for lines in line :\n",
        "  print(lines)\n",
        "\n",
        "f.close()"
      ],
      "metadata": {
        "colab": {
          "base_uri": "https://localhost:8080/"
        },
        "id": "bYrlD0W62xUY",
        "outputId": "77ff68e2-f49c-46df-9eb3-d2f2680f41d9"
      },
      "execution_count": null,
      "outputs": [
        {
          "output_type": "stream",
          "name": "stdout",
          "text": [
            "['나는 1번째 사람입니다. \\n', '나는 2번째 사람입니다. \\n', '나는 3번째 사람입니다. \\n', '나는 4번째 사람입니다. \\n', '나는 5번째 사람입니다. \\n', '나는 6번째 사람입니다. \\n', '나는 7번째 사람입니다. \\n', '나는 8번째 사람입니다. \\n', '나는 9번째 사람입니다. \\n', '나는 10번째 사람입니다. \\n', '나는 11번째 사람입니다. \\n']\n",
            "나는 1번째 사람입니다. \n",
            "\n",
            "나는 2번째 사람입니다. \n",
            "\n",
            "나는 3번째 사람입니다. \n",
            "\n",
            "나는 4번째 사람입니다. \n",
            "\n",
            "나는 5번째 사람입니다. \n",
            "\n",
            "나는 6번째 사람입니다. \n",
            "\n",
            "나는 7번째 사람입니다. \n",
            "\n",
            "나는 8번째 사람입니다. \n",
            "\n",
            "나는 9번째 사람입니다. \n",
            "\n",
            "나는 10번째 사람입니다. \n",
            "\n",
            "나는 11번째 사람입니다. \n",
            "\n"
          ]
        }
      ]
    },
    {
      "cell_type": "code",
      "source": [
        "# 파일 읽기 (1)\n",
        "f = open(\"D:\\text.txt\", \"r\")\n",
        "line=f.read() # 파일에서 전체를 읽고 문자열로 반환 (\\n 쓴 이유)\n",
        "print(line)\n",
        "\n",
        "f.close()"
      ],
      "metadata": {
        "colab": {
          "base_uri": "https://localhost:8080/"
        },
        "id": "nLo-oUkq29ts",
        "outputId": "735a28a1-1ee8-4b34-9b74-0ef9710ae2b1"
      },
      "execution_count": null,
      "outputs": [
        {
          "output_type": "stream",
          "name": "stdout",
          "text": [
            "나는 1번째 사람입니다. \n",
            "나는 2번째 사람입니다. \n",
            "나는 3번째 사람입니다. \n",
            "나는 4번째 사람입니다. \n",
            "나는 5번째 사람입니다. \n",
            "나는 6번째 사람입니다. \n",
            "나는 7번째 사람입니다. \n",
            "나는 8번째 사람입니다. \n",
            "나는 9번째 사람입니다. \n",
            "나는 10번째 사람입니다. \n",
            "나는 11번째 사람입니다. \n",
            "\n"
          ]
        }
      ]
    },
    {
      "cell_type": "code",
      "source": [
        "# 파일 처리 후 닫기 (with open() as 파일 객체) : 자동 처리\n",
        "# with open (\"D:\\text.txt\", \"r\") as f :"
      ],
      "metadata": {
        "id": "ZyqECCz2yodO"
      },
      "execution_count": null,
      "outputs": []
    },
    {
      "cell_type": "markdown",
      "source": [
        "# 2. 파이썬 응용 "
      ],
      "metadata": {
        "id": "dCPnXcqOg5kN"
      }
    },
    {
      "cell_type": "markdown",
      "source": [
        "## 제어문 \n",
        "1. if/elif/else : 조건을 달성하면 실행 조건이 달성되지 않으면 그다음\n",
        "2. for : in에 들어있는 인덱스를 하나씩 꺼내는 동안에만 수행\n",
        "3. while/else : 어떠한 조건을 만족하면 무조건 수행\n",
        "4. 표준 들여쓰기 : 스페이스 바를 4번 입력하여 작성 or 탭을 사용"
      ],
      "metadata": {
        "id": "aj2OoRMeg_wM"
      }
    },
    {
      "cell_type": "code",
      "source": [
        "# if / elif / else (1)\n",
        "exam = 85\n",
        "\n",
        "if exam >= 90:\n",
        "  print(\"A힉점\")\n",
        "elif exam >= 70 :\n",
        "  print(\"B학점\")\n",
        "elif exam >= 50:\n",
        "  print(\"C학점\")\n",
        "else :\n",
        "  print(\"F학점\")"
      ],
      "metadata": {
        "colab": {
          "base_uri": "https://localhost:8080/"
        },
        "id": "fO-0LqJDjhws",
        "outputId": "d8ee1809-461a-41d0-9a2d-2c3a8f34ab96"
      },
      "execution_count": null,
      "outputs": [
        {
          "output_type": "stream",
          "name": "stdout",
          "text": [
            "B학점\n"
          ]
        }
      ]
    },
    {
      "cell_type": "code",
      "source": [
        "# if / elif / else (2)\n",
        "# 실행될 소스코드가 한 줄인 경우\n",
        "exam = 85\n",
        "\n",
        "if exam >= 80 : result = \"success\"\n",
        "else : result = \"fail\"\n",
        "print(result)"
      ],
      "metadata": {
        "colab": {
          "base_uri": "https://localhost:8080/"
        },
        "id": "9Q0qtMqddPcD",
        "outputId": "1b98544f-251a-4e37-d880-1801d4e89b6d"
      },
      "execution_count": null,
      "outputs": [
        {
          "output_type": "stream",
          "name": "stdout",
          "text": [
            "success\n"
          ]
        }
      ]
    },
    {
      "cell_type": "code",
      "source": [
        "# if / elif / else (3)\n",
        "# 조건부 표현식 사용하여 : if~else문을 한 줄에 작성\n",
        "exam = 85\n",
        "result = \"success\" if exam >=80 else \"fail\"\n",
        "print(result)"
      ],
      "metadata": {
        "colab": {
          "base_uri": "https://localhost:8080/"
        },
        "id": "dncJpqc2eKGP",
        "outputId": "dffe2597-8556-45b1-cc2d-2a5dd8804d47"
      },
      "execution_count": null,
      "outputs": [
        {
          "output_type": "stream",
          "name": "stdout",
          "text": [
            "success\n"
          ]
        }
      ]
    },
    {
      "cell_type": "code",
      "source": [
        "# for (1)\n",
        "a = [\"1반\", \"2반\", \"3반\", \"4반\"]\n",
        "for i in a :\n",
        "  print(\"3학년 {}\".format(i))"
      ],
      "metadata": {
        "colab": {
          "base_uri": "https://localhost:8080/"
        },
        "id": "34_mohrBjjwD",
        "outputId": "51663cae-cc2a-4d25-84d4-321d7aa80197"
      },
      "execution_count": null,
      "outputs": [
        {
          "output_type": "stream",
          "name": "stdout",
          "text": [
            "3학년 1반\n",
            "3학년 2반\n",
            "3학년 3반\n",
            "3학년 4반\n"
          ]
        }
      ]
    },
    {
      "cell_type": "code",
      "source": [
        "# for (2)\n",
        "# 2중 반복문\n",
        "for i in range(1,10):\n",
        "    for j in range(2,30):\n",
        "        print(i, \"X\", j, \"=\", i*j)\n"
      ],
      "metadata": {
        "colab": {
          "base_uri": "https://localhost:8080/"
        },
        "id": "rytLf6R-1GFr",
        "outputId": "dd46241a-af3c-4b90-b33e-8f94085ed242"
      },
      "execution_count": null,
      "outputs": [
        {
          "output_type": "stream",
          "name": "stdout",
          "text": [
            "1 X 2 = 2\n",
            "1 X 3 = 3\n",
            "1 X 4 = 4\n",
            "1 X 5 = 5\n",
            "1 X 6 = 6\n",
            "1 X 7 = 7\n",
            "1 X 8 = 8\n",
            "1 X 9 = 9\n",
            "1 X 10 = 10\n",
            "1 X 11 = 11\n",
            "1 X 12 = 12\n",
            "1 X 13 = 13\n",
            "1 X 14 = 14\n",
            "1 X 15 = 15\n",
            "1 X 16 = 16\n",
            "1 X 17 = 17\n",
            "1 X 18 = 18\n",
            "1 X 19 = 19\n",
            "1 X 20 = 20\n",
            "1 X 21 = 21\n",
            "1 X 22 = 22\n",
            "1 X 23 = 23\n",
            "1 X 24 = 24\n",
            "1 X 25 = 25\n",
            "1 X 26 = 26\n",
            "1 X 27 = 27\n",
            "1 X 28 = 28\n",
            "1 X 29 = 29\n",
            "2 X 2 = 4\n",
            "2 X 3 = 6\n",
            "2 X 4 = 8\n",
            "2 X 5 = 10\n",
            "2 X 6 = 12\n",
            "2 X 7 = 14\n",
            "2 X 8 = 16\n",
            "2 X 9 = 18\n",
            "2 X 10 = 20\n",
            "2 X 11 = 22\n",
            "2 X 12 = 24\n",
            "2 X 13 = 26\n",
            "2 X 14 = 28\n",
            "2 X 15 = 30\n",
            "2 X 16 = 32\n",
            "2 X 17 = 34\n",
            "2 X 18 = 36\n",
            "2 X 19 = 38\n",
            "2 X 20 = 40\n",
            "2 X 21 = 42\n",
            "2 X 22 = 44\n",
            "2 X 23 = 46\n",
            "2 X 24 = 48\n",
            "2 X 25 = 50\n",
            "2 X 26 = 52\n",
            "2 X 27 = 54\n",
            "2 X 28 = 56\n",
            "2 X 29 = 58\n",
            "3 X 2 = 6\n",
            "3 X 3 = 9\n",
            "3 X 4 = 12\n",
            "3 X 5 = 15\n",
            "3 X 6 = 18\n",
            "3 X 7 = 21\n",
            "3 X 8 = 24\n",
            "3 X 9 = 27\n",
            "3 X 10 = 30\n",
            "3 X 11 = 33\n",
            "3 X 12 = 36\n",
            "3 X 13 = 39\n",
            "3 X 14 = 42\n",
            "3 X 15 = 45\n",
            "3 X 16 = 48\n",
            "3 X 17 = 51\n",
            "3 X 18 = 54\n",
            "3 X 19 = 57\n",
            "3 X 20 = 60\n",
            "3 X 21 = 63\n",
            "3 X 22 = 66\n",
            "3 X 23 = 69\n",
            "3 X 24 = 72\n",
            "3 X 25 = 75\n",
            "3 X 26 = 78\n",
            "3 X 27 = 81\n",
            "3 X 28 = 84\n",
            "3 X 29 = 87\n",
            "4 X 2 = 8\n",
            "4 X 3 = 12\n",
            "4 X 4 = 16\n",
            "4 X 5 = 20\n",
            "4 X 6 = 24\n",
            "4 X 7 = 28\n",
            "4 X 8 = 32\n",
            "4 X 9 = 36\n",
            "4 X 10 = 40\n",
            "4 X 11 = 44\n",
            "4 X 12 = 48\n",
            "4 X 13 = 52\n",
            "4 X 14 = 56\n",
            "4 X 15 = 60\n",
            "4 X 16 = 64\n",
            "4 X 17 = 68\n",
            "4 X 18 = 72\n",
            "4 X 19 = 76\n",
            "4 X 20 = 80\n",
            "4 X 21 = 84\n",
            "4 X 22 = 88\n",
            "4 X 23 = 92\n",
            "4 X 24 = 96\n",
            "4 X 25 = 100\n",
            "4 X 26 = 104\n",
            "4 X 27 = 108\n",
            "4 X 28 = 112\n",
            "4 X 29 = 116\n",
            "5 X 2 = 10\n",
            "5 X 3 = 15\n",
            "5 X 4 = 20\n",
            "5 X 5 = 25\n",
            "5 X 6 = 30\n",
            "5 X 7 = 35\n",
            "5 X 8 = 40\n",
            "5 X 9 = 45\n",
            "5 X 10 = 50\n",
            "5 X 11 = 55\n",
            "5 X 12 = 60\n",
            "5 X 13 = 65\n",
            "5 X 14 = 70\n",
            "5 X 15 = 75\n",
            "5 X 16 = 80\n",
            "5 X 17 = 85\n",
            "5 X 18 = 90\n",
            "5 X 19 = 95\n",
            "5 X 20 = 100\n",
            "5 X 21 = 105\n",
            "5 X 22 = 110\n",
            "5 X 23 = 115\n",
            "5 X 24 = 120\n",
            "5 X 25 = 125\n",
            "5 X 26 = 130\n",
            "5 X 27 = 135\n",
            "5 X 28 = 140\n",
            "5 X 29 = 145\n",
            "6 X 2 = 12\n",
            "6 X 3 = 18\n",
            "6 X 4 = 24\n",
            "6 X 5 = 30\n",
            "6 X 6 = 36\n",
            "6 X 7 = 42\n",
            "6 X 8 = 48\n",
            "6 X 9 = 54\n",
            "6 X 10 = 60\n",
            "6 X 11 = 66\n",
            "6 X 12 = 72\n",
            "6 X 13 = 78\n",
            "6 X 14 = 84\n",
            "6 X 15 = 90\n",
            "6 X 16 = 96\n",
            "6 X 17 = 102\n",
            "6 X 18 = 108\n",
            "6 X 19 = 114\n",
            "6 X 20 = 120\n",
            "6 X 21 = 126\n",
            "6 X 22 = 132\n",
            "6 X 23 = 138\n",
            "6 X 24 = 144\n",
            "6 X 25 = 150\n",
            "6 X 26 = 156\n",
            "6 X 27 = 162\n",
            "6 X 28 = 168\n",
            "6 X 29 = 174\n",
            "7 X 2 = 14\n",
            "7 X 3 = 21\n",
            "7 X 4 = 28\n",
            "7 X 5 = 35\n",
            "7 X 6 = 42\n",
            "7 X 7 = 49\n",
            "7 X 8 = 56\n",
            "7 X 9 = 63\n",
            "7 X 10 = 70\n",
            "7 X 11 = 77\n",
            "7 X 12 = 84\n",
            "7 X 13 = 91\n",
            "7 X 14 = 98\n",
            "7 X 15 = 105\n",
            "7 X 16 = 112\n",
            "7 X 17 = 119\n",
            "7 X 18 = 126\n",
            "7 X 19 = 133\n",
            "7 X 20 = 140\n",
            "7 X 21 = 147\n",
            "7 X 22 = 154\n",
            "7 X 23 = 161\n",
            "7 X 24 = 168\n",
            "7 X 25 = 175\n",
            "7 X 26 = 182\n",
            "7 X 27 = 189\n",
            "7 X 28 = 196\n",
            "7 X 29 = 203\n",
            "8 X 2 = 16\n",
            "8 X 3 = 24\n",
            "8 X 4 = 32\n",
            "8 X 5 = 40\n",
            "8 X 6 = 48\n",
            "8 X 7 = 56\n",
            "8 X 8 = 64\n",
            "8 X 9 = 72\n",
            "8 X 10 = 80\n",
            "8 X 11 = 88\n",
            "8 X 12 = 96\n",
            "8 X 13 = 104\n",
            "8 X 14 = 112\n",
            "8 X 15 = 120\n",
            "8 X 16 = 128\n",
            "8 X 17 = 136\n",
            "8 X 18 = 144\n",
            "8 X 19 = 152\n",
            "8 X 20 = 160\n",
            "8 X 21 = 168\n",
            "8 X 22 = 176\n",
            "8 X 23 = 184\n",
            "8 X 24 = 192\n",
            "8 X 25 = 200\n",
            "8 X 26 = 208\n",
            "8 X 27 = 216\n",
            "8 X 28 = 224\n",
            "8 X 29 = 232\n",
            "9 X 2 = 18\n",
            "9 X 3 = 27\n",
            "9 X 4 = 36\n",
            "9 X 5 = 45\n",
            "9 X 6 = 54\n",
            "9 X 7 = 63\n",
            "9 X 8 = 72\n",
            "9 X 9 = 81\n",
            "9 X 10 = 90\n",
            "9 X 11 = 99\n",
            "9 X 12 = 108\n",
            "9 X 13 = 117\n",
            "9 X 14 = 126\n",
            "9 X 15 = 135\n",
            "9 X 16 = 144\n",
            "9 X 17 = 153\n",
            "9 X 18 = 162\n",
            "9 X 19 = 171\n",
            "9 X 20 = 180\n",
            "9 X 21 = 189\n",
            "9 X 22 = 198\n",
            "9 X 23 = 207\n",
            "9 X 24 = 216\n",
            "9 X 25 = 225\n",
            "9 X 26 = 234\n",
            "9 X 27 = 243\n",
            "9 X 28 = 252\n",
            "9 X 29 = 261\n"
          ]
        }
      ]
    },
    {
      "cell_type": "code",
      "source": [
        "# while / else\n",
        "a = 0\n",
        "while a < 10:\n",
        "  a +=1\n",
        "  print(a)\n",
        "else :\n",
        "  print(\"끝\")"
      ],
      "metadata": {
        "colab": {
          "base_uri": "https://localhost:8080/"
        },
        "id": "kCKqfushjkks",
        "outputId": "b3b666ef-903d-4eea-ead6-6fbf390f5a52"
      },
      "execution_count": null,
      "outputs": [
        {
          "output_type": "stream",
          "name": "stdout",
          "text": [
            "1\n",
            "2\n",
            "3\n",
            "4\n",
            "5\n",
            "6\n",
            "7\n",
            "8\n",
            "9\n",
            "10\n",
            "끝\n"
          ]
        }
      ]
    },
    {
      "cell_type": "code",
      "source": [
        "# 기타 제어문\n",
        "\n",
        "# continue : 해당 단계만 건너뛰고 다음 단계로\n",
        "print(\"continue\")\n",
        "for i in range(5):\n",
        "  if i==3:\n",
        "    continue\n",
        "  print(i)\n",
        "\n",
        "# break : 제어문을 중단하고 빠져나감\n",
        "print(\"break\") \n",
        "for i in range(5):\n",
        "  if i==3:\n",
        "    break\n",
        "  print(i)\n",
        "\n",
        "# pass : 아무작업 하지 않음 (비워두기 용)\n",
        "print(\"pass\")\n",
        "for i in range(5):\n",
        "  if i==3:\n",
        "    pass\n",
        "  print(i)"
      ],
      "metadata": {
        "colab": {
          "base_uri": "https://localhost:8080/"
        },
        "id": "H7CMLkhwjlSk",
        "outputId": "e0fbcd65-4ab1-46cb-f1d0-5942dd1a64b4"
      },
      "execution_count": null,
      "outputs": [
        {
          "output_type": "stream",
          "name": "stdout",
          "text": [
            "continue\n",
            "0\n",
            "1\n",
            "2\n",
            "4\n",
            "break\n",
            "0\n",
            "1\n",
            "2\n",
            "pass\n",
            "0\n",
            "1\n",
            "2\n",
            "3\n",
            "4\n"
          ]
        }
      ]
    },
    {
      "cell_type": "code",
      "source": [
        "# 언더바(_)의 역할 : 반복을 수행하되 반복을 위한 변수의 값을 무시하고자 할때\n",
        "for _ in range(5):\n",
        "  print(\"Hello World\")"
      ],
      "metadata": {
        "colab": {
          "base_uri": "https://localhost:8080/"
        },
        "id": "Xe_2VSymrjlD",
        "outputId": "5ba26793-6b0d-46bd-8143-9c62d7c4216c"
      },
      "execution_count": null,
      "outputs": [
        {
          "output_type": "stream",
          "name": "stdout",
          "text": [
            "Hello World\n",
            "Hello World\n",
            "Hello World\n",
            "Hello World\n",
            "Hello World\n"
          ]
        }
      ]
    },
    {
      "cell_type": "markdown",
      "source": [
        "## 함수\n",
        "1. 사용자 정의 함수 : 내가 직접 만들어서 사용하는 함수 ex) def\n",
        "\n",
        "  - return : def의 결과값을 재사용할 수 있도록 \n",
        "\n",
        "\n",
        "2. 내장 함수 : 별도의 작업(import)을 하지 않아도 파이썬 자체의 기능으로 바로 사용할 수 있는 함수 ex) print(), type(), int() 등\n",
        "\n",
        "\n",
        "3. 외장 함수 : 별도의 작업(import)을 수행하여, 다른 사용자들이 만든 패키지를 사용할 수 있는 함수 ex) import random, numpy, matplotlib 등\n",
        "\n",
        "  - 기본 라이브러리 : 파이썬 설치 시 자동으로 설치되는 라이브러리\n",
        "\n",
        "  - 응용 라이브러리 : 따로 설치하여 사용하여야 하는 라이브러리로 계속 생성중"
      ],
      "metadata": {
        "id": "cEdccnXUpEAe"
      }
    },
    {
      "cell_type": "markdown",
      "source": [
        "## 1. 사용자 정의 함수"
      ],
      "metadata": {
        "id": "uJZBjlcLsZ-m"
      }
    },
    {
      "cell_type": "code",
      "source": [
        "# 문자형\n",
        "def 이름(a) :\n",
        "  print(\"나의 이름은 {}이다\".format(a))\n",
        "\n",
        "name = input(\"너의 이름은 무엇이니?\")\n",
        "이름(name)"
      ],
      "metadata": {
        "colab": {
          "base_uri": "https://localhost:8080/"
        },
        "id": "GRGllQTKwGwF",
        "outputId": "e22aca98-5cc7-4d8d-bcf2-e968be8f48b2"
      },
      "execution_count": null,
      "outputs": [
        {
          "output_type": "stream",
          "name": "stdout",
          "text": [
            "너의 이름은 무엇이니?shimjaeman\n",
            "나의 이름은 shimjaeman이다\n"
          ]
        }
      ]
    },
    {
      "cell_type": "code",
      "source": [
        "# 연산형\n",
        "def 숫자 (a,b) :\n",
        "  print(a+b)\n",
        "  print(a*b)\n",
        "  print(a/b)\n",
        "\n",
        "숫자 (1,2)\n",
        "숫자 (b=20, a = 10)"
      ],
      "metadata": {
        "colab": {
          "base_uri": "https://localhost:8080/"
        },
        "id": "DJ-4HnTascjH",
        "outputId": "c45b3ead-1b89-4377-80df-f733ac378896"
      },
      "execution_count": null,
      "outputs": [
        {
          "output_type": "stream",
          "name": "stdout",
          "text": [
            "3\n",
            "2\n",
            "0.5\n",
            "30\n",
            "200\n",
            "0.5\n"
          ]
        }
      ]
    },
    {
      "cell_type": "code",
      "source": [
        "# 함수 안에서 함수 밖의 변수 데이터 변경 (global)\n",
        "# 함수에 사용된 변수는 지역변수이기 때문에, 함수 바깥의 영역에서는 호출하여 사용할 수 없다.\n",
        "# 함수 안에서 만들어진 변수를 지역변수라고 하고, 함수 밖에서 만들어진 변수를 전역변수\n",
        "a = 0\n",
        "\n",
        "def func():\n",
        "    global a\n",
        "    a +=1\n",
        "\n",
        "for i in range(10):\n",
        "    func()\n",
        "\n",
        "print(a)"
      ],
      "metadata": {
        "colab": {
          "base_uri": "https://localhost:8080/"
        },
        "id": "ap3JvNbAhgk9",
        "outputId": "429075a7-a270-4010-ddad-c6eb989d1e02"
      },
      "execution_count": null,
      "outputs": [
        {
          "output_type": "stream",
          "name": "stdout",
          "text": [
            "10\n"
          ]
        }
      ]
    },
    {
      "cell_type": "code",
      "source": [
        "# 반환형\n",
        "def 제곱 (a,b) :\n",
        "  c=a**b\n",
        "  return c\n",
        "최종결과 = 제곱 (2,3)\n",
        "print(최종결과)"
      ],
      "metadata": {
        "colab": {
          "base_uri": "https://localhost:8080/"
        },
        "id": "uU-H0X_OvqSI",
        "outputId": "305eec6e-0d19-484d-cfbe-d43cd5c067f3"
      },
      "execution_count": null,
      "outputs": [
        {
          "output_type": "stream",
          "name": "stdout",
          "text": [
            "8\n"
          ]
        }
      ]
    },
    {
      "cell_type": "code",
      "source": [
        "# lambda 표현식\n",
        "print(\"기본 add() 메서드 사용\")\n",
        "\n",
        "def add(a,b):\n",
        "  print(\"a + b = %d\" % int(a+b)) \n",
        "\n",
        "add(2,3)\n",
        "print(\"*\"*30)\n",
        "\n",
        "print(\"람다 표현식 add() 메서드\")\n",
        "print(\"a + b =\", (lambda a,b : a+b)(2,3))"
      ],
      "metadata": {
        "colab": {
          "base_uri": "https://localhost:8080/"
        },
        "id": "m7Qbg6M9jpKV",
        "outputId": "4be8f0d2-5b0a-4c7e-e12a-b0a391ba1b31"
      },
      "execution_count": null,
      "outputs": [
        {
          "output_type": "stream",
          "name": "stdout",
          "text": [
            "기본 add() 메서드 사용\n",
            "a + b = 5\n",
            "******************************\n",
            "람다 표현식 add() 메서드\n",
            "a + b = 5\n"
          ]
        }
      ]
    },
    {
      "cell_type": "markdown",
      "source": [
        "## 2. 내장함수 "
      ],
      "metadata": {
        "id": "i5TPgpr4sIgP"
      }
    },
    {
      "cell_type": "markdown",
      "source": [
        "![python_builtin.png](data:image/png;base64,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)"
      ],
      "metadata": {
        "id": "t9LuwLlTuTRY"
      }
    },
    {
      "cell_type": "markdown",
      "source": [
        "https://blog.naver.com/PostView.nhn?isHttpsRedirect=true&blogId=ahalinux&logNo=221061172878&redirect=Dlog&widgetTypeCall=true&directAccess=false"
      ],
      "metadata": {
        "id": "iwiM-etMuhZC"
      }
    },
    {
      "cell_type": "markdown",
      "source": [
        "https://docs.python.org/ko/3/library/functions.html#func-bytearray"
      ],
      "metadata": {
        "id": "hlC-8jJkxzu9"
      }
    },
    {
      "cell_type": "markdown",
      "source": [
        "#### 입출력 함수"
      ],
      "metadata": {
        "id": "50Eo1p1Vk2W-"
      }
    },
    {
      "cell_type": "code",
      "source": [
        "# 입력을 위한 전형적인 소스 코드\n",
        "# list() : 입력받은 문자열을 띄어쓰기로 구분하여 각각 숫자 자료형으로 저장\n",
        "# Tip : 숫자로 입력하더라도 결괏값은 문자열로 반환\n",
        "data1 = list(map(int, input().split())) # input → split → map → list\n",
        "a, b, c = map(int, input().split()) # 공백으로 구분된 데이터의 개수가 적은 경우\n",
        "data1.sort(reverse=True)\n",
        "print(data1)\n",
        "print(a, b, c)"
      ],
      "metadata": {
        "colab": {
          "base_uri": "https://localhost:8080/"
        },
        "outputId": "45c1abd3-164e-4536-8bd6-76321217bfda",
        "id": "9AD91Mo1k2W_"
      },
      "execution_count": null,
      "outputs": [
        {
          "output_type": "stream",
          "name": "stdout",
          "text": [
            "11 23 112 3232\n",
            "33 22 11\n",
            "[3232, 112, 23, 11]\n",
            "33 22 11\n"
          ]
        }
      ]
    },
    {
      "cell_type": "code",
      "source": [
        "# 빠른 입력을 위한 라이브러리 (sys.stdin.readline().rstrip())\n",
        "# import sys : 파이썬 인터프리터가 제공하는 변수와 함수를 직접 제어할 수 있게 해주는 모듈\n",
        "# rstrip() : 오른쪽 공백 문자를 제거하기위해 필수로 사용\n",
        "import sys\n",
        "\n",
        "data = sys.stdin.readline().rstrip()\n",
        "print(data)"
      ],
      "metadata": {
        "colab": {
          "base_uri": "https://localhost:8080/"
        },
        "id": "dtbHAJ_Cmhbm",
        "outputId": "3cb70001-0d16-42a1-ef31-936744d95c56"
      },
      "execution_count": null,
      "outputs": [
        {
          "output_type": "stream",
          "name": "stdout",
          "text": [
            "\n"
          ]
        }
      ]
    },
    {
      "cell_type": "code",
      "source": [
        "# 출력 소스코드\n",
        "answer = 7\n",
        "print(\"*\"*15, \"기본 출력포멧\", \"*\"*15)\n",
        "print(\"정답은 \" + str(answer) + \"입니다.\")\n",
        "print(\"정답은\", str(answer), \"입니다.\")\n",
        "\n",
        "print(\"*\"*15, \"format 사용\", \"*\"*15)\n",
        "print(\"정답은 {}입니다.\".format(str(answer))) # format 문법\n",
        "print(\"국어 정답은 {}이고, 수학 정답은 {}입니다.\". format(\"20\", \"30\"))\n",
        "print(\"국어 정답은 {1}이고, 수학 정답은 {0}입니다.\". format(\"20\", \"30\")) # format(0, 1)\n",
        "print(\"나는 {age}살이고, 어떠한 {animal}을 좋아해요\".format(age=\"20\", animal=\"dog\"))\n",
        "\n",
        "print(\"*\"*15, \"% 출력 타입 사용\", \"*\"*15)\n",
        "print(\"정답은 %c입니다.\" % str(answer)) # % 출력 타입 (%d [정수] / %c [문자] / %s [문자열])\n",
        "print(\"국어 정답은 %s이고, 수학 정답은 %s입니다.\" % (\"20\", \"39\") )\n",
        "\n",
        "print(\"*\"*15, \"f-string문법 사용\", \"*\"*15) # v.3.6이상\n",
        "age=\"20\"\n",
        "animal=\"dog\"\n",
        "print(f\"정답은 {str(answer)}입니다.\") # f-string문법\n",
        "print(f\"나는 {age}살이고, 어떠한 {animal}을 좋아해요.\")"
      ],
      "metadata": {
        "colab": {
          "base_uri": "https://localhost:8080/"
        },
        "id": "QNOlBNqnoAAP",
        "outputId": "a096cdba-ab2c-49ff-9a86-0b0d9ffea991"
      },
      "execution_count": null,
      "outputs": [
        {
          "output_type": "stream",
          "name": "stdout",
          "text": [
            "*************** 기본 출력포멧 ***************\n",
            "정답은 7입니다.\n",
            "정답은 7 입니다.\n",
            "*************** format 사용 ***************\n",
            "정답은 7입니다.\n",
            "국어 정답은 20이고, 수학 정답은 30입니다.\n",
            "국어 정답은 30이고, 수학 정답은 20입니다.\n",
            "나는 20살이고, 어떠한 dog을 좋아해요\n",
            "*************** % 출력 타입 사용 ***************\n",
            "정답은 7입니다.\n",
            "국어 정답은 20이고, 수학 정답은 39입니다.\n",
            "*************** f-string문법 사용 ***************\n",
            "정답은 7입니다.\n",
            "나는 20살이고, 어떠한 dog을 좋아해요.\n"
          ]
        }
      ]
    },
    {
      "cell_type": "code",
      "source": [
        ""
      ],
      "metadata": {
        "id": "iK4SrseR-EY1"
      },
      "execution_count": null,
      "outputs": []
    },
    {
      "cell_type": "markdown",
      "source": [
        "#### 숫자 계산 함수"
      ],
      "metadata": {
        "id": "yCx03u3Bciy9"
      }
    },
    {
      "cell_type": "code",
      "source": [
        "data1={\"age\" :[32,32,31,12,59,23,23,32,52], \"sex\":[\"남\", \"여\",\"남\",\"여\",\"남\",\"남\",\"여\",\"남\", np.nan]}\n",
        "\n",
        "데이터 = pd.DataFrame(data1)\n",
        "print(데이터)"
      ],
      "metadata": {
        "colab": {
          "base_uri": "https://localhost:8080/"
        },
        "id": "y1npuAxxcvrt",
        "outputId": "87aadfcb-23da-4636-e65a-717c7e691093"
      },
      "execution_count": null,
      "outputs": [
        {
          "output_type": "stream",
          "name": "stdout",
          "text": [
            "   age  sex\n",
            "0   32    남\n",
            "1   32    여\n",
            "2   31    남\n",
            "3   12    여\n",
            "4   59    남\n",
            "5   23    남\n",
            "6   23    여\n",
            "7   32    남\n",
            "8   52  NaN\n"
          ]
        }
      ]
    },
    {
      "cell_type": "code",
      "source": [
        "# 1. 합 (sum)\n",
        "print(데이터[\"age\"].sum())\n",
        "print(sum(데이터[\"age\"]))\n",
        "\n",
        "# 2. 최댓값 (max)\n",
        "print(데이터[\"age\"].max())\n",
        "print(max(데이터[\"age\"]))\n",
        "\n",
        "# 3. 최솟값 (min)\n",
        "print(데이터[\"age\"].min())\n",
        "print(min(데이터[\"age\"]))\n",
        "\n",
        "# 4. 분산 (var)\n",
        "print(데이터[\"age\"].var())\n",
        "\n",
        "# 5. 평균 (mean)\n",
        "print(데이터[\"age\"].mean())\n",
        "\n",
        "# 6. 중위값 (median)\n",
        "print(데이터[\"age\"].median())\n",
        "\n",
        "# 7. 표준편차 (std)\n",
        "print(데이터[\"age\"].std())\n",
        "\n",
        "# 8. 사분위수 (quantile)\n",
        "print(데이터[\"age\"].quantile(0.25)) # 제 1사분위수\n",
        "print(데이터[\"age\"].quantile(0.5)) # 제 2사분위수\n",
        "print(데이터[\"age\"].quantile(0.75)) # 제 3사분위수\n",
        "\n",
        "# 9. 최빈값 (mode)\n",
        "from scipy.stats import mode\n",
        "print(데이터[\"age\"].mode())"
      ],
      "metadata": {
        "colab": {
          "base_uri": "https://localhost:8080/"
        },
        "id": "ThSs8Jx-cvwW",
        "outputId": "34e1c606-8e4c-4900-cfb0-f9215b7e0877"
      },
      "execution_count": null,
      "outputs": [
        {
          "output_type": "stream",
          "name": "stdout",
          "text": [
            "296\n",
            "296\n",
            "59\n",
            "59\n",
            "12\n",
            "12\n",
            "210.61111111111111\n",
            "32.888888888888886\n",
            "32.0\n",
            "14.512446765143055\n",
            "23.0\n",
            "32.0\n",
            "32.0\n",
            "0    32\n",
            "dtype: int64\n"
          ]
        }
      ]
    },
    {
      "cell_type": "code",
      "source": [
        "from math import * # 올림 함수 (ceil) / 내림 함수 (floor)는 math 라이브러리 필수\n",
        "new_data = 3.1432542\n",
        "# 1. 제곱 (pow)\n",
        "print(pow(new_data, 2))\n",
        "\n",
        "# 2. 반올림 (round) \n",
        "print(round(new_data, 3))\n",
        "\n",
        "# 3. 올림 함수 (ceil) \n",
        "print(ceil(new_data))\n",
        "\n",
        "# 4. 내림 함수 (floor)\n",
        "print(floor(new_data))\n",
        "\n",
        "# 5. 절대값 (abs)\n",
        "print(abs(new_data))\n",
        "\n",
        "# 6. 제곱근 (sqrt)\n",
        "print(sqrt(new_data))"
      ],
      "metadata": {
        "colab": {
          "base_uri": "https://localhost:8080/"
        },
        "id": "Sg_VflmvoRBG",
        "outputId": "9e1f2627-c609-4ca0-f6ce-1a79377a1093"
      },
      "execution_count": null,
      "outputs": [
        {
          "output_type": "stream",
          "name": "stdout",
          "text": [
            "9.88004696581764\n",
            "3.143\n",
            "4\n",
            "3\n",
            "3.1432542\n",
            "1.7729225025364193\n"
          ]
        }
      ]
    },
    {
      "cell_type": "markdown",
      "source": [
        "#### 겉모습 확인 함수"
      ],
      "metadata": {
        "id": "vgtaOcFDrGqv"
      }
    },
    {
      "cell_type": "code",
      "source": [
        "# 모양 확인 (shape)\n",
        "# 데이터.shape : 주의 [shape의 경우 괄호 없이 shape만 사용]\n",
        "데이터.shape"
      ],
      "metadata": {
        "colab": {
          "base_uri": "https://localhost:8080/"
        },
        "id": "LLd_JlKNrKE5",
        "outputId": "f1732d57-28f1-4dcb-bf6a-69fe63707f63"
      },
      "execution_count": null,
      "outputs": [
        {
          "output_type": "execute_result",
          "data": {
            "text/plain": [
              "(9, 2)"
            ]
          },
          "metadata": {},
          "execution_count": 66
        }
      ]
    },
    {
      "cell_type": "code",
      "source": [
        "# 길이 구하기 (len) :  len()\n",
        "print(len(데이터))\n",
        "print(len(\"tlawoaksdk\"))\n",
        "# print(len(31321231412)) : 문자열의 길이를 알려주는 함수로 숫자형의 경우 에러 발생"
      ],
      "metadata": {
        "colab": {
          "base_uri": "https://localhost:8080/"
        },
        "id": "-HS0En9nrKNf",
        "outputId": "91e89a4d-104b-4f7e-da76-e4da44916f22"
      },
      "execution_count": null,
      "outputs": [
        {
          "output_type": "stream",
          "name": "stdout",
          "text": [
            "9\n",
            "10\n"
          ]
        }
      ]
    },
    {
      "cell_type": "code",
      "source": [
        "# 사이즈 구하기 (size) : 괄호 없이 size만 사용\n",
        "# 8행 2열 = 16\n",
        "데이터.size"
      ],
      "metadata": {
        "colab": {
          "base_uri": "https://localhost:8080/"
        },
        "id": "I1qtGeTprKVy",
        "outputId": "bee2ba8e-68f9-4221-db44-519b30280550"
      },
      "execution_count": null,
      "outputs": [
        {
          "output_type": "execute_result",
          "data": {
            "text/plain": [
              "18"
            ]
          },
          "metadata": {},
          "execution_count": 68
        }
      ]
    },
    {
      "cell_type": "code",
      "source": [
        "# 상위 데이터 가져오기 (head)\n",
        "# 비어 있는 괄호 : 5개 데이터 추출 / head (데이터 갯수 지정)\n",
        "데이터.head()"
      ],
      "metadata": {
        "colab": {
          "base_uri": "https://localhost:8080/",
          "height": 206
        },
        "id": "E8T9WLsGrKcO",
        "outputId": "672f75a9-b585-4042-afe5-e1a654904ded"
      },
      "execution_count": null,
      "outputs": [
        {
          "output_type": "execute_result",
          "data": {
            "text/plain": [
              "   age sex\n",
              "0   32   남\n",
              "1   32   여\n",
              "2   31   남\n",
              "3   12   여\n",
              "4   59   남"
            ],
            "text/html": [
              "\n",
              "  <div id=\"df-9ea5a72e-bc46-4b74-9e73-0c77d5090693\">\n",
              "    <div class=\"colab-df-container\">\n",
              "      <div>\n",
              "<style scoped>\n",
              "    .dataframe tbody tr th:only-of-type {\n",
              "        vertical-align: middle;\n",
              "    }\n",
              "\n",
              "    .dataframe tbody tr th {\n",
              "        vertical-align: top;\n",
              "    }\n",
              "\n",
              "    .dataframe thead th {\n",
              "        text-align: right;\n",
              "    }\n",
              "</style>\n",
              "<table border=\"1\" class=\"dataframe\">\n",
              "  <thead>\n",
              "    <tr style=\"text-align: right;\">\n",
              "      <th></th>\n",
              "      <th>age</th>\n",
              "      <th>sex</th>\n",
              "    </tr>\n",
              "  </thead>\n",
              "  <tbody>\n",
              "    <tr>\n",
              "      <th>0</th>\n",
              "      <td>32</td>\n",
              "      <td>남</td>\n",
              "    </tr>\n",
              "    <tr>\n",
              "      <th>1</th>\n",
              "      <td>32</td>\n",
              "      <td>여</td>\n",
              "    </tr>\n",
              "    <tr>\n",
              "      <th>2</th>\n",
              "      <td>31</td>\n",
              "      <td>남</td>\n",
              "    </tr>\n",
              "    <tr>\n",
              "      <th>3</th>\n",
              "      <td>12</td>\n",
              "      <td>여</td>\n",
              "    </tr>\n",
              "    <tr>\n",
              "      <th>4</th>\n",
              "      <td>59</td>\n",
              "      <td>남</td>\n",
              "    </tr>\n",
              "  </tbody>\n",
              "</table>\n",
              "</div>\n",
              "      <button class=\"colab-df-convert\" onclick=\"convertToInteractive('df-9ea5a72e-bc46-4b74-9e73-0c77d5090693')\"\n",
              "              title=\"Convert this dataframe to an interactive table.\"\n",
              "              style=\"display:none;\">\n",
              "        \n",
              "  <svg xmlns=\"http://www.w3.org/2000/svg\" height=\"24px\"viewBox=\"0 0 24 24\"\n",
              "       width=\"24px\">\n",
              "    <path d=\"M0 0h24v24H0V0z\" fill=\"none\"/>\n",
              "    <path d=\"M18.56 5.44l.94 2.06.94-2.06 2.06-.94-2.06-.94-.94-2.06-.94 2.06-2.06.94zm-11 1L8.5 8.5l.94-2.06 2.06-.94-2.06-.94L8.5 2.5l-.94 2.06-2.06.94zm10 10l.94 2.06.94-2.06 2.06-.94-2.06-.94-.94-2.06-.94 2.06-2.06.94z\"/><path d=\"M17.41 7.96l-1.37-1.37c-.4-.4-.92-.59-1.43-.59-.52 0-1.04.2-1.43.59L10.3 9.45l-7.72 7.72c-.78.78-.78 2.05 0 2.83L4 21.41c.39.39.9.59 1.41.59.51 0 1.02-.2 1.41-.59l7.78-7.78 2.81-2.81c.8-.78.8-2.07 0-2.86zM5.41 20L4 18.59l7.72-7.72 1.47 1.35L5.41 20z\"/>\n",
              "  </svg>\n",
              "      </button>\n",
              "      \n",
              "  <style>\n",
              "    .colab-df-container {\n",
              "      display:flex;\n",
              "      flex-wrap:wrap;\n",
              "      gap: 12px;\n",
              "    }\n",
              "\n",
              "    .colab-df-convert {\n",
              "      background-color: #E8F0FE;\n",
              "      border: none;\n",
              "      border-radius: 50%;\n",
              "      cursor: pointer;\n",
              "      display: none;\n",
              "      fill: #1967D2;\n",
              "      height: 32px;\n",
              "      padding: 0 0 0 0;\n",
              "      width: 32px;\n",
              "    }\n",
              "\n",
              "    .colab-df-convert:hover {\n",
              "      background-color: #E2EBFA;\n",
              "      box-shadow: 0px 1px 2px rgba(60, 64, 67, 0.3), 0px 1px 3px 1px rgba(60, 64, 67, 0.15);\n",
              "      fill: #174EA6;\n",
              "    }\n",
              "\n",
              "    [theme=dark] .colab-df-convert {\n",
              "      background-color: #3B4455;\n",
              "      fill: #D2E3FC;\n",
              "    }\n",
              "\n",
              "    [theme=dark] .colab-df-convert:hover {\n",
              "      background-color: #434B5C;\n",
              "      box-shadow: 0px 1px 3px 1px rgba(0, 0, 0, 0.15);\n",
              "      filter: drop-shadow(0px 1px 2px rgba(0, 0, 0, 0.3));\n",
              "      fill: #FFFFFF;\n",
              "    }\n",
              "  </style>\n",
              "\n",
              "      <script>\n",
              "        const buttonEl =\n",
              "          document.querySelector('#df-9ea5a72e-bc46-4b74-9e73-0c77d5090693 button.colab-df-convert');\n",
              "        buttonEl.style.display =\n",
              "          google.colab.kernel.accessAllowed ? 'block' : 'none';\n",
              "\n",
              "        async function convertToInteractive(key) {\n",
              "          const element = document.querySelector('#df-9ea5a72e-bc46-4b74-9e73-0c77d5090693');\n",
              "          const dataTable =\n",
              "            await google.colab.kernel.invokeFunction('convertToInteractive',\n",
              "                                                     [key], {});\n",
              "          if (!dataTable) return;\n",
              "\n",
              "          const docLinkHtml = 'Like what you see? Visit the ' +\n",
              "            '<a target=\"_blank\" href=https://colab.research.google.com/notebooks/data_table.ipynb>data table notebook</a>'\n",
              "            + ' to learn more about interactive tables.';\n",
              "          element.innerHTML = '';\n",
              "          dataTable['output_type'] = 'display_data';\n",
              "          await google.colab.output.renderOutput(dataTable, element);\n",
              "          const docLink = document.createElement('div');\n",
              "          docLink.innerHTML = docLinkHtml;\n",
              "          element.appendChild(docLink);\n",
              "        }\n",
              "      </script>\n",
              "    </div>\n",
              "  </div>\n",
              "  "
            ]
          },
          "metadata": {},
          "execution_count": 69
        }
      ]
    },
    {
      "cell_type": "code",
      "source": [
        "# 하위 데이터 가져오기 (tail)\n",
        "# 비어 있는 괄호 : 5개 데이터 추출 / tail (데이터 갯수 지정)\n",
        "데이터.tail()"
      ],
      "metadata": {
        "colab": {
          "base_uri": "https://localhost:8080/",
          "height": 206
        },
        "id": "oRlA3vSurKfy",
        "outputId": "05e2c7f9-9739-4f75-f446-bf4147ad9338"
      },
      "execution_count": null,
      "outputs": [
        {
          "output_type": "execute_result",
          "data": {
            "text/plain": [
              "   age  sex\n",
              "4   59    남\n",
              "5   23    남\n",
              "6   23    여\n",
              "7   32    남\n",
              "8   52  NaN"
            ],
            "text/html": [
              "\n",
              "  <div id=\"df-9eb6400c-6252-4979-a5f9-6cfee1c28ff5\">\n",
              "    <div class=\"colab-df-container\">\n",
              "      <div>\n",
              "<style scoped>\n",
              "    .dataframe tbody tr th:only-of-type {\n",
              "        vertical-align: middle;\n",
              "    }\n",
              "\n",
              "    .dataframe tbody tr th {\n",
              "        vertical-align: top;\n",
              "    }\n",
              "\n",
              "    .dataframe thead th {\n",
              "        text-align: right;\n",
              "    }\n",
              "</style>\n",
              "<table border=\"1\" class=\"dataframe\">\n",
              "  <thead>\n",
              "    <tr style=\"text-align: right;\">\n",
              "      <th></th>\n",
              "      <th>age</th>\n",
              "      <th>sex</th>\n",
              "    </tr>\n",
              "  </thead>\n",
              "  <tbody>\n",
              "    <tr>\n",
              "      <th>4</th>\n",
              "      <td>59</td>\n",
              "      <td>남</td>\n",
              "    </tr>\n",
              "    <tr>\n",
              "      <th>5</th>\n",
              "      <td>23</td>\n",
              "      <td>남</td>\n",
              "    </tr>\n",
              "    <tr>\n",
              "      <th>6</th>\n",
              "      <td>23</td>\n",
              "      <td>여</td>\n",
              "    </tr>\n",
              "    <tr>\n",
              "      <th>7</th>\n",
              "      <td>32</td>\n",
              "      <td>남</td>\n",
              "    </tr>\n",
              "    <tr>\n",
              "      <th>8</th>\n",
              "      <td>52</td>\n",
              "      <td>NaN</td>\n",
              "    </tr>\n",
              "  </tbody>\n",
              "</table>\n",
              "</div>\n",
              "      <button class=\"colab-df-convert\" onclick=\"convertToInteractive('df-9eb6400c-6252-4979-a5f9-6cfee1c28ff5')\"\n",
              "              title=\"Convert this dataframe to an interactive table.\"\n",
              "              style=\"display:none;\">\n",
              "        \n",
              "  <svg xmlns=\"http://www.w3.org/2000/svg\" height=\"24px\"viewBox=\"0 0 24 24\"\n",
              "       width=\"24px\">\n",
              "    <path d=\"M0 0h24v24H0V0z\" fill=\"none\"/>\n",
              "    <path d=\"M18.56 5.44l.94 2.06.94-2.06 2.06-.94-2.06-.94-.94-2.06-.94 2.06-2.06.94zm-11 1L8.5 8.5l.94-2.06 2.06-.94-2.06-.94L8.5 2.5l-.94 2.06-2.06.94zm10 10l.94 2.06.94-2.06 2.06-.94-2.06-.94-.94-2.06-.94 2.06-2.06.94z\"/><path d=\"M17.41 7.96l-1.37-1.37c-.4-.4-.92-.59-1.43-.59-.52 0-1.04.2-1.43.59L10.3 9.45l-7.72 7.72c-.78.78-.78 2.05 0 2.83L4 21.41c.39.39.9.59 1.41.59.51 0 1.02-.2 1.41-.59l7.78-7.78 2.81-2.81c.8-.78.8-2.07 0-2.86zM5.41 20L4 18.59l7.72-7.72 1.47 1.35L5.41 20z\"/>\n",
              "  </svg>\n",
              "      </button>\n",
              "      \n",
              "  <style>\n",
              "    .colab-df-container {\n",
              "      display:flex;\n",
              "      flex-wrap:wrap;\n",
              "      gap: 12px;\n",
              "    }\n",
              "\n",
              "    .colab-df-convert {\n",
              "      background-color: #E8F0FE;\n",
              "      border: none;\n",
              "      border-radius: 50%;\n",
              "      cursor: pointer;\n",
              "      display: none;\n",
              "      fill: #1967D2;\n",
              "      height: 32px;\n",
              "      padding: 0 0 0 0;\n",
              "      width: 32px;\n",
              "    }\n",
              "\n",
              "    .colab-df-convert:hover {\n",
              "      background-color: #E2EBFA;\n",
              "      box-shadow: 0px 1px 2px rgba(60, 64, 67, 0.3), 0px 1px 3px 1px rgba(60, 64, 67, 0.15);\n",
              "      fill: #174EA6;\n",
              "    }\n",
              "\n",
              "    [theme=dark] .colab-df-convert {\n",
              "      background-color: #3B4455;\n",
              "      fill: #D2E3FC;\n",
              "    }\n",
              "\n",
              "    [theme=dark] .colab-df-convert:hover {\n",
              "      background-color: #434B5C;\n",
              "      box-shadow: 0px 1px 3px 1px rgba(0, 0, 0, 0.15);\n",
              "      filter: drop-shadow(0px 1px 2px rgba(0, 0, 0, 0.3));\n",
              "      fill: #FFFFFF;\n",
              "    }\n",
              "  </style>\n",
              "\n",
              "      <script>\n",
              "        const buttonEl =\n",
              "          document.querySelector('#df-9eb6400c-6252-4979-a5f9-6cfee1c28ff5 button.colab-df-convert');\n",
              "        buttonEl.style.display =\n",
              "          google.colab.kernel.accessAllowed ? 'block' : 'none';\n",
              "\n",
              "        async function convertToInteractive(key) {\n",
              "          const element = document.querySelector('#df-9eb6400c-6252-4979-a5f9-6cfee1c28ff5');\n",
              "          const dataTable =\n",
              "            await google.colab.kernel.invokeFunction('convertToInteractive',\n",
              "                                                     [key], {});\n",
              "          if (!dataTable) return;\n",
              "\n",
              "          const docLinkHtml = 'Like what you see? Visit the ' +\n",
              "            '<a target=\"_blank\" href=https://colab.research.google.com/notebooks/data_table.ipynb>data table notebook</a>'\n",
              "            + ' to learn more about interactive tables.';\n",
              "          element.innerHTML = '';\n",
              "          dataTable['output_type'] = 'display_data';\n",
              "          await google.colab.output.renderOutput(dataTable, element);\n",
              "          const docLink = document.createElement('div');\n",
              "          docLink.innerHTML = docLinkHtml;\n",
              "          element.appendChild(docLink);\n",
              "        }\n",
              "      </script>\n",
              "    </div>\n",
              "  </div>\n",
              "  "
            ]
          },
          "metadata": {},
          "execution_count": 70
        }
      ]
    },
    {
      "cell_type": "code",
      "source": [
        "# 행과 열 이름 구하기\n",
        "print(데이터.columns)\n",
        "print(데이터.index)"
      ],
      "metadata": {
        "colab": {
          "base_uri": "https://localhost:8080/"
        },
        "id": "ysNnz7mIrKiq",
        "outputId": "3f582af7-6387-4ed7-90af-ad18393a6868"
      },
      "execution_count": null,
      "outputs": [
        {
          "output_type": "stream",
          "name": "stdout",
          "text": [
            "Index(['age', 'sex'], dtype='object')\n",
            "RangeIndex(start=0, stop=9, step=1)\n"
          ]
        }
      ]
    },
    {
      "cell_type": "markdown",
      "source": [
        "#### 데이터 요약 함수"
      ],
      "metadata": {
        "id": "KgLDosyLv-tG"
      }
    },
    {
      "cell_type": "code",
      "source": [
        "# 값의 개수 세기 (value_counts)\n",
        "데이터[\"sex\"].value_counts()"
      ],
      "metadata": {
        "colab": {
          "base_uri": "https://localhost:8080/"
        },
        "id": "FjiAxqqLyN0x",
        "outputId": "99567b0b-860d-44d1-e9b6-2fb021125869"
      },
      "execution_count": null,
      "outputs": [
        {
          "output_type": "execute_result",
          "data": {
            "text/plain": [
              "남    5\n",
              "여    3\n",
              "Name: sex, dtype: int64"
            ]
          },
          "metadata": {},
          "execution_count": 72
        }
      ]
    },
    {
      "cell_type": "code",
      "source": [
        "# 유일한 값 확인 (unique)\n",
        "데이터[\"sex\"].unique()"
      ],
      "metadata": {
        "colab": {
          "base_uri": "https://localhost:8080/"
        },
        "id": "7dDEWfmxyeNm",
        "outputId": "5111a2c8-74a9-48a6-f54d-96aa33532126"
      },
      "execution_count": null,
      "outputs": [
        {
          "output_type": "execute_result",
          "data": {
            "text/plain": [
              "array(['남', '여', nan], dtype=object)"
            ]
          },
          "metadata": {},
          "execution_count": 73
        }
      ]
    },
    {
      "cell_type": "code",
      "source": [
        "# unll 여부 확인 (isnull)\n",
        "데이터.isnull()"
      ],
      "metadata": {
        "colab": {
          "base_uri": "https://localhost:8080/",
          "height": 332
        },
        "id": "SUGh6vQSymP8",
        "outputId": "71bceffb-a108-48f0-f119-ba89150f223f"
      },
      "execution_count": null,
      "outputs": [
        {
          "output_type": "execute_result",
          "data": {
            "text/plain": [
              "     age    sex\n",
              "0  False  False\n",
              "1  False  False\n",
              "2  False  False\n",
              "3  False  False\n",
              "4  False  False\n",
              "5  False  False\n",
              "6  False  False\n",
              "7  False  False\n",
              "8  False   True"
            ],
            "text/html": [
              "\n",
              "  <div id=\"df-1e96f34f-8391-42d1-8798-c5cf2ae4a4ed\">\n",
              "    <div class=\"colab-df-container\">\n",
              "      <div>\n",
              "<style scoped>\n",
              "    .dataframe tbody tr th:only-of-type {\n",
              "        vertical-align: middle;\n",
              "    }\n",
              "\n",
              "    .dataframe tbody tr th {\n",
              "        vertical-align: top;\n",
              "    }\n",
              "\n",
              "    .dataframe thead th {\n",
              "        text-align: right;\n",
              "    }\n",
              "</style>\n",
              "<table border=\"1\" class=\"dataframe\">\n",
              "  <thead>\n",
              "    <tr style=\"text-align: right;\">\n",
              "      <th></th>\n",
              "      <th>age</th>\n",
              "      <th>sex</th>\n",
              "    </tr>\n",
              "  </thead>\n",
              "  <tbody>\n",
              "    <tr>\n",
              "      <th>0</th>\n",
              "      <td>False</td>\n",
              "      <td>False</td>\n",
              "    </tr>\n",
              "    <tr>\n",
              "      <th>1</th>\n",
              "      <td>False</td>\n",
              "      <td>False</td>\n",
              "    </tr>\n",
              "    <tr>\n",
              "      <th>2</th>\n",
              "      <td>False</td>\n",
              "      <td>False</td>\n",
              "    </tr>\n",
              "    <tr>\n",
              "      <th>3</th>\n",
              "      <td>False</td>\n",
              "      <td>False</td>\n",
              "    </tr>\n",
              "    <tr>\n",
              "      <th>4</th>\n",
              "      <td>False</td>\n",
              "      <td>False</td>\n",
              "    </tr>\n",
              "    <tr>\n",
              "      <th>5</th>\n",
              "      <td>False</td>\n",
              "      <td>False</td>\n",
              "    </tr>\n",
              "    <tr>\n",
              "      <th>6</th>\n",
              "      <td>False</td>\n",
              "      <td>False</td>\n",
              "    </tr>\n",
              "    <tr>\n",
              "      <th>7</th>\n",
              "      <td>False</td>\n",
              "      <td>False</td>\n",
              "    </tr>\n",
              "    <tr>\n",
              "      <th>8</th>\n",
              "      <td>False</td>\n",
              "      <td>True</td>\n",
              "    </tr>\n",
              "  </tbody>\n",
              "</table>\n",
              "</div>\n",
              "      <button class=\"colab-df-convert\" onclick=\"convertToInteractive('df-1e96f34f-8391-42d1-8798-c5cf2ae4a4ed')\"\n",
              "              title=\"Convert this dataframe to an interactive table.\"\n",
              "              style=\"display:none;\">\n",
              "        \n",
              "  <svg xmlns=\"http://www.w3.org/2000/svg\" height=\"24px\"viewBox=\"0 0 24 24\"\n",
              "       width=\"24px\">\n",
              "    <path d=\"M0 0h24v24H0V0z\" fill=\"none\"/>\n",
              "    <path d=\"M18.56 5.44l.94 2.06.94-2.06 2.06-.94-2.06-.94-.94-2.06-.94 2.06-2.06.94zm-11 1L8.5 8.5l.94-2.06 2.06-.94-2.06-.94L8.5 2.5l-.94 2.06-2.06.94zm10 10l.94 2.06.94-2.06 2.06-.94-2.06-.94-.94-2.06-.94 2.06-2.06.94z\"/><path d=\"M17.41 7.96l-1.37-1.37c-.4-.4-.92-.59-1.43-.59-.52 0-1.04.2-1.43.59L10.3 9.45l-7.72 7.72c-.78.78-.78 2.05 0 2.83L4 21.41c.39.39.9.59 1.41.59.51 0 1.02-.2 1.41-.59l7.78-7.78 2.81-2.81c.8-.78.8-2.07 0-2.86zM5.41 20L4 18.59l7.72-7.72 1.47 1.35L5.41 20z\"/>\n",
              "  </svg>\n",
              "      </button>\n",
              "      \n",
              "  <style>\n",
              "    .colab-df-container {\n",
              "      display:flex;\n",
              "      flex-wrap:wrap;\n",
              "      gap: 12px;\n",
              "    }\n",
              "\n",
              "    .colab-df-convert {\n",
              "      background-color: #E8F0FE;\n",
              "      border: none;\n",
              "      border-radius: 50%;\n",
              "      cursor: pointer;\n",
              "      display: none;\n",
              "      fill: #1967D2;\n",
              "      height: 32px;\n",
              "      padding: 0 0 0 0;\n",
              "      width: 32px;\n",
              "    }\n",
              "\n",
              "    .colab-df-convert:hover {\n",
              "      background-color: #E2EBFA;\n",
              "      box-shadow: 0px 1px 2px rgba(60, 64, 67, 0.3), 0px 1px 3px 1px rgba(60, 64, 67, 0.15);\n",
              "      fill: #174EA6;\n",
              "    }\n",
              "\n",
              "    [theme=dark] .colab-df-convert {\n",
              "      background-color: #3B4455;\n",
              "      fill: #D2E3FC;\n",
              "    }\n",
              "\n",
              "    [theme=dark] .colab-df-convert:hover {\n",
              "      background-color: #434B5C;\n",
              "      box-shadow: 0px 1px 3px 1px rgba(0, 0, 0, 0.15);\n",
              "      filter: drop-shadow(0px 1px 2px rgba(0, 0, 0, 0.3));\n",
              "      fill: #FFFFFF;\n",
              "    }\n",
              "  </style>\n",
              "\n",
              "      <script>\n",
              "        const buttonEl =\n",
              "          document.querySelector('#df-1e96f34f-8391-42d1-8798-c5cf2ae4a4ed button.colab-df-convert');\n",
              "        buttonEl.style.display =\n",
              "          google.colab.kernel.accessAllowed ? 'block' : 'none';\n",
              "\n",
              "        async function convertToInteractive(key) {\n",
              "          const element = document.querySelector('#df-1e96f34f-8391-42d1-8798-c5cf2ae4a4ed');\n",
              "          const dataTable =\n",
              "            await google.colab.kernel.invokeFunction('convertToInteractive',\n",
              "                                                     [key], {});\n",
              "          if (!dataTable) return;\n",
              "\n",
              "          const docLinkHtml = 'Like what you see? Visit the ' +\n",
              "            '<a target=\"_blank\" href=https://colab.research.google.com/notebooks/data_table.ipynb>data table notebook</a>'\n",
              "            + ' to learn more about interactive tables.';\n",
              "          element.innerHTML = '';\n",
              "          dataTable['output_type'] = 'display_data';\n",
              "          await google.colab.output.renderOutput(dataTable, element);\n",
              "          const docLink = document.createElement('div');\n",
              "          docLink.innerHTML = docLinkHtml;\n",
              "          element.appendChild(docLink);\n",
              "        }\n",
              "      </script>\n",
              "    </div>\n",
              "  </div>\n",
              "  "
            ]
          },
          "metadata": {},
          "execution_count": 74
        }
      ]
    },
    {
      "cell_type": "code",
      "source": [
        "# 데이터 수 확인 (count)\n",
        "print(데이터.count())\n",
        "print(\"dasdqefsfcaaa\".count(\"a\"))"
      ],
      "metadata": {
        "colab": {
          "base_uri": "https://localhost:8080/"
        },
        "id": "HppEq-uczbY2",
        "outputId": "5b01e27a-d4fc-457c-d643-b4c00e28f5e5"
      },
      "execution_count": null,
      "outputs": [
        {
          "output_type": "stream",
          "name": "stdout",
          "text": [
            "age    9\n",
            "sex    8\n",
            "dtype: int64\n",
            "4\n"
          ]
        }
      ]
    },
    {
      "cell_type": "code",
      "source": [
        "# 정보 조회 (info)\n",
        "데이터.info()"
      ],
      "metadata": {
        "colab": {
          "base_uri": "https://localhost:8080/"
        },
        "id": "Zmm43phXzba5",
        "outputId": "023cda9d-23ed-461f-8d20-e14fafdb6291"
      },
      "execution_count": null,
      "outputs": [
        {
          "output_type": "stream",
          "name": "stdout",
          "text": [
            "<class 'pandas.core.frame.DataFrame'>\n",
            "RangeIndex: 9 entries, 0 to 8\n",
            "Data columns (total 2 columns):\n",
            " #   Column  Non-Null Count  Dtype \n",
            "---  ------  --------------  ----- \n",
            " 0   age     9 non-null      int64 \n",
            " 1   sex     8 non-null      object\n",
            "dtypes: int64(1), object(1)\n",
            "memory usage: 272.0+ bytes\n"
          ]
        }
      ]
    },
    {
      "cell_type": "code",
      "source": [
        "# 데이터 표현 (describe)\n",
        "데이터.describe()"
      ],
      "metadata": {
        "colab": {
          "base_uri": "https://localhost:8080/",
          "height": 300
        },
        "id": "nBeb6jltzbdL",
        "outputId": "9674c207-0b2f-4aad-bb3f-e9aed0bf4b33"
      },
      "execution_count": null,
      "outputs": [
        {
          "output_type": "execute_result",
          "data": {
            "text/plain": [
              "             age\n",
              "count   9.000000\n",
              "mean   32.888889\n",
              "std    14.512447\n",
              "min    12.000000\n",
              "25%    23.000000\n",
              "50%    32.000000\n",
              "75%    32.000000\n",
              "max    59.000000"
            ],
            "text/html": [
              "\n",
              "  <div id=\"df-4b15d6c5-1e2c-4b03-9d67-d7cf95bef258\">\n",
              "    <div class=\"colab-df-container\">\n",
              "      <div>\n",
              "<style scoped>\n",
              "    .dataframe tbody tr th:only-of-type {\n",
              "        vertical-align: middle;\n",
              "    }\n",
              "\n",
              "    .dataframe tbody tr th {\n",
              "        vertical-align: top;\n",
              "    }\n",
              "\n",
              "    .dataframe thead th {\n",
              "        text-align: right;\n",
              "    }\n",
              "</style>\n",
              "<table border=\"1\" class=\"dataframe\">\n",
              "  <thead>\n",
              "    <tr style=\"text-align: right;\">\n",
              "      <th></th>\n",
              "      <th>age</th>\n",
              "    </tr>\n",
              "  </thead>\n",
              "  <tbody>\n",
              "    <tr>\n",
              "      <th>count</th>\n",
              "      <td>9.000000</td>\n",
              "    </tr>\n",
              "    <tr>\n",
              "      <th>mean</th>\n",
              "      <td>32.888889</td>\n",
              "    </tr>\n",
              "    <tr>\n",
              "      <th>std</th>\n",
              "      <td>14.512447</td>\n",
              "    </tr>\n",
              "    <tr>\n",
              "      <th>min</th>\n",
              "      <td>12.000000</td>\n",
              "    </tr>\n",
              "    <tr>\n",
              "      <th>25%</th>\n",
              "      <td>23.000000</td>\n",
              "    </tr>\n",
              "    <tr>\n",
              "      <th>50%</th>\n",
              "      <td>32.000000</td>\n",
              "    </tr>\n",
              "    <tr>\n",
              "      <th>75%</th>\n",
              "      <td>32.000000</td>\n",
              "    </tr>\n",
              "    <tr>\n",
              "      <th>max</th>\n",
              "      <td>59.000000</td>\n",
              "    </tr>\n",
              "  </tbody>\n",
              "</table>\n",
              "</div>\n",
              "      <button class=\"colab-df-convert\" onclick=\"convertToInteractive('df-4b15d6c5-1e2c-4b03-9d67-d7cf95bef258')\"\n",
              "              title=\"Convert this dataframe to an interactive table.\"\n",
              "              style=\"display:none;\">\n",
              "        \n",
              "  <svg xmlns=\"http://www.w3.org/2000/svg\" height=\"24px\"viewBox=\"0 0 24 24\"\n",
              "       width=\"24px\">\n",
              "    <path d=\"M0 0h24v24H0V0z\" fill=\"none\"/>\n",
              "    <path d=\"M18.56 5.44l.94 2.06.94-2.06 2.06-.94-2.06-.94-.94-2.06-.94 2.06-2.06.94zm-11 1L8.5 8.5l.94-2.06 2.06-.94-2.06-.94L8.5 2.5l-.94 2.06-2.06.94zm10 10l.94 2.06.94-2.06 2.06-.94-2.06-.94-.94-2.06-.94 2.06-2.06.94z\"/><path d=\"M17.41 7.96l-1.37-1.37c-.4-.4-.92-.59-1.43-.59-.52 0-1.04.2-1.43.59L10.3 9.45l-7.72 7.72c-.78.78-.78 2.05 0 2.83L4 21.41c.39.39.9.59 1.41.59.51 0 1.02-.2 1.41-.59l7.78-7.78 2.81-2.81c.8-.78.8-2.07 0-2.86zM5.41 20L4 18.59l7.72-7.72 1.47 1.35L5.41 20z\"/>\n",
              "  </svg>\n",
              "      </button>\n",
              "      \n",
              "  <style>\n",
              "    .colab-df-container {\n",
              "      display:flex;\n",
              "      flex-wrap:wrap;\n",
              "      gap: 12px;\n",
              "    }\n",
              "\n",
              "    .colab-df-convert {\n",
              "      background-color: #E8F0FE;\n",
              "      border: none;\n",
              "      border-radius: 50%;\n",
              "      cursor: pointer;\n",
              "      display: none;\n",
              "      fill: #1967D2;\n",
              "      height: 32px;\n",
              "      padding: 0 0 0 0;\n",
              "      width: 32px;\n",
              "    }\n",
              "\n",
              "    .colab-df-convert:hover {\n",
              "      background-color: #E2EBFA;\n",
              "      box-shadow: 0px 1px 2px rgba(60, 64, 67, 0.3), 0px 1px 3px 1px rgba(60, 64, 67, 0.15);\n",
              "      fill: #174EA6;\n",
              "    }\n",
              "\n",
              "    [theme=dark] .colab-df-convert {\n",
              "      background-color: #3B4455;\n",
              "      fill: #D2E3FC;\n",
              "    }\n",
              "\n",
              "    [theme=dark] .colab-df-convert:hover {\n",
              "      background-color: #434B5C;\n",
              "      box-shadow: 0px 1px 3px 1px rgba(0, 0, 0, 0.15);\n",
              "      filter: drop-shadow(0px 1px 2px rgba(0, 0, 0, 0.3));\n",
              "      fill: #FFFFFF;\n",
              "    }\n",
              "  </style>\n",
              "\n",
              "      <script>\n",
              "        const buttonEl =\n",
              "          document.querySelector('#df-4b15d6c5-1e2c-4b03-9d67-d7cf95bef258 button.colab-df-convert');\n",
              "        buttonEl.style.display =\n",
              "          google.colab.kernel.accessAllowed ? 'block' : 'none';\n",
              "\n",
              "        async function convertToInteractive(key) {\n",
              "          const element = document.querySelector('#df-4b15d6c5-1e2c-4b03-9d67-d7cf95bef258');\n",
              "          const dataTable =\n",
              "            await google.colab.kernel.invokeFunction('convertToInteractive',\n",
              "                                                     [key], {});\n",
              "          if (!dataTable) return;\n",
              "\n",
              "          const docLinkHtml = 'Like what you see? Visit the ' +\n",
              "            '<a target=\"_blank\" href=https://colab.research.google.com/notebooks/data_table.ipynb>data table notebook</a>'\n",
              "            + ' to learn more about interactive tables.';\n",
              "          element.innerHTML = '';\n",
              "          dataTable['output_type'] = 'display_data';\n",
              "          await google.colab.output.renderOutput(dataTable, element);\n",
              "          const docLink = document.createElement('div');\n",
              "          docLink.innerHTML = docLinkHtml;\n",
              "          element.appendChild(docLink);\n",
              "        }\n",
              "      </script>\n",
              "    </div>\n",
              "  </div>\n",
              "  "
            ]
          },
          "metadata": {},
          "execution_count": 77
        }
      ]
    },
    {
      "cell_type": "markdown",
      "source": [
        "#### 데이터 변형 함수"
      ],
      "metadata": {
        "id": "7XHiD_qfETy3"
      }
    },
    {
      "cell_type": "code",
      "source": [
        "# 전치 행렬 (transpose / T)\n",
        "print(데이터.transpose())\n",
        "print(데이터.T)"
      ],
      "metadata": {
        "colab": {
          "base_uri": "https://localhost:8080/"
        },
        "id": "q6y4RR1FEXPe",
        "outputId": "393133f4-3805-4f19-aa3c-c5bdf572333f"
      },
      "execution_count": null,
      "outputs": [
        {
          "output_type": "stream",
          "name": "stdout",
          "text": [
            "      0   1   2   3   4   5   6   7    8\n",
            "age  32  32  31  12  59  23  23  32   52\n",
            "sex   남   여   남   여   남   남   여   남  NaN\n",
            "      0   1   2   3   4   5   6   7    8\n",
            "age  32  32  31  12  59  23  23  32   52\n",
            "sex   남   여   남   여   남   남   여   남  NaN\n"
          ]
        }
      ]
    },
    {
      "cell_type": "code",
      "source": [
        "# 행/열 이름으로 데이터 추출 (loc)\n",
        "print(데이터.loc[3]) # 행만 추출\n",
        "print(10*\"*\")\n",
        "print(데이터.loc[:,\"sex\"]) # 열만 추출\n",
        "print(10*\"*\")\n",
        "print(데이터.loc[3:6,:]) # 행과 열 추출\n",
        "# loc : 지정한 끝 위치 까지 데이터 추출\n",
        "print(10*\"*\")\n",
        "print(데이터.loc[데이터[\"sex\"]==\"남\"]) # 성이 남자인 것만 추출"
      ],
      "metadata": {
        "colab": {
          "base_uri": "https://localhost:8080/"
        },
        "id": "Y5dcNNtzE58C",
        "outputId": "01abba1f-b6ce-4db2-a6fe-c30de20c9693"
      },
      "execution_count": null,
      "outputs": [
        {
          "output_type": "stream",
          "name": "stdout",
          "text": [
            "age    12\n",
            "sex     여\n",
            "Name: 3, dtype: object\n",
            "**********\n",
            "0      남\n",
            "1      여\n",
            "2      남\n",
            "3      여\n",
            "4      남\n",
            "5      남\n",
            "6      여\n",
            "7      남\n",
            "8    NaN\n",
            "Name: sex, dtype: object\n",
            "**********\n",
            "   age sex\n",
            "3   12   여\n",
            "4   59   남\n",
            "5   23   남\n",
            "6   23   여\n",
            "**********\n",
            "   age sex\n",
            "0   32   남\n",
            "2   31   남\n",
            "4   59   남\n",
            "5   23   남\n",
            "7   32   남\n"
          ]
        }
      ]
    },
    {
      "cell_type": "code",
      "source": [
        "# 행/열 위치로 데이터 추출 (iloc)\n",
        "print(데이터.iloc[3]) # 행만 추출\n",
        "print(10*\"*\")\n",
        "print(데이터.iloc[:,1]) # 열만 추출\n",
        "print(10*\"*\")\n",
        "print(데이터.iloc[3:6,:1]) # 행과 열 추출\n",
        "# iloc : 지정한 끝 위치의 직전 값까지만 데이터 추출"
      ],
      "metadata": {
        "colab": {
          "base_uri": "https://localhost:8080/"
        },
        "id": "b3OdErdXE5_7",
        "outputId": "a730b80c-b169-41db-e45e-cefd6e44d555"
      },
      "execution_count": null,
      "outputs": [
        {
          "output_type": "stream",
          "name": "stdout",
          "text": [
            "age    12\n",
            "sex     여\n",
            "Name: 3, dtype: object\n",
            "**********\n",
            "0      남\n",
            "1      여\n",
            "2      남\n",
            "3      여\n",
            "4      남\n",
            "5      남\n",
            "6      여\n",
            "7      남\n",
            "8    NaN\n",
            "Name: sex, dtype: object\n",
            "**********\n",
            "   age\n",
            "3   12\n",
            "4   59\n",
            "5   23\n"
          ]
        }
      ]
    },
    {
      "cell_type": "code",
      "source": [
        "# 값 정렬하기 (sort_values(ascending = True or False))\n",
        "# ascending = False : 내림차순\n",
        "print(데이터.sort_values(\"age\")) # 오름차순 정렬\n",
        "print(데이터.sort_values(\"age\", ascending=False)) # 내림차순 정렬\n",
        "print(데이터.sort_values([\"age\",\"sex\"])) # \"age\"열과 \"sex\"열을 기준으로 오름차순 정렬 "
      ],
      "metadata": {
        "colab": {
          "base_uri": "https://localhost:8080/"
        },
        "id": "DUm9nm4pE6Dx",
        "outputId": "bbb4d65a-d676-492b-93fb-22b5bfc0058c"
      },
      "execution_count": null,
      "outputs": [
        {
          "output_type": "stream",
          "name": "stdout",
          "text": [
            "   age  sex\n",
            "3   12    여\n",
            "5   23    남\n",
            "6   23    여\n",
            "2   31    남\n",
            "0   32    남\n",
            "1   32    여\n",
            "7   32    남\n",
            "8   52  NaN\n",
            "4   59    남\n",
            "   age  sex\n",
            "4   59    남\n",
            "8   52  NaN\n",
            "0   32    남\n",
            "1   32    여\n",
            "7   32    남\n",
            "2   31    남\n",
            "5   23    남\n",
            "6   23    여\n",
            "3   12    여\n",
            "   age  sex\n",
            "3   12    여\n",
            "5   23    남\n",
            "6   23    여\n",
            "2   31    남\n",
            "0   32    남\n",
            "7   32    남\n",
            "1   32    여\n",
            "8   52  NaN\n",
            "4   59    남\n"
          ]
        }
      ]
    },
    {
      "cell_type": "code",
      "source": [
        "# 결측값 메꾸기 (fillna)\n",
        "데이터[\"sex2\"] = 데이터[\"sex\"].fillna(\"남\")\n",
        "데이터"
      ],
      "metadata": {
        "colab": {
          "base_uri": "https://localhost:8080/",
          "height": 332
        },
        "id": "TZ0GKxPrE6La",
        "outputId": "b34af2cc-bc17-4a91-d72a-67f98d709879"
      },
      "execution_count": null,
      "outputs": [
        {
          "output_type": "execute_result",
          "data": {
            "text/plain": [
              "   age  sex sex2\n",
              "0   32    남    남\n",
              "1   32    여    여\n",
              "2   31    남    남\n",
              "3   12    여    여\n",
              "4   59    남    남\n",
              "5   23    남    남\n",
              "6   23    여    여\n",
              "7   32    남    남\n",
              "8   52  NaN    남"
            ],
            "text/html": [
              "\n",
              "  <div id=\"df-582b8c7e-e6d4-4f46-a018-19d779db8878\">\n",
              "    <div class=\"colab-df-container\">\n",
              "      <div>\n",
              "<style scoped>\n",
              "    .dataframe tbody tr th:only-of-type {\n",
              "        vertical-align: middle;\n",
              "    }\n",
              "\n",
              "    .dataframe tbody tr th {\n",
              "        vertical-align: top;\n",
              "    }\n",
              "\n",
              "    .dataframe thead th {\n",
              "        text-align: right;\n",
              "    }\n",
              "</style>\n",
              "<table border=\"1\" class=\"dataframe\">\n",
              "  <thead>\n",
              "    <tr style=\"text-align: right;\">\n",
              "      <th></th>\n",
              "      <th>age</th>\n",
              "      <th>sex</th>\n",
              "      <th>sex2</th>\n",
              "    </tr>\n",
              "  </thead>\n",
              "  <tbody>\n",
              "    <tr>\n",
              "      <th>0</th>\n",
              "      <td>32</td>\n",
              "      <td>남</td>\n",
              "      <td>남</td>\n",
              "    </tr>\n",
              "    <tr>\n",
              "      <th>1</th>\n",
              "      <td>32</td>\n",
              "      <td>여</td>\n",
              "      <td>여</td>\n",
              "    </tr>\n",
              "    <tr>\n",
              "      <th>2</th>\n",
              "      <td>31</td>\n",
              "      <td>남</td>\n",
              "      <td>남</td>\n",
              "    </tr>\n",
              "    <tr>\n",
              "      <th>3</th>\n",
              "      <td>12</td>\n",
              "      <td>여</td>\n",
              "      <td>여</td>\n",
              "    </tr>\n",
              "    <tr>\n",
              "      <th>4</th>\n",
              "      <td>59</td>\n",
              "      <td>남</td>\n",
              "      <td>남</td>\n",
              "    </tr>\n",
              "    <tr>\n",
              "      <th>5</th>\n",
              "      <td>23</td>\n",
              "      <td>남</td>\n",
              "      <td>남</td>\n",
              "    </tr>\n",
              "    <tr>\n",
              "      <th>6</th>\n",
              "      <td>23</td>\n",
              "      <td>여</td>\n",
              "      <td>여</td>\n",
              "    </tr>\n",
              "    <tr>\n",
              "      <th>7</th>\n",
              "      <td>32</td>\n",
              "      <td>남</td>\n",
              "      <td>남</td>\n",
              "    </tr>\n",
              "    <tr>\n",
              "      <th>8</th>\n",
              "      <td>52</td>\n",
              "      <td>NaN</td>\n",
              "      <td>남</td>\n",
              "    </tr>\n",
              "  </tbody>\n",
              "</table>\n",
              "</div>\n",
              "      <button class=\"colab-df-convert\" onclick=\"convertToInteractive('df-582b8c7e-e6d4-4f46-a018-19d779db8878')\"\n",
              "              title=\"Convert this dataframe to an interactive table.\"\n",
              "              style=\"display:none;\">\n",
              "        \n",
              "  <svg xmlns=\"http://www.w3.org/2000/svg\" height=\"24px\"viewBox=\"0 0 24 24\"\n",
              "       width=\"24px\">\n",
              "    <path d=\"M0 0h24v24H0V0z\" fill=\"none\"/>\n",
              "    <path d=\"M18.56 5.44l.94 2.06.94-2.06 2.06-.94-2.06-.94-.94-2.06-.94 2.06-2.06.94zm-11 1L8.5 8.5l.94-2.06 2.06-.94-2.06-.94L8.5 2.5l-.94 2.06-2.06.94zm10 10l.94 2.06.94-2.06 2.06-.94-2.06-.94-.94-2.06-.94 2.06-2.06.94z\"/><path d=\"M17.41 7.96l-1.37-1.37c-.4-.4-.92-.59-1.43-.59-.52 0-1.04.2-1.43.59L10.3 9.45l-7.72 7.72c-.78.78-.78 2.05 0 2.83L4 21.41c.39.39.9.59 1.41.59.51 0 1.02-.2 1.41-.59l7.78-7.78 2.81-2.81c.8-.78.8-2.07 0-2.86zM5.41 20L4 18.59l7.72-7.72 1.47 1.35L5.41 20z\"/>\n",
              "  </svg>\n",
              "      </button>\n",
              "      \n",
              "  <style>\n",
              "    .colab-df-container {\n",
              "      display:flex;\n",
              "      flex-wrap:wrap;\n",
              "      gap: 12px;\n",
              "    }\n",
              "\n",
              "    .colab-df-convert {\n",
              "      background-color: #E8F0FE;\n",
              "      border: none;\n",
              "      border-radius: 50%;\n",
              "      cursor: pointer;\n",
              "      display: none;\n",
              "      fill: #1967D2;\n",
              "      height: 32px;\n",
              "      padding: 0 0 0 0;\n",
              "      width: 32px;\n",
              "    }\n",
              "\n",
              "    .colab-df-convert:hover {\n",
              "      background-color: #E2EBFA;\n",
              "      box-shadow: 0px 1px 2px rgba(60, 64, 67, 0.3), 0px 1px 3px 1px rgba(60, 64, 67, 0.15);\n",
              "      fill: #174EA6;\n",
              "    }\n",
              "\n",
              "    [theme=dark] .colab-df-convert {\n",
              "      background-color: #3B4455;\n",
              "      fill: #D2E3FC;\n",
              "    }\n",
              "\n",
              "    [theme=dark] .colab-df-convert:hover {\n",
              "      background-color: #434B5C;\n",
              "      box-shadow: 0px 1px 3px 1px rgba(0, 0, 0, 0.15);\n",
              "      filter: drop-shadow(0px 1px 2px rgba(0, 0, 0, 0.3));\n",
              "      fill: #FFFFFF;\n",
              "    }\n",
              "  </style>\n",
              "\n",
              "      <script>\n",
              "        const buttonEl =\n",
              "          document.querySelector('#df-582b8c7e-e6d4-4f46-a018-19d779db8878 button.colab-df-convert');\n",
              "        buttonEl.style.display =\n",
              "          google.colab.kernel.accessAllowed ? 'block' : 'none';\n",
              "\n",
              "        async function convertToInteractive(key) {\n",
              "          const element = document.querySelector('#df-582b8c7e-e6d4-4f46-a018-19d779db8878');\n",
              "          const dataTable =\n",
              "            await google.colab.kernel.invokeFunction('convertToInteractive',\n",
              "                                                     [key], {});\n",
              "          if (!dataTable) return;\n",
              "\n",
              "          const docLinkHtml = 'Like what you see? Visit the ' +\n",
              "            '<a target=\"_blank\" href=https://colab.research.google.com/notebooks/data_table.ipynb>data table notebook</a>'\n",
              "            + ' to learn more about interactive tables.';\n",
              "          element.innerHTML = '';\n",
              "          dataTable['output_type'] = 'display_data';\n",
              "          await google.colab.output.renderOutput(dataTable, element);\n",
              "          const docLink = document.createElement('div');\n",
              "          docLink.innerHTML = docLinkHtml;\n",
              "          element.appendChild(docLink);\n",
              "        }\n",
              "      </script>\n",
              "    </div>\n",
              "  </div>\n",
              "  "
            ]
          },
          "metadata": {},
          "execution_count": 82
        }
      ]
    },
    {
      "cell_type": "code",
      "source": [
        "# 결측값 제거 (dropna)\n",
        "데이터2=데이터.dropna()\n",
        "데이터2"
      ],
      "metadata": {
        "colab": {
          "base_uri": "https://localhost:8080/",
          "height": 300
        },
        "id": "v5gLhnlmLcu_",
        "outputId": "5fa7ac7a-e964-47cd-c6c4-aa3c5105eaff"
      },
      "execution_count": null,
      "outputs": [
        {
          "output_type": "execute_result",
          "data": {
            "text/plain": [
              "   age sex sex2\n",
              "0   32   남    남\n",
              "1   32   여    여\n",
              "2   31   남    남\n",
              "3   12   여    여\n",
              "4   59   남    남\n",
              "5   23   남    남\n",
              "6   23   여    여\n",
              "7   32   남    남"
            ],
            "text/html": [
              "\n",
              "  <div id=\"df-f101fe60-3954-4754-80e1-91f348cc01ad\">\n",
              "    <div class=\"colab-df-container\">\n",
              "      <div>\n",
              "<style scoped>\n",
              "    .dataframe tbody tr th:only-of-type {\n",
              "        vertical-align: middle;\n",
              "    }\n",
              "\n",
              "    .dataframe tbody tr th {\n",
              "        vertical-align: top;\n",
              "    }\n",
              "\n",
              "    .dataframe thead th {\n",
              "        text-align: right;\n",
              "    }\n",
              "</style>\n",
              "<table border=\"1\" class=\"dataframe\">\n",
              "  <thead>\n",
              "    <tr style=\"text-align: right;\">\n",
              "      <th></th>\n",
              "      <th>age</th>\n",
              "      <th>sex</th>\n",
              "      <th>sex2</th>\n",
              "    </tr>\n",
              "  </thead>\n",
              "  <tbody>\n",
              "    <tr>\n",
              "      <th>0</th>\n",
              "      <td>32</td>\n",
              "      <td>남</td>\n",
              "      <td>남</td>\n",
              "    </tr>\n",
              "    <tr>\n",
              "      <th>1</th>\n",
              "      <td>32</td>\n",
              "      <td>여</td>\n",
              "      <td>여</td>\n",
              "    </tr>\n",
              "    <tr>\n",
              "      <th>2</th>\n",
              "      <td>31</td>\n",
              "      <td>남</td>\n",
              "      <td>남</td>\n",
              "    </tr>\n",
              "    <tr>\n",
              "      <th>3</th>\n",
              "      <td>12</td>\n",
              "      <td>여</td>\n",
              "      <td>여</td>\n",
              "    </tr>\n",
              "    <tr>\n",
              "      <th>4</th>\n",
              "      <td>59</td>\n",
              "      <td>남</td>\n",
              "      <td>남</td>\n",
              "    </tr>\n",
              "    <tr>\n",
              "      <th>5</th>\n",
              "      <td>23</td>\n",
              "      <td>남</td>\n",
              "      <td>남</td>\n",
              "    </tr>\n",
              "    <tr>\n",
              "      <th>6</th>\n",
              "      <td>23</td>\n",
              "      <td>여</td>\n",
              "      <td>여</td>\n",
              "    </tr>\n",
              "    <tr>\n",
              "      <th>7</th>\n",
              "      <td>32</td>\n",
              "      <td>남</td>\n",
              "      <td>남</td>\n",
              "    </tr>\n",
              "  </tbody>\n",
              "</table>\n",
              "</div>\n",
              "      <button class=\"colab-df-convert\" onclick=\"convertToInteractive('df-f101fe60-3954-4754-80e1-91f348cc01ad')\"\n",
              "              title=\"Convert this dataframe to an interactive table.\"\n",
              "              style=\"display:none;\">\n",
              "        \n",
              "  <svg xmlns=\"http://www.w3.org/2000/svg\" height=\"24px\"viewBox=\"0 0 24 24\"\n",
              "       width=\"24px\">\n",
              "    <path d=\"M0 0h24v24H0V0z\" fill=\"none\"/>\n",
              "    <path d=\"M18.56 5.44l.94 2.06.94-2.06 2.06-.94-2.06-.94-.94-2.06-.94 2.06-2.06.94zm-11 1L8.5 8.5l.94-2.06 2.06-.94-2.06-.94L8.5 2.5l-.94 2.06-2.06.94zm10 10l.94 2.06.94-2.06 2.06-.94-2.06-.94-.94-2.06-.94 2.06-2.06.94z\"/><path d=\"M17.41 7.96l-1.37-1.37c-.4-.4-.92-.59-1.43-.59-.52 0-1.04.2-1.43.59L10.3 9.45l-7.72 7.72c-.78.78-.78 2.05 0 2.83L4 21.41c.39.39.9.59 1.41.59.51 0 1.02-.2 1.41-.59l7.78-7.78 2.81-2.81c.8-.78.8-2.07 0-2.86zM5.41 20L4 18.59l7.72-7.72 1.47 1.35L5.41 20z\"/>\n",
              "  </svg>\n",
              "      </button>\n",
              "      \n",
              "  <style>\n",
              "    .colab-df-container {\n",
              "      display:flex;\n",
              "      flex-wrap:wrap;\n",
              "      gap: 12px;\n",
              "    }\n",
              "\n",
              "    .colab-df-convert {\n",
              "      background-color: #E8F0FE;\n",
              "      border: none;\n",
              "      border-radius: 50%;\n",
              "      cursor: pointer;\n",
              "      display: none;\n",
              "      fill: #1967D2;\n",
              "      height: 32px;\n",
              "      padding: 0 0 0 0;\n",
              "      width: 32px;\n",
              "    }\n",
              "\n",
              "    .colab-df-convert:hover {\n",
              "      background-color: #E2EBFA;\n",
              "      box-shadow: 0px 1px 2px rgba(60, 64, 67, 0.3), 0px 1px 3px 1px rgba(60, 64, 67, 0.15);\n",
              "      fill: #174EA6;\n",
              "    }\n",
              "\n",
              "    [theme=dark] .colab-df-convert {\n",
              "      background-color: #3B4455;\n",
              "      fill: #D2E3FC;\n",
              "    }\n",
              "\n",
              "    [theme=dark] .colab-df-convert:hover {\n",
              "      background-color: #434B5C;\n",
              "      box-shadow: 0px 1px 3px 1px rgba(0, 0, 0, 0.15);\n",
              "      filter: drop-shadow(0px 1px 2px rgba(0, 0, 0, 0.3));\n",
              "      fill: #FFFFFF;\n",
              "    }\n",
              "  </style>\n",
              "\n",
              "      <script>\n",
              "        const buttonEl =\n",
              "          document.querySelector('#df-f101fe60-3954-4754-80e1-91f348cc01ad button.colab-df-convert');\n",
              "        buttonEl.style.display =\n",
              "          google.colab.kernel.accessAllowed ? 'block' : 'none';\n",
              "\n",
              "        async function convertToInteractive(key) {\n",
              "          const element = document.querySelector('#df-f101fe60-3954-4754-80e1-91f348cc01ad');\n",
              "          const dataTable =\n",
              "            await google.colab.kernel.invokeFunction('convertToInteractive',\n",
              "                                                     [key], {});\n",
              "          if (!dataTable) return;\n",
              "\n",
              "          const docLinkHtml = 'Like what you see? Visit the ' +\n",
              "            '<a target=\"_blank\" href=https://colab.research.google.com/notebooks/data_table.ipynb>data table notebook</a>'\n",
              "            + ' to learn more about interactive tables.';\n",
              "          element.innerHTML = '';\n",
              "          dataTable['output_type'] = 'display_data';\n",
              "          await google.colab.output.renderOutput(dataTable, element);\n",
              "          const docLink = document.createElement('div');\n",
              "          docLink.innerHTML = docLinkHtml;\n",
              "          element.appendChild(docLink);\n",
              "        }\n",
              "      </script>\n",
              "    </div>\n",
              "  </div>\n",
              "  "
            ]
          },
          "metadata": {},
          "execution_count": 83
        }
      ]
    },
    {
      "cell_type": "code",
      "source": [
        "# 행 또는 열 제거 (drop)\n",
        "print(데이터.drop(index=[1,4,5]))\n",
        "print(데이터.drop(columns=[\"sex2\"]))"
      ],
      "metadata": {
        "colab": {
          "base_uri": "https://localhost:8080/"
        },
        "id": "TRJ0jmzrLcyj",
        "outputId": "da2e4687-dabb-4dd4-d88e-3eaa96a83413"
      },
      "execution_count": null,
      "outputs": [
        {
          "output_type": "stream",
          "name": "stdout",
          "text": [
            "   age  sex sex2\n",
            "0   32    남    남\n",
            "2   31    남    남\n",
            "3   12    여    여\n",
            "6   23    여    여\n",
            "7   32    남    남\n",
            "8   52  NaN    남\n",
            "   age  sex\n",
            "0   32    남\n",
            "1   32    여\n",
            "2   31    남\n",
            "3   12    여\n",
            "4   59    남\n",
            "5   23    남\n",
            "6   23    여\n",
            "7   32    남\n",
            "8   52  NaN\n"
          ]
        }
      ]
    },
    {
      "cell_type": "code",
      "source": [
        "# 값 바꾸기 (replace(\"기존 값\", \"변경 값\"))\n",
        "데이터[\"sex3\"]=데이터[\"sex\"].replace(\"남\", \"M\").replace(\"여\", \"F\")\n",
        "데이터"
      ],
      "metadata": {
        "colab": {
          "base_uri": "https://localhost:8080/",
          "height": 332
        },
        "id": "8_IBfD_QLc2U",
        "outputId": "334dd2bf-06e3-457a-aa23-8f7678612bdd"
      },
      "execution_count": null,
      "outputs": [
        {
          "output_type": "execute_result",
          "data": {
            "text/plain": [
              "   age  sex sex2 sex3\n",
              "0   32    남    남    M\n",
              "1   32    여    여    F\n",
              "2   31    남    남    M\n",
              "3   12    여    여    F\n",
              "4   59    남    남    M\n",
              "5   23    남    남    M\n",
              "6   23    여    여    F\n",
              "7   32    남    남    M\n",
              "8   52  NaN    남  NaN"
            ],
            "text/html": [
              "\n",
              "  <div id=\"df-fa5acd1b-2248-47c3-89d6-db0708dba887\">\n",
              "    <div class=\"colab-df-container\">\n",
              "      <div>\n",
              "<style scoped>\n",
              "    .dataframe tbody tr th:only-of-type {\n",
              "        vertical-align: middle;\n",
              "    }\n",
              "\n",
              "    .dataframe tbody tr th {\n",
              "        vertical-align: top;\n",
              "    }\n",
              "\n",
              "    .dataframe thead th {\n",
              "        text-align: right;\n",
              "    }\n",
              "</style>\n",
              "<table border=\"1\" class=\"dataframe\">\n",
              "  <thead>\n",
              "    <tr style=\"text-align: right;\">\n",
              "      <th></th>\n",
              "      <th>age</th>\n",
              "      <th>sex</th>\n",
              "      <th>sex2</th>\n",
              "      <th>sex3</th>\n",
              "    </tr>\n",
              "  </thead>\n",
              "  <tbody>\n",
              "    <tr>\n",
              "      <th>0</th>\n",
              "      <td>32</td>\n",
              "      <td>남</td>\n",
              "      <td>남</td>\n",
              "      <td>M</td>\n",
              "    </tr>\n",
              "    <tr>\n",
              "      <th>1</th>\n",
              "      <td>32</td>\n",
              "      <td>여</td>\n",
              "      <td>여</td>\n",
              "      <td>F</td>\n",
              "    </tr>\n",
              "    <tr>\n",
              "      <th>2</th>\n",
              "      <td>31</td>\n",
              "      <td>남</td>\n",
              "      <td>남</td>\n",
              "      <td>M</td>\n",
              "    </tr>\n",
              "    <tr>\n",
              "      <th>3</th>\n",
              "      <td>12</td>\n",
              "      <td>여</td>\n",
              "      <td>여</td>\n",
              "      <td>F</td>\n",
              "    </tr>\n",
              "    <tr>\n",
              "      <th>4</th>\n",
              "      <td>59</td>\n",
              "      <td>남</td>\n",
              "      <td>남</td>\n",
              "      <td>M</td>\n",
              "    </tr>\n",
              "    <tr>\n",
              "      <th>5</th>\n",
              "      <td>23</td>\n",
              "      <td>남</td>\n",
              "      <td>남</td>\n",
              "      <td>M</td>\n",
              "    </tr>\n",
              "    <tr>\n",
              "      <th>6</th>\n",
              "      <td>23</td>\n",
              "      <td>여</td>\n",
              "      <td>여</td>\n",
              "      <td>F</td>\n",
              "    </tr>\n",
              "    <tr>\n",
              "      <th>7</th>\n",
              "      <td>32</td>\n",
              "      <td>남</td>\n",
              "      <td>남</td>\n",
              "      <td>M</td>\n",
              "    </tr>\n",
              "    <tr>\n",
              "      <th>8</th>\n",
              "      <td>52</td>\n",
              "      <td>NaN</td>\n",
              "      <td>남</td>\n",
              "      <td>NaN</td>\n",
              "    </tr>\n",
              "  </tbody>\n",
              "</table>\n",
              "</div>\n",
              "      <button class=\"colab-df-convert\" onclick=\"convertToInteractive('df-fa5acd1b-2248-47c3-89d6-db0708dba887')\"\n",
              "              title=\"Convert this dataframe to an interactive table.\"\n",
              "              style=\"display:none;\">\n",
              "        \n",
              "  <svg xmlns=\"http://www.w3.org/2000/svg\" height=\"24px\"viewBox=\"0 0 24 24\"\n",
              "       width=\"24px\">\n",
              "    <path d=\"M0 0h24v24H0V0z\" fill=\"none\"/>\n",
              "    <path d=\"M18.56 5.44l.94 2.06.94-2.06 2.06-.94-2.06-.94-.94-2.06-.94 2.06-2.06.94zm-11 1L8.5 8.5l.94-2.06 2.06-.94-2.06-.94L8.5 2.5l-.94 2.06-2.06.94zm10 10l.94 2.06.94-2.06 2.06-.94-2.06-.94-.94-2.06-.94 2.06-2.06.94z\"/><path d=\"M17.41 7.96l-1.37-1.37c-.4-.4-.92-.59-1.43-.59-.52 0-1.04.2-1.43.59L10.3 9.45l-7.72 7.72c-.78.78-.78 2.05 0 2.83L4 21.41c.39.39.9.59 1.41.59.51 0 1.02-.2 1.41-.59l7.78-7.78 2.81-2.81c.8-.78.8-2.07 0-2.86zM5.41 20L4 18.59l7.72-7.72 1.47 1.35L5.41 20z\"/>\n",
              "  </svg>\n",
              "      </button>\n",
              "      \n",
              "  <style>\n",
              "    .colab-df-container {\n",
              "      display:flex;\n",
              "      flex-wrap:wrap;\n",
              "      gap: 12px;\n",
              "    }\n",
              "\n",
              "    .colab-df-convert {\n",
              "      background-color: #E8F0FE;\n",
              "      border: none;\n",
              "      border-radius: 50%;\n",
              "      cursor: pointer;\n",
              "      display: none;\n",
              "      fill: #1967D2;\n",
              "      height: 32px;\n",
              "      padding: 0 0 0 0;\n",
              "      width: 32px;\n",
              "    }\n",
              "\n",
              "    .colab-df-convert:hover {\n",
              "      background-color: #E2EBFA;\n",
              "      box-shadow: 0px 1px 2px rgba(60, 64, 67, 0.3), 0px 1px 3px 1px rgba(60, 64, 67, 0.15);\n",
              "      fill: #174EA6;\n",
              "    }\n",
              "\n",
              "    [theme=dark] .colab-df-convert {\n",
              "      background-color: #3B4455;\n",
              "      fill: #D2E3FC;\n",
              "    }\n",
              "\n",
              "    [theme=dark] .colab-df-convert:hover {\n",
              "      background-color: #434B5C;\n",
              "      box-shadow: 0px 1px 3px 1px rgba(0, 0, 0, 0.15);\n",
              "      filter: drop-shadow(0px 1px 2px rgba(0, 0, 0, 0.3));\n",
              "      fill: #FFFFFF;\n",
              "    }\n",
              "  </style>\n",
              "\n",
              "      <script>\n",
              "        const buttonEl =\n",
              "          document.querySelector('#df-fa5acd1b-2248-47c3-89d6-db0708dba887 button.colab-df-convert');\n",
              "        buttonEl.style.display =\n",
              "          google.colab.kernel.accessAllowed ? 'block' : 'none';\n",
              "\n",
              "        async function convertToInteractive(key) {\n",
              "          const element = document.querySelector('#df-fa5acd1b-2248-47c3-89d6-db0708dba887');\n",
              "          const dataTable =\n",
              "            await google.colab.kernel.invokeFunction('convertToInteractive',\n",
              "                                                     [key], {});\n",
              "          if (!dataTable) return;\n",
              "\n",
              "          const docLinkHtml = 'Like what you see? Visit the ' +\n",
              "            '<a target=\"_blank\" href=https://colab.research.google.com/notebooks/data_table.ipynb>data table notebook</a>'\n",
              "            + ' to learn more about interactive tables.';\n",
              "          element.innerHTML = '';\n",
              "          dataTable['output_type'] = 'display_data';\n",
              "          await google.colab.output.renderOutput(dataTable, element);\n",
              "          const docLink = document.createElement('div');\n",
              "          docLink.innerHTML = docLinkHtml;\n",
              "          element.appendChild(docLink);\n",
              "        }\n",
              "      </script>\n",
              "    </div>\n",
              "  </div>\n",
              "  "
            ]
          },
          "metadata": {},
          "execution_count": 85
        }
      ]
    },
    {
      "cell_type": "markdown",
      "source": [
        "## 3. 외장함수"
      ],
      "metadata": {
        "id": "SI8ZSCSFsdig"
      }
    },
    {
      "cell_type": "markdown",
      "source": [
        "### numpy\n",
        " \n",
        "*   NumPy 데이터 자료형의 종류는 다양하므로, 같은 숫자라도 데이터 유형이 다르면 오류가 발생\n"
      ],
      "metadata": {
        "id": "Ll2R0ijNpMd_"
      }
    },
    {
      "cell_type": "markdown",
      "source": [
        "#### 다차원 배열과 브로드 캐스팅\n",
        "  - 브로드 캐스팅 : 스칼라를 벡터로 확장시켜주는 작업"
      ],
      "metadata": {
        "id": "ys1jGuj0BRJJ"
      }
    },
    {
      "cell_type": "code",
      "source": [
        "a=np.array([1,2,3])\n",
        "b=np.array([4,5,6])\n",
        "c=np.array([[32,2,10],[3,23,42]]).reshape(3,2)\n",
        "d=np.array([[3,21,30],[7,3,4]])\n",
        "print(a+b) \n",
        "print(a*b)\n",
        "print(a/b)\n",
        "print(a%b)\n",
        "print(c@d)\n",
        "print(a**2)\n",
        "print(d+a)"
      ],
      "metadata": {
        "colab": {
          "base_uri": "https://localhost:8080/"
        },
        "id": "JLK5RGC8-5pe",
        "outputId": "da040a5a-06a4-486b-9816-33a0af1f1cd6"
      },
      "execution_count": null,
      "outputs": [
        {
          "output_type": "stream",
          "name": "stdout",
          "text": [
            "[5 7 9]\n",
            "[ 4 10 18]\n",
            "[0.25 0.4  0.5 ]\n",
            "[1 2 3]\n",
            "[[110 678 968]\n",
            " [ 51 219 312]\n",
            " [363 609 858]]\n",
            "[1 4 9]\n",
            "[[ 4 23 33]\n",
            " [ 8  5  7]]\n"
          ]
        }
      ]
    },
    {
      "cell_type": "code",
      "source": [
        "e=np.arange(1,10).reshape(3,3)\n",
        "print(d.ndim) # 차원의 개수\n",
        "print(d.size) # 원소의 개수\n",
        "print(d.shape) # 배열의 형상을 기술 (m,n)형식\n",
        "print(d.itemsize) # 원소의 크기를 바이트 단위로 기술\n",
        "print(d.dtype) # 원소의 자료형을 기술 (float, int, boolean, str)\n",
        "print(d.data) # 실제 원소 포함 버퍼"
      ],
      "metadata": {
        "colab": {
          "base_uri": "https://localhost:8080/"
        },
        "id": "Z7ndlFwqCWvU",
        "outputId": "bd9d3067-fc2b-47a5-8a63-fa79b94db312"
      },
      "execution_count": null,
      "outputs": [
        {
          "output_type": "stream",
          "name": "stdout",
          "text": [
            "2\n",
            "6\n",
            "(2, 3)\n",
            "8\n",
            "int64\n",
            "<memory at 0x7ff5ef96c830>\n"
          ]
        }
      ]
    },
    {
      "cell_type": "code",
      "source": [
        "print(np.zeros((3,4))) # nxm 배열 0값\n",
        "print(np.ones((3,4))) # nxm 배열 1값  \n",
        "print(np.full((3,4), 3)) # np.full ((n,m), 임의의수)\n",
        "print(np.eye(3,3)) # nxm 배열의 단위행렬\n",
        "print(np.ones((3,4), dtype=\"int32\")) # dtype 변경 "
      ],
      "metadata": {
        "colab": {
          "base_uri": "https://localhost:8080/"
        },
        "id": "jcomK9dT-_7i",
        "outputId": "1f5a3a2c-4e8f-4aff-faaa-ddd6b066b1df"
      },
      "execution_count": null,
      "outputs": [
        {
          "output_type": "stream",
          "name": "stdout",
          "text": [
            "[[0. 0. 0. 0.]\n",
            " [0. 0. 0. 0.]\n",
            " [0. 0. 0. 0.]]\n",
            "[[1. 1. 1. 1.]\n",
            " [1. 1. 1. 1.]\n",
            " [1. 1. 1. 1.]]\n",
            "[[3 3 3 3]\n",
            " [3 3 3 3]\n",
            " [3 3 3 3]]\n",
            "[[1. 0. 0.]\n",
            " [0. 1. 0.]\n",
            " [0. 0. 1.]]\n",
            "[[1 1 1 1]\n",
            " [1 1 1 1]\n",
            " [1 1 1 1]]\n"
          ]
        }
      ]
    },
    {
      "cell_type": "code",
      "source": [
        "array1 = np.array ([1,2,3]) # 1차원의 배열\n",
        "array2 = np.array ([[1,2,3], [4,5,6]]) # 2차원의 배열\n",
        "array3 = np.array ([[[1,2], [3,4]], [[5,6], [7,8]]]) # 3차원의 배열\n",
        "print(array1.ndim)\n",
        "print(array2.ndim)\n",
        "print(array3.ndim)"
      ],
      "metadata": {
        "colab": {
          "base_uri": "https://localhost:8080/"
        },
        "id": "xLdA6inYgmKE",
        "outputId": "f29683e8-ee6c-48c2-8893-721db10e8645"
      },
      "execution_count": null,
      "outputs": [
        {
          "output_type": "stream",
          "name": "stdout",
          "text": [
            "1\n",
            "2\n",
            "3\n"
          ]
        }
      ]
    },
    {
      "cell_type": "markdown",
      "source": [
        "#### 연속 값을 가지는 다차원 배열"
      ],
      "metadata": {
        "id": "zETGq1rDDV6T"
      }
    },
    {
      "cell_type": "code",
      "source": [
        "# arange (m, n, step) : m부터 n까지 step만큼 건너뛰며 연속적인 정수나 실수 생성\n",
        "a_1=np.arange(9)\n",
        "b_1=np.arange(0,10,2)\n",
        "c_1=np.arange(5,10,2)\n",
        "print(a_1)\n",
        "print(b_1)\n",
        "print(c_1)"
      ],
      "metadata": {
        "colab": {
          "base_uri": "https://localhost:8080/"
        },
        "id": "MHtx2JpWDe1e",
        "outputId": "fba7a58c-0cc5-4c9c-9ff9-f427756e007a"
      },
      "execution_count": null,
      "outputs": [
        {
          "output_type": "stream",
          "name": "stdout",
          "text": [
            "[0 1 2 3 4 5 6 7 8]\n",
            "[0 2 4 6 8]\n",
            "[5 7 9]\n"
          ]
        }
      ]
    },
    {
      "cell_type": "code",
      "source": [
        "# linspace (m, n, num=a) : 지정된 구간에서 동일한 간격의 값을 지정된 횟수만큼 생성\n",
        "a_2=np.linspace(10,150,num=30)\n",
        "b_2=np.linspace(1.0,2.0,num=10)\n",
        "c_2=np.linspace(150,1000,num=30)\n",
        "print(a_2)\n",
        "print(b_2)\n",
        "print(c_2)"
      ],
      "metadata": {
        "colab": {
          "base_uri": "https://localhost:8080/"
        },
        "id": "EHWOJceuDyjo",
        "outputId": "d7313183-87de-4f69-a77f-94003a710ff3"
      },
      "execution_count": null,
      "outputs": [
        {
          "output_type": "stream",
          "name": "stdout",
          "text": [
            "[ 10.          14.82758621  19.65517241  24.48275862  29.31034483\n",
            "  34.13793103  38.96551724  43.79310345  48.62068966  53.44827586\n",
            "  58.27586207  63.10344828  67.93103448  72.75862069  77.5862069\n",
            "  82.4137931   87.24137931  92.06896552  96.89655172 101.72413793\n",
            " 106.55172414 111.37931034 116.20689655 121.03448276 125.86206897\n",
            " 130.68965517 135.51724138 140.34482759 145.17241379 150.        ]\n",
            "[1.         1.11111111 1.22222222 1.33333333 1.44444444 1.55555556\n",
            " 1.66666667 1.77777778 1.88888889 2.        ]\n",
            "[ 150.          179.31034483  208.62068966  237.93103448  267.24137931\n",
            "  296.55172414  325.86206897  355.17241379  384.48275862  413.79310345\n",
            "  443.10344828  472.4137931   501.72413793  531.03448276  560.34482759\n",
            "  589.65517241  618.96551724  648.27586207  677.5862069   706.89655172\n",
            "  736.20689655  765.51724138  794.82758621  824.13793103  853.44827586\n",
            "  882.75862069  912.06896552  941.37931034  970.68965517 1000.        ]\n"
          ]
        }
      ]
    },
    {
      "cell_type": "code",
      "source": [
        "# logspace (m, n, num=a) : 로그 스케일로 수들을 생성\n",
        "a_3=np.logspace(0,10,num=10)\n",
        "b_3=np.logspace(3,10,num=5)\n",
        "c_3=np.log10(a_3)\n",
        "print(a_3)\n",
        "print(b_3)\n",
        "print(c_3)"
      ],
      "metadata": {
        "colab": {
          "base_uri": "https://localhost:8080/"
        },
        "id": "HD8XiF_JD2Bw",
        "outputId": "1aa7ec5d-0d73-4a57-9620-ed697f3c6390"
      },
      "execution_count": null,
      "outputs": [
        {
          "output_type": "stream",
          "name": "stdout",
          "text": [
            "[1.00000000e+00 1.29154967e+01 1.66810054e+02 2.15443469e+03\n",
            " 2.78255940e+04 3.59381366e+05 4.64158883e+06 5.99484250e+07\n",
            " 7.74263683e+08 1.00000000e+10]\n",
            "[1.00000000e+03 5.62341325e+04 3.16227766e+06 1.77827941e+08\n",
            " 1.00000000e+10]\n",
            "[ 0.          1.11111111  2.22222222  3.33333333  4.44444444  5.55555556\n",
            "  6.66666667  7.77777778  8.88888889 10.        ]\n"
          ]
        }
      ]
    },
    {
      "cell_type": "code",
      "source": [
        "#  np.reshape(변경할 배열, (차원)) 또는 np.배열.reshape(차원)으로 사용\n",
        "# 변경 전 데이터의 size (a*b)와 변경 후 데이터의 size (c*d*e) 가 같아야 변경 가능\n",
        "a_4=np.arange(9).reshape(3,3)\n",
        "b_4=a_1.reshape(3,3)\n",
        "print(a_4)\n",
        "print(b_4)\n",
        "\n",
        "print(\"*\"*10, \"reshape에서 '-1' 사용법\", \"*\"*10)\n",
        "c_4=a_1.reshape(-1,1) # 행의 위치에 -1을 넣고 열의 값을 지정해주면 변환될 배열의 행의 수는 알아서 지정\n",
        "c_5=a_1.reshape(-1,3) # 즉 -1은 다른 차원을 자동으로 계산후, 크기에 맞도록 자동 정렬\n",
        "c_6=a_1.reshape(3,-1)\n",
        "print(c_4)\n",
        "print(c_5)\n",
        "print(c_6)"
      ],
      "metadata": {
        "colab": {
          "base_uri": "https://localhost:8080/"
        },
        "id": "VkYJaferE3wg",
        "outputId": "2a55fcb4-cc8f-4105-fb31-a66b6b309f1d"
      },
      "execution_count": null,
      "outputs": [
        {
          "output_type": "stream",
          "name": "stdout",
          "text": [
            "[[0 1 2]\n",
            " [3 4 5]\n",
            " [6 7 8]]\n",
            "[[0 1 2]\n",
            " [3 4 5]\n",
            " [6 7 8]]\n",
            "********** reshape에서 '-1' 사용법 **********\n",
            "[[0]\n",
            " [1]\n",
            " [2]\n",
            " [3]\n",
            " [4]\n",
            " [5]\n",
            " [6]\n",
            " [7]\n",
            " [8]]\n",
            "[[0 1 2]\n",
            " [3 4 5]\n",
            " [6 7 8]]\n",
            "[[0 1 2]\n",
            " [3 4 5]\n",
            " [6 7 8]]\n"
          ]
        }
      ]
    },
    {
      "cell_type": "markdown",
      "source": [
        "#### 다차원 배열의 축과 삽입"
      ],
      "metadata": {
        "id": "8MpsyrbtIfAx"
      }
    },
    {
      "cell_type": "code",
      "source": [
        "# 배열의 1차원, 2차원, 3차원 구분\n",
        "a=np.array([1,2,3])\n",
        "print(a) # (3,) : 1차원\n",
        "print(a.reshape(3,1)) # (3,1) : 2차원\n",
        "print(a.reshape(3,1,1)) # (3,1,1) : 3차원"
      ],
      "metadata": {
        "colab": {
          "base_uri": "https://localhost:8080/"
        },
        "id": "dScxvlIBIh_J",
        "outputId": "c7e9d5fa-f9b9-42b0-81c0-4c771ef5744d"
      },
      "execution_count": null,
      "outputs": [
        {
          "output_type": "stream",
          "name": "stdout",
          "text": [
            "[1 2 3]\n",
            "[[1]\n",
            " [2]\n",
            " [3]]\n",
            "[[[1]]\n",
            "\n",
            " [[2]]\n",
            "\n",
            " [[3]]]\n"
          ]
        }
      ]
    },
    {
      "cell_type": "code",
      "source": [
        "#  np.insert(변경할 배열, 인덱스, 넣고싶은 데이터, axis=0 or 1) : 삽입\n",
        "b=np.array([[1,1],[2,2]])\n",
        "print(b)\n",
        "\n",
        "b_0=np.insert(b, 2, [3,3], axis=0)\n",
        "b_1=np.insert(b, 2, [1,2], axis=1)\n",
        "\n",
        "print(b_0)\n",
        "print(b_1)"
      ],
      "metadata": {
        "colab": {
          "base_uri": "https://localhost:8080/"
        },
        "id": "azJChDfIKZ1G",
        "outputId": "c6d286ec-9ac0-469c-aef9-0bcc51948805"
      },
      "execution_count": null,
      "outputs": [
        {
          "output_type": "stream",
          "name": "stdout",
          "text": [
            "[[1 1]\n",
            " [2 2]]\n",
            "[[1 1]\n",
            " [2 2]\n",
            " [3 3]]\n",
            "[[1 1 1]\n",
            " [2 2 2]]\n"
          ]
        }
      ]
    },
    {
      "cell_type": "code",
      "source": [
        "#  np.flip(변경할 배열, axis=0 or 1) :축방향 원소 뒤집는 함수\n",
        "c=np.array([[1,2,3],[4,5,6],[7,8,9]])\n",
        "print(c)\n",
        "print(np.flip(c, axis=0))\n",
        "print(np.flip(c, axis=1))"
      ],
      "metadata": {
        "colab": {
          "base_uri": "https://localhost:8080/"
        },
        "id": "Gsf83d9PKZ8Y",
        "outputId": "4cacedcb-ef3f-4af6-e751-ccd8cde4980b"
      },
      "execution_count": null,
      "outputs": [
        {
          "output_type": "stream",
          "name": "stdout",
          "text": [
            "[[1 2 3]\n",
            " [4 5 6]\n",
            " [7 8 9]]\n",
            "[[7 8 9]\n",
            " [4 5 6]\n",
            " [1 2 3]]\n",
            "[[3 2 1]\n",
            " [6 5 4]\n",
            " [9 8 7]]\n"
          ]
        }
      ]
    },
    {
      "cell_type": "markdown",
      "source": [
        "#### 다차원 배열 각종 함수\n",
        "  - 리스트 : 동일하지 않은 자료형을 가진 항목들을 담을수 있음 (속도 : 매우 느림 / 벡터 개념 X)\n",
        "  - 넘파이 : 동일한 자료형의 항목들만 저장 (속도 : 매우 빠름 / 벡터 개념 O)"
      ],
      "metadata": {
        "id": "XQGpOpDdQR8A"
      }
    },
    {
      "cell_type": "code",
      "source": [
        "a=np.array([1,42,33,1])\n",
        "b=np.array([323.23232])\n",
        "print(a.mean()) # 평균\n",
        "print(a.max()) # 최대값\n",
        "print(a.min()) # 최소값\n",
        "print(a.astype(float)) # atype : 자료형 변경 / dtype : 자료형 확인\n",
        "print(b.round(2)) # 반올림"
      ],
      "metadata": {
        "colab": {
          "base_uri": "https://localhost:8080/"
        },
        "id": "qUzH5Al8SQ56",
        "outputId": "7b6090ab-5c0c-41fd-8a59-98a761931e39"
      },
      "execution_count": null,
      "outputs": [
        {
          "output_type": "stream",
          "name": "stdout",
          "text": [
            "19.25\n",
            "42\n",
            "1\n",
            "[ 1. 42. 33.  1.]\n",
            "[323.23]\n"
          ]
        }
      ]
    },
    {
      "cell_type": "code",
      "source": [
        "b=np.array([[1,33,3],[2,2,1],[3,3,4]])\n",
        "print(b)\n",
        "print(b.flatten()) # 평탄화\n",
        "print(b.T) # 전치행렬"
      ],
      "metadata": {
        "colab": {
          "base_uri": "https://localhost:8080/"
        },
        "id": "PLT7dglaS2ww",
        "outputId": "3dc18419-407e-4b81-e5d8-84578a92cc2e"
      },
      "execution_count": null,
      "outputs": [
        {
          "output_type": "stream",
          "name": "stdout",
          "text": [
            "[[ 1 33  3]\n",
            " [ 2  2  1]\n",
            " [ 3  3  4]]\n",
            "[ 1 33  3  2  2  1  3  3  4]\n",
            "[[ 1  2  3]\n",
            " [33  2  3]\n",
            " [ 3  1  4]]\n"
          ]
        }
      ]
    },
    {
      "cell_type": "code",
      "source": [
        "# sort () : 오름차순 정렬\n",
        "# sort (axis = 0 or 1) : 축방향으로 오름차순 정렬\n",
        "# sort (reverse=True or False) : False(오름차순), True(내림차순)\n",
        "# sort ()[::-1] : 내림차순 정렬\n",
        "# argsort () : 입력 배열에서 간접 정렬을 수행하여 오름차순으로 인덱스의 번호가 매겨진다.\n",
        "sort_array = np.array([232, 321, 23, 123, 111])\n",
        "print(sort_array)\n",
        "print(np.sort(sort_array)) # 오름차순\n",
        "print(np.sort(sort_array)[::-1]) # 내림차순\n",
        "print(np.argsort(sort_array)) # 오름차순 번호"
      ],
      "metadata": {
        "colab": {
          "base_uri": "https://localhost:8080/"
        },
        "id": "slE0_oISm3SR",
        "outputId": "0a8c9b6f-5d40-43c0-9189-cc9cc8e0a1ef"
      },
      "execution_count": null,
      "outputs": [
        {
          "output_type": "stream",
          "name": "stdout",
          "text": [
            "[232 321  23 123 111]\n",
            "[ 23 111 123 232 321]\n",
            "[321 232 123 111  23]\n",
            "[2 4 3 0 1]\n"
          ]
        }
      ]
    },
    {
      "cell_type": "code",
      "source": [
        "a=np.array([1,2,3])\n",
        "b=np.array([[4,5,6],[7,8,9]])\n",
        "c=np.array([[3,2],[2,3],[8,6]])\n",
        "# append() : 두 배열 합치기 [같은 차원끼리만 가능]\n",
        "print(a+b)\n",
        "print(np.append(a,b))\n",
        "print(np.append([a], b, axis=0)) # [a]를 이용하여 2차원으로 만들어주어야 한다.\n",
        "\n",
        "# matmul() : 행렬의 곱  np.matmul(a,b) == a@b != a*b\n",
        "print(a*b)\n",
        "print(b@c)\n",
        "print(np.matmul(b,c))"
      ],
      "metadata": {
        "colab": {
          "base_uri": "https://localhost:8080/"
        },
        "id": "rQ8RL_dNWX5h",
        "outputId": "c7436ca4-16f3-4a59-f8d3-486594cac004"
      },
      "execution_count": null,
      "outputs": [
        {
          "output_type": "stream",
          "name": "stdout",
          "text": [
            "[[ 5  7  9]\n",
            " [ 8 10 12]]\n",
            "[1 2 3 4 5 6 7 8 9]\n",
            "[[1 2 3]\n",
            " [4 5 6]\n",
            " [7 8 9]]\n",
            "[[ 4 10 18]\n",
            " [ 7 16 27]]\n",
            "[[ 70  59]\n",
            " [109  92]]\n",
            "[[ 70  59]\n",
            " [109  92]]\n"
          ]
        }
      ]
    },
    {
      "cell_type": "markdown",
      "source": [
        "#### 난수"
      ],
      "metadata": {
        "id": "Dj31xJPFWQco"
      }
    },
    {
      "cell_type": "code",
      "source": [
        "# 의사난수 공식 x(다음 난수값) = (ax(현재 난수)+b) mod m\n",
        "# mod : 숫자를 제수로 나눈 나머지를 반환\n",
        "def pseudo_rand(x):\n",
        "  a=132312412\n",
        "  b=3232\n",
        "  m=30**2\n",
        "  new_x=(a*x+b)%m\n",
        "  return new_x\n",
        "\n",
        "seed = 100\n",
        "x=pseudo_rand(seed)\n",
        "print(x)\n",
        "x=pseudo_rand(x)\n",
        "print(x)"
      ],
      "metadata": {
        "colab": {
          "base_uri": "https://localhost:8080/"
        },
        "id": "TvPR0qBtZa-J",
        "outputId": "3ac9c7a8-5a37-4bfc-c822-faa0d0217a7a"
      },
      "execution_count": null,
      "outputs": [
        {
          "output_type": "stream",
          "name": "stdout",
          "text": [
            "632\n",
            "516\n"
          ]
        }
      ]
    },
    {
      "cell_type": "code",
      "source": [
        "from random import *\n",
        "print(random()) # 0.0 ~ 1.0 미만의 임의의 값 생성\n",
        "print(random() * 10) # 0.0 ~ 10.0 미만의 임의의 값 생성\n",
        "print(int(random() * 10)) # 0 ~ 10 미만의 임의의 값 생성\n",
        "print(int(random() * 10) + 1) # 1 ~ 10 미만의 임의의 값 생성\n",
        "print(randrange(1, 46)) # 1 ~ 46 미만의 임의의 값 생성\n",
        "print(randint(1, 45)) # 1 ~ 45 이하의 임의의 값 생성"
      ],
      "metadata": {
        "colab": {
          "base_uri": "https://localhost:8080/"
        },
        "id": "9W6EWMEnDXDP",
        "outputId": "e999f24d-5b72-4c2f-9171-3542d2df154b"
      },
      "execution_count": null,
      "outputs": [
        {
          "output_type": "stream",
          "name": "stdout",
          "text": [
            "0.4436072108660889\n",
            "0.266110929592247\n",
            "5\n",
            "7\n",
            "11\n",
            "15\n"
          ]
        }
      ]
    },
    {
      "cell_type": "markdown",
      "source": [
        "##### 난수 라이브러리 \n",
        "  - randn, randint, rand, normal, uniform, shuffle, permutaion"
      ],
      "metadata": {
        "id": "1A8rUXn6a-Ng"
      }
    },
    {
      "cell_type": "code",
      "source": [
        "# 난수 라이브러리 (np.random.randn(n) : n개의 난수를 생성하는데 평균이 0, 분산이 1인 표준정규분포를 따르는 난수 생성) [정규분포] [-1.1]\n",
        "print(np.random.randn(5)*10+165) # 평균 : 165, 표준편차 : 10\n",
        "print(np.random.randn(3,2))"
      ],
      "metadata": {
        "colab": {
          "base_uri": "https://localhost:8080/"
        },
        "id": "mRfCHkwLaU6p",
        "outputId": "d39f31e9-de40-4591-abe9-04bdd371f610"
      },
      "execution_count": null,
      "outputs": [
        {
          "output_type": "stream",
          "name": "stdout",
          "text": [
            "[176.34376124 175.58971604 168.24933022 162.82017392 148.74865071]\n",
            "[[ 0.50032015  0.02462082]\n",
            " [-0.84335181 -0.32572017]\n",
            " [ 0.07997573  0.21459502]]\n"
          ]
        }
      ]
    },
    {
      "cell_type": "code",
      "source": [
        "# 난수 라이브러리 (np.random.randint(최소값, 최대값, size=원소의 개수)\n",
        "# randint 함수의 랜덤 범위는 a <= x <= b 입니다.\n",
        "# 정수(int)값, 최소와 최대 사이의 임의의 정수 난수 생성\n",
        "print(np.random.randint(150, 190, size=10))"
      ],
      "metadata": {
        "colab": {
          "base_uri": "https://localhost:8080/"
        },
        "id": "xsiizab2cJyl",
        "outputId": "3f8330cb-d919-4241-b88b-f24064f831f0"
      },
      "execution_count": null,
      "outputs": [
        {
          "output_type": "stream",
          "name": "stdout",
          "text": [
            "[157 188 189 171 166 170 173 168 178 159]\n"
          ]
        }
      ]
    },
    {
      "cell_type": "code",
      "source": [
        "# 난수 라이브러리 (np.random.rand(n) : n개의 난수 표본을 생성 [균일분포], [0,1]\n",
        "print(np.random.rand(3))\n",
        "print(np.random.rand(3,2))"
      ],
      "metadata": {
        "colab": {
          "base_uri": "https://localhost:8080/"
        },
        "id": "TtWsOebydXOd",
        "outputId": "c2658186-e8e2-4ea5-a767-4a45cf0dc91c"
      },
      "execution_count": null,
      "outputs": [
        {
          "output_type": "stream",
          "name": "stdout",
          "text": [
            "[0.98851603 0.91995024 0.99504274]\n",
            "[[0.54976238 0.59716336]\n",
            " [0.68263072 0.7346346 ]\n",
            " [0.52052797 0.32480675]]\n"
          ]
        }
      ]
    },
    {
      "cell_type": "code",
      "source": [
        "# 난수 라이브러리 (np.random.normal(평균, 표준편차, size=()) : 평균과 표준편차를 인자로 받아, 전규분포의 난수 표본 추출)\n",
        "print(np.random.normal(32, 10, size=(3,4)))"
      ],
      "metadata": {
        "id": "h5M154J5eYvb",
        "colab": {
          "base_uri": "https://localhost:8080/"
        },
        "outputId": "9c574c2f-e4b9-4643-8126-2fd65f171e27"
      },
      "execution_count": null,
      "outputs": [
        {
          "output_type": "stream",
          "name": "stdout",
          "text": [
            "[[33.36980546 16.86237329 31.07220481 23.55891392]\n",
            " [38.76534296 25.01895288 22.70073747 49.27665168]\n",
            " [25.6320105  58.28754892 20.78844975 20.32849942]]\n"
          ]
        }
      ]
    },
    {
      "cell_type": "code",
      "source": [
        "# 난수 라이브러리 shuffle (원배열 변함) / permutation (원배율은 일정) : 배열을 임의의 순서로 섞는다\n",
        "a=np.arange(5)\n",
        "b=np.arange(5)\n",
        "print(a, b)\n",
        "np.random.shuffle(a)\n",
        "new_b=np.random.permutation(b)\n",
        "print(a)\n",
        "print(new_b, b)"
      ],
      "metadata": {
        "colab": {
          "base_uri": "https://localhost:8080/"
        },
        "id": "ae7h2V1efMCJ",
        "outputId": "d08cd8c6-207a-4149-a2c2-02edb612bdbc"
      },
      "execution_count": null,
      "outputs": [
        {
          "output_type": "stream",
          "name": "stdout",
          "text": [
            "[0 1 2 3 4] [0 1 2 3 4]\n",
            "[4 3 0 2 1]\n",
            "[2 0 3 4 1] [0 1 2 3 4]\n"
          ]
        }
      ]
    },
    {
      "cell_type": "code",
      "source": [
        "# random.random() : 0.0에서부터 1.0 사이의 실수(float)를 반환합니다. \n",
        "# 정확한 범위는 1.0을 포함하지 않는 범위 입니다. (0.0 <= x < 1.0)\n",
        "x = np.random.random()\n",
        "print(x)\n",
        "\n",
        "# random.uniform(a, b, c) : 인자로 들어온 a~b 사이의 실수(float)를 c개 반환합니다.\n",
        "# uniform 함수의 랜덤 범위는 a <= x <= b 입니다.\n",
        "y = np.random.uniform(10, 20, 10)\n",
        "print(y)"
      ],
      "metadata": {
        "colab": {
          "base_uri": "https://localhost:8080/"
        },
        "id": "BNJgALk12tdj",
        "outputId": "507b23d4-54a8-4d77-948a-c820a05b5460"
      },
      "execution_count": null,
      "outputs": [
        {
          "output_type": "stream",
          "name": "stdout",
          "text": [
            "0.13076098310939666\n",
            "[18.89779236 17.20810506 17.91929431 16.79762985 12.94256749 15.1420501\n",
            " 11.5160839  17.07993114 13.72716414 19.91094247]\n"
          ]
        }
      ]
    },
    {
      "cell_type": "markdown",
      "source": [
        "#### 넘파이의 인덱싱과 슬라이싱\n",
        "\n",
        "*   슬라이싱 : 인자 사이에 \":\"기호를 입력하면 앞 인자부터 뒤 인자 까지를 의미한다.\n",
        "    - NumPy 인덱싱에서는 마지막 값을 포함 하지 않는다.\n",
        "    - 즉. 1:3 -> 1, 2 / 3:8 -> 3, 4, 5, 6, 7와 같은 데이터 값이 나온다\n"
      ],
      "metadata": {
        "id": "AivGkbUHNtMB"
      }
    },
    {
      "cell_type": "code",
      "source": [
        "a=np.arange(1,13).reshape(4,3)\n",
        "print(a)"
      ],
      "metadata": {
        "colab": {
          "base_uri": "https://localhost:8080/"
        },
        "id": "rrsK72sHP9mn",
        "outputId": "5d378769-7550-4052-db7a-fb22cd7cefb9"
      },
      "execution_count": null,
      "outputs": [
        {
          "output_type": "stream",
          "name": "stdout",
          "text": [
            "[[ 1  2  3]\n",
            " [ 4  5  6]\n",
            " [ 7  8  9]\n",
            " [10 11 12]]\n"
          ]
        }
      ]
    },
    {
      "cell_type": "code",
      "source": [
        "# 지정된 위치의 데이터 인덱싱 및 슬라이싱\n",
        "print(a[1][1])\n",
        "print(a[2])\n",
        "# 지정된 위치의 행과 열을 인덱싱 및 슬라이싱 (각각의 축에 별도로 적용)\n",
        "print(a[[2]])\n",
        "print(a[2:3, 0:3])"
      ],
      "metadata": {
        "colab": {
          "base_uri": "https://localhost:8080/"
        },
        "id": "SUxCVDQCQH8d",
        "outputId": "2bcd4476-bf7e-4dff-b234-25a69485dc1c"
      },
      "execution_count": null,
      "outputs": [
        {
          "output_type": "stream",
          "name": "stdout",
          "text": [
            "5\n",
            "[7 8 9]\n",
            "[[7 8 9]]\n",
            "[[7 8 9]]\n"
          ]
        }
      ]
    },
    {
      "cell_type": "code",
      "source": [
        "# 논리 인덱싱 (조건) : 특정한 조건을 주어서 배열에서 원하는 값을 추려내는것\n",
        "print(a%2==0)\n",
        "print(a[a%2==0])\n",
        "print(a/2==1)\n",
        "print(a[a/2==1])"
      ],
      "metadata": {
        "colab": {
          "base_uri": "https://localhost:8080/"
        },
        "id": "bG90npCqh66x",
        "outputId": "b5eff693-0f9c-486a-fd56-9597021d95b2"
      },
      "execution_count": null,
      "outputs": [
        {
          "output_type": "stream",
          "name": "stdout",
          "text": [
            "[[False  True False]\n",
            " [ True False  True]\n",
            " [False  True False]\n",
            " [ True False  True]]\n",
            "[ 2  4  6  8 10 12]\n",
            "[[False  True False]\n",
            " [False False False]\n",
            " [False False False]\n",
            " [False False False]]\n",
            "[2]\n"
          ]
        }
      ]
    },
    {
      "cell_type": "markdown",
      "source": [
        "#### 선형 방정식 풀이 및 리덕션"
      ],
      "metadata": {
        "id": "Y6vueMs5iqbe"
      }
    },
    {
      "cell_type": "code",
      "source": [
        "# 선형 대수 (numpy.linalg)\n",
        "a=np.array([[1,3,4],[3,2,1],[3,1,-1]])\n",
        "b=np.array([2,1,3])\n",
        "print(np.linalg.solve(a,b)) # np.linalg.solve (a,b) : 선형방정식 해를 구하는 함수\n",
        "print(np.linalg.det(a)) # np.linalg.det(a) : 행렬식 구하는 함수"
      ],
      "metadata": {
        "colab": {
          "base_uri": "https://localhost:8080/"
        },
        "id": "BYXq_KjlitOh",
        "outputId": "a8ae50e1-7122-4a62-af7f-474fd22e5ae7"
      },
      "execution_count": null,
      "outputs": [
        {
          "output_type": "stream",
          "name": "stdout",
          "text": [
            "[-4.66666667 10.66666667 -6.33333333]\n",
            "3.000000000000002\n"
          ]
        }
      ]
    },
    {
      "cell_type": "code",
      "source": [
        "# 리덕션 (reduction) : 여러 개의 수로 이루어진 배열을 하나의 수로 집계\n",
        "a=np.arange(1,10).reshape(3,3)\n",
        "print(a)\n",
        "print(\"-\"*10)\n",
        "\n",
        "print(np.sum(a, axis=0))\n",
        "print(np.sum(a, axis=1))\n",
        "print(np.sum(a))\n",
        "print(\"-\"*10)\n",
        "\n",
        "print(np.mean(a, axis=0))\n",
        "print(np.mean(a, axis=1))\n",
        "print(np.mean(a))\n",
        "print(\"-\"*10)\n",
        "\n",
        "print(np.max(a, axis=0))\n",
        "print(np.max(a, axis=1))\n",
        "print(np.max(a))"
      ],
      "metadata": {
        "colab": {
          "base_uri": "https://localhost:8080/"
        },
        "id": "qaNiCBK_jll9",
        "outputId": "dcc732cf-c6f1-49bc-a78f-3c62afec696b"
      },
      "execution_count": null,
      "outputs": [
        {
          "output_type": "stream",
          "name": "stdout",
          "text": [
            "[[1 2 3]\n",
            " [4 5 6]\n",
            " [7 8 9]]\n",
            "----------\n",
            "[12 15 18]\n",
            "[ 6 15 24]\n",
            "45\n",
            "----------\n",
            "[4. 5. 6.]\n",
            "[2. 5. 8.]\n",
            "5.0\n",
            "----------\n",
            "[7 8 9]\n",
            "[3 6 9]\n",
            "9\n"
          ]
        }
      ]
    },
    {
      "cell_type": "markdown",
      "source": [
        "#### 넘파이 결합"
      ],
      "metadata": {
        "id": "UvGJRAnsmhMK"
      }
    },
    {
      "cell_type": "code",
      "source": [
        "a=np.array([1,2,3])\n",
        "b=np.array([4,5,6])"
      ],
      "metadata": {
        "id": "pqY7B_D3mqeS"
      },
      "execution_count": null,
      "outputs": []
    },
    {
      "cell_type": "code",
      "source": [
        "# 수평 결합\n",
        "print(np.r_[a,b])\n",
        "print(np.hstack((a,b)))\n",
        "print(np.concatenate((a,b)))"
      ],
      "metadata": {
        "colab": {
          "base_uri": "https://localhost:8080/"
        },
        "id": "-FQ6qmLcmkMD",
        "outputId": "3740b75b-6e60-4425-f33c-7c0d1102d310"
      },
      "execution_count": null,
      "outputs": [
        {
          "output_type": "stream",
          "name": "stdout",
          "text": [
            "[1 2 3 4 5 6]\n",
            "[1 2 3 4 5 6]\n",
            "[1 2 3 4 5 6]\n"
          ]
        }
      ]
    },
    {
      "cell_type": "code",
      "source": [
        "# 수직 결합\n",
        "print(np.r_[[a],[b]])\n",
        "print(np.vstack((a,b)))"
      ],
      "metadata": {
        "colab": {
          "base_uri": "https://localhost:8080/"
        },
        "id": "-UxsxjTnmmTC",
        "outputId": "f789b91d-1d60-487f-e016-3e0cae3ee507"
      },
      "execution_count": null,
      "outputs": [
        {
          "output_type": "stream",
          "name": "stdout",
          "text": [
            "[[1 2 3]\n",
            " [4 5 6]]\n",
            "[[1 2 3]\n",
            " [4 5 6]]\n"
          ]
        }
      ]
    },
    {
      "cell_type": "code",
      "source": [
        "# 열 결합\n",
        "print(np.c_[a,b])\n",
        "print(np.column_stack((a,b)))"
      ],
      "metadata": {
        "colab": {
          "base_uri": "https://localhost:8080/"
        },
        "id": "RsxjgE_Tmn7x",
        "outputId": "1d5714ac-a379-4589-df71-98ac05c6d746"
      },
      "execution_count": null,
      "outputs": [
        {
          "output_type": "stream",
          "name": "stdout",
          "text": [
            "[[1 4]\n",
            " [2 5]\n",
            " [3 6]]\n",
            "[[1 4]\n",
            " [2 5]\n",
            " [3 6]]\n"
          ]
        }
      ]
    },
    {
      "cell_type": "code",
      "source": [
        ""
      ],
      "metadata": {
        "id": "K8BnZLWcpQRt"
      },
      "execution_count": null,
      "outputs": []
    },
    {
      "cell_type": "markdown",
      "source": [
        "### pandas"
      ],
      "metadata": {
        "id": "CERyBhtapO46"
      }
    },
    {
      "cell_type": "code",
      "source": [
        "import pandas as pd"
      ],
      "metadata": {
        "id": "8M4DtigQki71"
      },
      "execution_count": null,
      "outputs": []
    },
    {
      "cell_type": "markdown",
      "source": [
        "#### Series (1차원 : 행 인덱스)"
      ],
      "metadata": {
        "id": "fVF1y2V-kc2j"
      }
    },
    {
      "cell_type": "code",
      "source": [
        "data1=[1,2,3,4,5]\n",
        "data2=[\"banana\", \"potato\", \"apple\", \"pineapple\", \"cherry\"]\n",
        "a=pd.Series(data1, index=data2)"
      ],
      "metadata": {
        "id": "RbykeVvepVY-"
      },
      "execution_count": null,
      "outputs": []
    },
    {
      "cell_type": "code",
      "source": [
        "b=pd.Series([1,2,3,4,5], index=[\"plum\", \"potato\", \"apple\", \"pineapple\", \"cherry\"])"
      ],
      "metadata": {
        "id": "IKi7jFbIpLeC"
      },
      "execution_count": null,
      "outputs": []
    },
    {
      "cell_type": "code",
      "source": [
        "print(b[0])\n",
        "print(b[[0]])\n",
        "print(b[\"plum\"])\n",
        "print(b[0:3])\n",
        "print(b.values)\n",
        "print(b.keys)"
      ],
      "metadata": {
        "colab": {
          "base_uri": "https://localhost:8080/"
        },
        "id": "fYZhnvjjpoJg",
        "outputId": "31f8eb74-dd87-4da7-a673-cfb4ddec347e"
      },
      "execution_count": null,
      "outputs": [
        {
          "output_type": "stream",
          "name": "stdout",
          "text": [
            "1\n",
            "plum    1\n",
            "dtype: int64\n",
            "1\n",
            "plum      1\n",
            "potato    2\n",
            "apple     3\n",
            "dtype: int64\n",
            "[1 2 3 4 5]\n",
            "<bound method Series.keys of plum         1\n",
            "potato       2\n",
            "apple        3\n",
            "pineapple    4\n",
            "cherry       5\n",
            "dtype: int64>\n"
          ]
        }
      ]
    },
    {
      "cell_type": "code",
      "source": [
        "print(a+b)"
      ],
      "metadata": {
        "colab": {
          "base_uri": "https://localhost:8080/"
        },
        "id": "7Uc6kwMBsLUd",
        "outputId": "950d17fc-8628-484b-b435-bc3ca2c7ba93"
      },
      "execution_count": null,
      "outputs": [
        {
          "output_type": "stream",
          "name": "stdout",
          "text": [
            "apple         6.0\n",
            "banana        NaN\n",
            "cherry       10.0\n",
            "pineapple     8.0\n",
            "plum          NaN\n",
            "potato        4.0\n",
            "dtype: float64\n"
          ]
        }
      ]
    },
    {
      "cell_type": "markdown",
      "source": [
        "#### DataFrame (2차원 : 행 인덱스와 열)"
      ],
      "metadata": {
        "id": "4cmJ9197kfJ3"
      }
    },
    {
      "cell_type": "code",
      "source": [
        "data1={\"name\" :[\"banana\", \"potato\", \"apple\", \"pineapple\", \"cherry\"], \\\n",
        "       \"years\":[27,30,20,10,30]}\n",
        "data2=pd.DataFrame(data1)\n",
        "data2"
      ],
      "metadata": {
        "colab": {
          "base_uri": "https://localhost:8080/",
          "height": 206
        },
        "id": "eNa8_IX1kiEG",
        "outputId": "5c60a78c-4200-4ded-f759-8047d7ed1650"
      },
      "execution_count": null,
      "outputs": [
        {
          "output_type": "execute_result",
          "data": {
            "text/plain": [
              "        name  years\n",
              "0     banana     27\n",
              "1     potato     30\n",
              "2      apple     20\n",
              "3  pineapple     10\n",
              "4     cherry     30"
            ],
            "text/html": [
              "\n",
              "  <div id=\"df-4d255cc2-f274-4522-9251-876140d77fe6\">\n",
              "    <div class=\"colab-df-container\">\n",
              "      <div>\n",
              "<style scoped>\n",
              "    .dataframe tbody tr th:only-of-type {\n",
              "        vertical-align: middle;\n",
              "    }\n",
              "\n",
              "    .dataframe tbody tr th {\n",
              "        vertical-align: top;\n",
              "    }\n",
              "\n",
              "    .dataframe thead th {\n",
              "        text-align: right;\n",
              "    }\n",
              "</style>\n",
              "<table border=\"1\" class=\"dataframe\">\n",
              "  <thead>\n",
              "    <tr style=\"text-align: right;\">\n",
              "      <th></th>\n",
              "      <th>name</th>\n",
              "      <th>years</th>\n",
              "    </tr>\n",
              "  </thead>\n",
              "  <tbody>\n",
              "    <tr>\n",
              "      <th>0</th>\n",
              "      <td>banana</td>\n",
              "      <td>27</td>\n",
              "    </tr>\n",
              "    <tr>\n",
              "      <th>1</th>\n",
              "      <td>potato</td>\n",
              "      <td>30</td>\n",
              "    </tr>\n",
              "    <tr>\n",
              "      <th>2</th>\n",
              "      <td>apple</td>\n",
              "      <td>20</td>\n",
              "    </tr>\n",
              "    <tr>\n",
              "      <th>3</th>\n",
              "      <td>pineapple</td>\n",
              "      <td>10</td>\n",
              "    </tr>\n",
              "    <tr>\n",
              "      <th>4</th>\n",
              "      <td>cherry</td>\n",
              "      <td>30</td>\n",
              "    </tr>\n",
              "  </tbody>\n",
              "</table>\n",
              "</div>\n",
              "      <button class=\"colab-df-convert\" onclick=\"convertToInteractive('df-4d255cc2-f274-4522-9251-876140d77fe6')\"\n",
              "              title=\"Convert this dataframe to an interactive table.\"\n",
              "              style=\"display:none;\">\n",
              "        \n",
              "  <svg xmlns=\"http://www.w3.org/2000/svg\" height=\"24px\"viewBox=\"0 0 24 24\"\n",
              "       width=\"24px\">\n",
              "    <path d=\"M0 0h24v24H0V0z\" fill=\"none\"/>\n",
              "    <path d=\"M18.56 5.44l.94 2.06.94-2.06 2.06-.94-2.06-.94-.94-2.06-.94 2.06-2.06.94zm-11 1L8.5 8.5l.94-2.06 2.06-.94-2.06-.94L8.5 2.5l-.94 2.06-2.06.94zm10 10l.94 2.06.94-2.06 2.06-.94-2.06-.94-.94-2.06-.94 2.06-2.06.94z\"/><path d=\"M17.41 7.96l-1.37-1.37c-.4-.4-.92-.59-1.43-.59-.52 0-1.04.2-1.43.59L10.3 9.45l-7.72 7.72c-.78.78-.78 2.05 0 2.83L4 21.41c.39.39.9.59 1.41.59.51 0 1.02-.2 1.41-.59l7.78-7.78 2.81-2.81c.8-.78.8-2.07 0-2.86zM5.41 20L4 18.59l7.72-7.72 1.47 1.35L5.41 20z\"/>\n",
              "  </svg>\n",
              "      </button>\n",
              "      \n",
              "  <style>\n",
              "    .colab-df-container {\n",
              "      display:flex;\n",
              "      flex-wrap:wrap;\n",
              "      gap: 12px;\n",
              "    }\n",
              "\n",
              "    .colab-df-convert {\n",
              "      background-color: #E8F0FE;\n",
              "      border: none;\n",
              "      border-radius: 50%;\n",
              "      cursor: pointer;\n",
              "      display: none;\n",
              "      fill: #1967D2;\n",
              "      height: 32px;\n",
              "      padding: 0 0 0 0;\n",
              "      width: 32px;\n",
              "    }\n",
              "\n",
              "    .colab-df-convert:hover {\n",
              "      background-color: #E2EBFA;\n",
              "      box-shadow: 0px 1px 2px rgba(60, 64, 67, 0.3), 0px 1px 3px 1px rgba(60, 64, 67, 0.15);\n",
              "      fill: #174EA6;\n",
              "    }\n",
              "\n",
              "    [theme=dark] .colab-df-convert {\n",
              "      background-color: #3B4455;\n",
              "      fill: #D2E3FC;\n",
              "    }\n",
              "\n",
              "    [theme=dark] .colab-df-convert:hover {\n",
              "      background-color: #434B5C;\n",
              "      box-shadow: 0px 1px 3px 1px rgba(0, 0, 0, 0.15);\n",
              "      filter: drop-shadow(0px 1px 2px rgba(0, 0, 0, 0.3));\n",
              "      fill: #FFFFFF;\n",
              "    }\n",
              "  </style>\n",
              "\n",
              "      <script>\n",
              "        const buttonEl =\n",
              "          document.querySelector('#df-4d255cc2-f274-4522-9251-876140d77fe6 button.colab-df-convert');\n",
              "        buttonEl.style.display =\n",
              "          google.colab.kernel.accessAllowed ? 'block' : 'none';\n",
              "\n",
              "        async function convertToInteractive(key) {\n",
              "          const element = document.querySelector('#df-4d255cc2-f274-4522-9251-876140d77fe6');\n",
              "          const dataTable =\n",
              "            await google.colab.kernel.invokeFunction('convertToInteractive',\n",
              "                                                     [key], {});\n",
              "          if (!dataTable) return;\n",
              "\n",
              "          const docLinkHtml = 'Like what you see? Visit the ' +\n",
              "            '<a target=\"_blank\" href=https://colab.research.google.com/notebooks/data_table.ipynb>data table notebook</a>'\n",
              "            + ' to learn more about interactive tables.';\n",
              "          element.innerHTML = '';\n",
              "          dataTable['output_type'] = 'display_data';\n",
              "          await google.colab.output.renderOutput(dataTable, element);\n",
              "          const docLink = document.createElement('div');\n",
              "          docLink.innerHTML = docLinkHtml;\n",
              "          element.appendChild(docLink);\n",
              "        }\n",
              "      </script>\n",
              "    </div>\n",
              "  </div>\n",
              "  "
            ]
          },
          "metadata": {},
          "execution_count": 122
        }
      ]
    },
    {
      "cell_type": "code",
      "source": [
        "# 데이터 타입 확인\n",
        "type(data2)"
      ],
      "metadata": {
        "colab": {
          "base_uri": "https://localhost:8080/"
        },
        "id": "sms3wdUhu6z1",
        "outputId": "b4b60303-4154-4df3-f411-ba0fb0f81e39"
      },
      "execution_count": null,
      "outputs": [
        {
          "output_type": "execute_result",
          "data": {
            "text/plain": [
              "pandas.core.frame.DataFrame"
            ]
          },
          "metadata": {},
          "execution_count": 123
        }
      ]
    },
    {
      "cell_type": "code",
      "source": [
        "a=pd.DataFrame([[123,42,32], [32,324,12]], index=[\"banana\", \"cherry\"], columns=[\"돈\", \"나이\", \"친구수\"])\n",
        "a"
      ],
      "metadata": {
        "colab": {
          "base_uri": "https://localhost:8080/",
          "height": 112
        },
        "id": "cXl2qWoEtIks",
        "outputId": "fe81fb1c-8e8a-4f91-849e-e258699ddcd3"
      },
      "execution_count": null,
      "outputs": [
        {
          "output_type": "execute_result",
          "data": {
            "text/plain": [
              "          돈   나이  친구수\n",
              "banana  123   42   32\n",
              "cherry   32  324   12"
            ],
            "text/html": [
              "\n",
              "  <div id=\"df-f0a5f904-2c5c-4859-a544-4e7e27998ccf\">\n",
              "    <div class=\"colab-df-container\">\n",
              "      <div>\n",
              "<style scoped>\n",
              "    .dataframe tbody tr th:only-of-type {\n",
              "        vertical-align: middle;\n",
              "    }\n",
              "\n",
              "    .dataframe tbody tr th {\n",
              "        vertical-align: top;\n",
              "    }\n",
              "\n",
              "    .dataframe thead th {\n",
              "        text-align: right;\n",
              "    }\n",
              "</style>\n",
              "<table border=\"1\" class=\"dataframe\">\n",
              "  <thead>\n",
              "    <tr style=\"text-align: right;\">\n",
              "      <th></th>\n",
              "      <th>돈</th>\n",
              "      <th>나이</th>\n",
              "      <th>친구수</th>\n",
              "    </tr>\n",
              "  </thead>\n",
              "  <tbody>\n",
              "    <tr>\n",
              "      <th>banana</th>\n",
              "      <td>123</td>\n",
              "      <td>42</td>\n",
              "      <td>32</td>\n",
              "    </tr>\n",
              "    <tr>\n",
              "      <th>cherry</th>\n",
              "      <td>32</td>\n",
              "      <td>324</td>\n",
              "      <td>12</td>\n",
              "    </tr>\n",
              "  </tbody>\n",
              "</table>\n",
              "</div>\n",
              "      <button class=\"colab-df-convert\" onclick=\"convertToInteractive('df-f0a5f904-2c5c-4859-a544-4e7e27998ccf')\"\n",
              "              title=\"Convert this dataframe to an interactive table.\"\n",
              "              style=\"display:none;\">\n",
              "        \n",
              "  <svg xmlns=\"http://www.w3.org/2000/svg\" height=\"24px\"viewBox=\"0 0 24 24\"\n",
              "       width=\"24px\">\n",
              "    <path d=\"M0 0h24v24H0V0z\" fill=\"none\"/>\n",
              "    <path d=\"M18.56 5.44l.94 2.06.94-2.06 2.06-.94-2.06-.94-.94-2.06-.94 2.06-2.06.94zm-11 1L8.5 8.5l.94-2.06 2.06-.94-2.06-.94L8.5 2.5l-.94 2.06-2.06.94zm10 10l.94 2.06.94-2.06 2.06-.94-2.06-.94-.94-2.06-.94 2.06-2.06.94z\"/><path d=\"M17.41 7.96l-1.37-1.37c-.4-.4-.92-.59-1.43-.59-.52 0-1.04.2-1.43.59L10.3 9.45l-7.72 7.72c-.78.78-.78 2.05 0 2.83L4 21.41c.39.39.9.59 1.41.59.51 0 1.02-.2 1.41-.59l7.78-7.78 2.81-2.81c.8-.78.8-2.07 0-2.86zM5.41 20L4 18.59l7.72-7.72 1.47 1.35L5.41 20z\"/>\n",
              "  </svg>\n",
              "      </button>\n",
              "      \n",
              "  <style>\n",
              "    .colab-df-container {\n",
              "      display:flex;\n",
              "      flex-wrap:wrap;\n",
              "      gap: 12px;\n",
              "    }\n",
              "\n",
              "    .colab-df-convert {\n",
              "      background-color: #E8F0FE;\n",
              "      border: none;\n",
              "      border-radius: 50%;\n",
              "      cursor: pointer;\n",
              "      display: none;\n",
              "      fill: #1967D2;\n",
              "      height: 32px;\n",
              "      padding: 0 0 0 0;\n",
              "      width: 32px;\n",
              "    }\n",
              "\n",
              "    .colab-df-convert:hover {\n",
              "      background-color: #E2EBFA;\n",
              "      box-shadow: 0px 1px 2px rgba(60, 64, 67, 0.3), 0px 1px 3px 1px rgba(60, 64, 67, 0.15);\n",
              "      fill: #174EA6;\n",
              "    }\n",
              "\n",
              "    [theme=dark] .colab-df-convert {\n",
              "      background-color: #3B4455;\n",
              "      fill: #D2E3FC;\n",
              "    }\n",
              "\n",
              "    [theme=dark] .colab-df-convert:hover {\n",
              "      background-color: #434B5C;\n",
              "      box-shadow: 0px 1px 3px 1px rgba(0, 0, 0, 0.15);\n",
              "      filter: drop-shadow(0px 1px 2px rgba(0, 0, 0, 0.3));\n",
              "      fill: #FFFFFF;\n",
              "    }\n",
              "  </style>\n",
              "\n",
              "      <script>\n",
              "        const buttonEl =\n",
              "          document.querySelector('#df-f0a5f904-2c5c-4859-a544-4e7e27998ccf button.colab-df-convert');\n",
              "        buttonEl.style.display =\n",
              "          google.colab.kernel.accessAllowed ? 'block' : 'none';\n",
              "\n",
              "        async function convertToInteractive(key) {\n",
              "          const element = document.querySelector('#df-f0a5f904-2c5c-4859-a544-4e7e27998ccf');\n",
              "          const dataTable =\n",
              "            await google.colab.kernel.invokeFunction('convertToInteractive',\n",
              "                                                     [key], {});\n",
              "          if (!dataTable) return;\n",
              "\n",
              "          const docLinkHtml = 'Like what you see? Visit the ' +\n",
              "            '<a target=\"_blank\" href=https://colab.research.google.com/notebooks/data_table.ipynb>data table notebook</a>'\n",
              "            + ' to learn more about interactive tables.';\n",
              "          element.innerHTML = '';\n",
              "          dataTable['output_type'] = 'display_data';\n",
              "          await google.colab.output.renderOutput(dataTable, element);\n",
              "          const docLink = document.createElement('div');\n",
              "          docLink.innerHTML = docLinkHtml;\n",
              "          element.appendChild(docLink);\n",
              "        }\n",
              "      </script>\n",
              "    </div>\n",
              "  </div>\n",
              "  "
            ]
          },
          "metadata": {},
          "execution_count": 124
        }
      ]
    },
    {
      "cell_type": "code",
      "source": [
        "# 행데이터 추출\n",
        "a[\"banana\":]"
      ],
      "metadata": {
        "colab": {
          "base_uri": "https://localhost:8080/",
          "height": 112
        },
        "id": "sF-d1fltvSfp",
        "outputId": "f864cad0-9087-47ed-ceb2-73e523f1d96f"
      },
      "execution_count": null,
      "outputs": [
        {
          "output_type": "execute_result",
          "data": {
            "text/plain": [
              "          돈   나이  친구수\n",
              "banana  123   42   32\n",
              "cherry   32  324   12"
            ],
            "text/html": [
              "\n",
              "  <div id=\"df-6099df9b-4b19-47fa-b69f-6545c30049be\">\n",
              "    <div class=\"colab-df-container\">\n",
              "      <div>\n",
              "<style scoped>\n",
              "    .dataframe tbody tr th:only-of-type {\n",
              "        vertical-align: middle;\n",
              "    }\n",
              "\n",
              "    .dataframe tbody tr th {\n",
              "        vertical-align: top;\n",
              "    }\n",
              "\n",
              "    .dataframe thead th {\n",
              "        text-align: right;\n",
              "    }\n",
              "</style>\n",
              "<table border=\"1\" class=\"dataframe\">\n",
              "  <thead>\n",
              "    <tr style=\"text-align: right;\">\n",
              "      <th></th>\n",
              "      <th>돈</th>\n",
              "      <th>나이</th>\n",
              "      <th>친구수</th>\n",
              "    </tr>\n",
              "  </thead>\n",
              "  <tbody>\n",
              "    <tr>\n",
              "      <th>banana</th>\n",
              "      <td>123</td>\n",
              "      <td>42</td>\n",
              "      <td>32</td>\n",
              "    </tr>\n",
              "    <tr>\n",
              "      <th>cherry</th>\n",
              "      <td>32</td>\n",
              "      <td>324</td>\n",
              "      <td>12</td>\n",
              "    </tr>\n",
              "  </tbody>\n",
              "</table>\n",
              "</div>\n",
              "      <button class=\"colab-df-convert\" onclick=\"convertToInteractive('df-6099df9b-4b19-47fa-b69f-6545c30049be')\"\n",
              "              title=\"Convert this dataframe to an interactive table.\"\n",
              "              style=\"display:none;\">\n",
              "        \n",
              "  <svg xmlns=\"http://www.w3.org/2000/svg\" height=\"24px\"viewBox=\"0 0 24 24\"\n",
              "       width=\"24px\">\n",
              "    <path d=\"M0 0h24v24H0V0z\" fill=\"none\"/>\n",
              "    <path d=\"M18.56 5.44l.94 2.06.94-2.06 2.06-.94-2.06-.94-.94-2.06-.94 2.06-2.06.94zm-11 1L8.5 8.5l.94-2.06 2.06-.94-2.06-.94L8.5 2.5l-.94 2.06-2.06.94zm10 10l.94 2.06.94-2.06 2.06-.94-2.06-.94-.94-2.06-.94 2.06-2.06.94z\"/><path d=\"M17.41 7.96l-1.37-1.37c-.4-.4-.92-.59-1.43-.59-.52 0-1.04.2-1.43.59L10.3 9.45l-7.72 7.72c-.78.78-.78 2.05 0 2.83L4 21.41c.39.39.9.59 1.41.59.51 0 1.02-.2 1.41-.59l7.78-7.78 2.81-2.81c.8-.78.8-2.07 0-2.86zM5.41 20L4 18.59l7.72-7.72 1.47 1.35L5.41 20z\"/>\n",
              "  </svg>\n",
              "      </button>\n",
              "      \n",
              "  <style>\n",
              "    .colab-df-container {\n",
              "      display:flex;\n",
              "      flex-wrap:wrap;\n",
              "      gap: 12px;\n",
              "    }\n",
              "\n",
              "    .colab-df-convert {\n",
              "      background-color: #E8F0FE;\n",
              "      border: none;\n",
              "      border-radius: 50%;\n",
              "      cursor: pointer;\n",
              "      display: none;\n",
              "      fill: #1967D2;\n",
              "      height: 32px;\n",
              "      padding: 0 0 0 0;\n",
              "      width: 32px;\n",
              "    }\n",
              "\n",
              "    .colab-df-convert:hover {\n",
              "      background-color: #E2EBFA;\n",
              "      box-shadow: 0px 1px 2px rgba(60, 64, 67, 0.3), 0px 1px 3px 1px rgba(60, 64, 67, 0.15);\n",
              "      fill: #174EA6;\n",
              "    }\n",
              "\n",
              "    [theme=dark] .colab-df-convert {\n",
              "      background-color: #3B4455;\n",
              "      fill: #D2E3FC;\n",
              "    }\n",
              "\n",
              "    [theme=dark] .colab-df-convert:hover {\n",
              "      background-color: #434B5C;\n",
              "      box-shadow: 0px 1px 3px 1px rgba(0, 0, 0, 0.15);\n",
              "      filter: drop-shadow(0px 1px 2px rgba(0, 0, 0, 0.3));\n",
              "      fill: #FFFFFF;\n",
              "    }\n",
              "  </style>\n",
              "\n",
              "      <script>\n",
              "        const buttonEl =\n",
              "          document.querySelector('#df-6099df9b-4b19-47fa-b69f-6545c30049be button.colab-df-convert');\n",
              "        buttonEl.style.display =\n",
              "          google.colab.kernel.accessAllowed ? 'block' : 'none';\n",
              "\n",
              "        async function convertToInteractive(key) {\n",
              "          const element = document.querySelector('#df-6099df9b-4b19-47fa-b69f-6545c30049be');\n",
              "          const dataTable =\n",
              "            await google.colab.kernel.invokeFunction('convertToInteractive',\n",
              "                                                     [key], {});\n",
              "          if (!dataTable) return;\n",
              "\n",
              "          const docLinkHtml = 'Like what you see? Visit the ' +\n",
              "            '<a target=\"_blank\" href=https://colab.research.google.com/notebooks/data_table.ipynb>data table notebook</a>'\n",
              "            + ' to learn more about interactive tables.';\n",
              "          element.innerHTML = '';\n",
              "          dataTable['output_type'] = 'display_data';\n",
              "          await google.colab.output.renderOutput(dataTable, element);\n",
              "          const docLink = document.createElement('div');\n",
              "          docLink.innerHTML = docLinkHtml;\n",
              "          element.appendChild(docLink);\n",
              "        }\n",
              "      </script>\n",
              "    </div>\n",
              "  </div>\n",
              "  "
            ]
          },
          "metadata": {},
          "execution_count": 125
        }
      ]
    },
    {
      "cell_type": "code",
      "source": [
        "# 열데이터 추출\n",
        "a[\"돈\"]"
      ],
      "metadata": {
        "colab": {
          "base_uri": "https://localhost:8080/"
        },
        "id": "ymNEAD24wNyJ",
        "outputId": "14dc9d17-d26c-491c-af3b-0d38f5dbb483"
      },
      "execution_count": null,
      "outputs": [
        {
          "output_type": "execute_result",
          "data": {
            "text/plain": [
              "banana    123\n",
              "cherry     32\n",
              "Name: 돈, dtype: int64"
            ]
          },
          "metadata": {},
          "execution_count": 126
        }
      ]
    },
    {
      "cell_type": "code",
      "source": [
        "# 열데이터 추출2\n",
        "a[:\"나이\"]"
      ],
      "metadata": {
        "colab": {
          "base_uri": "https://localhost:8080/",
          "height": 112
        },
        "id": "ii42gOisw9_L",
        "outputId": "70b36bd9-afd2-435c-b410-257cc68db591"
      },
      "execution_count": null,
      "outputs": [
        {
          "output_type": "execute_result",
          "data": {
            "text/plain": [
              "          돈   나이  친구수\n",
              "banana  123   42   32\n",
              "cherry   32  324   12"
            ],
            "text/html": [
              "\n",
              "  <div id=\"df-51ae9999-c86e-4bd6-8ff3-0fd923820dcf\">\n",
              "    <div class=\"colab-df-container\">\n",
              "      <div>\n",
              "<style scoped>\n",
              "    .dataframe tbody tr th:only-of-type {\n",
              "        vertical-align: middle;\n",
              "    }\n",
              "\n",
              "    .dataframe tbody tr th {\n",
              "        vertical-align: top;\n",
              "    }\n",
              "\n",
              "    .dataframe thead th {\n",
              "        text-align: right;\n",
              "    }\n",
              "</style>\n",
              "<table border=\"1\" class=\"dataframe\">\n",
              "  <thead>\n",
              "    <tr style=\"text-align: right;\">\n",
              "      <th></th>\n",
              "      <th>돈</th>\n",
              "      <th>나이</th>\n",
              "      <th>친구수</th>\n",
              "    </tr>\n",
              "  </thead>\n",
              "  <tbody>\n",
              "    <tr>\n",
              "      <th>banana</th>\n",
              "      <td>123</td>\n",
              "      <td>42</td>\n",
              "      <td>32</td>\n",
              "    </tr>\n",
              "    <tr>\n",
              "      <th>cherry</th>\n",
              "      <td>32</td>\n",
              "      <td>324</td>\n",
              "      <td>12</td>\n",
              "    </tr>\n",
              "  </tbody>\n",
              "</table>\n",
              "</div>\n",
              "      <button class=\"colab-df-convert\" onclick=\"convertToInteractive('df-51ae9999-c86e-4bd6-8ff3-0fd923820dcf')\"\n",
              "              title=\"Convert this dataframe to an interactive table.\"\n",
              "              style=\"display:none;\">\n",
              "        \n",
              "  <svg xmlns=\"http://www.w3.org/2000/svg\" height=\"24px\"viewBox=\"0 0 24 24\"\n",
              "       width=\"24px\">\n",
              "    <path d=\"M0 0h24v24H0V0z\" fill=\"none\"/>\n",
              "    <path d=\"M18.56 5.44l.94 2.06.94-2.06 2.06-.94-2.06-.94-.94-2.06-.94 2.06-2.06.94zm-11 1L8.5 8.5l.94-2.06 2.06-.94-2.06-.94L8.5 2.5l-.94 2.06-2.06.94zm10 10l.94 2.06.94-2.06 2.06-.94-2.06-.94-.94-2.06-.94 2.06-2.06.94z\"/><path d=\"M17.41 7.96l-1.37-1.37c-.4-.4-.92-.59-1.43-.59-.52 0-1.04.2-1.43.59L10.3 9.45l-7.72 7.72c-.78.78-.78 2.05 0 2.83L4 21.41c.39.39.9.59 1.41.59.51 0 1.02-.2 1.41-.59l7.78-7.78 2.81-2.81c.8-.78.8-2.07 0-2.86zM5.41 20L4 18.59l7.72-7.72 1.47 1.35L5.41 20z\"/>\n",
              "  </svg>\n",
              "      </button>\n",
              "      \n",
              "  <style>\n",
              "    .colab-df-container {\n",
              "      display:flex;\n",
              "      flex-wrap:wrap;\n",
              "      gap: 12px;\n",
              "    }\n",
              "\n",
              "    .colab-df-convert {\n",
              "      background-color: #E8F0FE;\n",
              "      border: none;\n",
              "      border-radius: 50%;\n",
              "      cursor: pointer;\n",
              "      display: none;\n",
              "      fill: #1967D2;\n",
              "      height: 32px;\n",
              "      padding: 0 0 0 0;\n",
              "      width: 32px;\n",
              "    }\n",
              "\n",
              "    .colab-df-convert:hover {\n",
              "      background-color: #E2EBFA;\n",
              "      box-shadow: 0px 1px 2px rgba(60, 64, 67, 0.3), 0px 1px 3px 1px rgba(60, 64, 67, 0.15);\n",
              "      fill: #174EA6;\n",
              "    }\n",
              "\n",
              "    [theme=dark] .colab-df-convert {\n",
              "      background-color: #3B4455;\n",
              "      fill: #D2E3FC;\n",
              "    }\n",
              "\n",
              "    [theme=dark] .colab-df-convert:hover {\n",
              "      background-color: #434B5C;\n",
              "      box-shadow: 0px 1px 3px 1px rgba(0, 0, 0, 0.15);\n",
              "      filter: drop-shadow(0px 1px 2px rgba(0, 0, 0, 0.3));\n",
              "      fill: #FFFFFF;\n",
              "    }\n",
              "  </style>\n",
              "\n",
              "      <script>\n",
              "        const buttonEl =\n",
              "          document.querySelector('#df-51ae9999-c86e-4bd6-8ff3-0fd923820dcf button.colab-df-convert');\n",
              "        buttonEl.style.display =\n",
              "          google.colab.kernel.accessAllowed ? 'block' : 'none';\n",
              "\n",
              "        async function convertToInteractive(key) {\n",
              "          const element = document.querySelector('#df-51ae9999-c86e-4bd6-8ff3-0fd923820dcf');\n",
              "          const dataTable =\n",
              "            await google.colab.kernel.invokeFunction('convertToInteractive',\n",
              "                                                     [key], {});\n",
              "          if (!dataTable) return;\n",
              "\n",
              "          const docLinkHtml = 'Like what you see? Visit the ' +\n",
              "            '<a target=\"_blank\" href=https://colab.research.google.com/notebooks/data_table.ipynb>data table notebook</a>'\n",
              "            + ' to learn more about interactive tables.';\n",
              "          element.innerHTML = '';\n",
              "          dataTable['output_type'] = 'display_data';\n",
              "          await google.colab.output.renderOutput(dataTable, element);\n",
              "          const docLink = document.createElement('div');\n",
              "          docLink.innerHTML = docLinkHtml;\n",
              "          element.appendChild(docLink);\n",
              "        }\n",
              "      </script>\n",
              "    </div>\n",
              "  </div>\n",
              "  "
            ]
          },
          "metadata": {},
          "execution_count": 127
        }
      ]
    },
    {
      "cell_type": "markdown",
      "source": [
        "### matplotlib"
      ],
      "metadata": {
        "id": "guQkKZWXpO-M"
      }
    },
    {
      "cell_type": "code",
      "source": [
        "import numpy as np\n",
        "import matplotlib.pyplot as plt"
      ],
      "metadata": {
        "id": "JMDxU46qDgd0"
      },
      "execution_count": null,
      "outputs": []
    },
    {
      "cell_type": "markdown",
      "source": [
        "#### matplotlib 관련 함수"
      ],
      "metadata": {
        "id": "Hcfql1gW6IsV"
      }
    },
    {
      "cell_type": "markdown",
      "source": [
        "##### plt 연관 함수"
      ],
      "metadata": {
        "id": "jp__vrqYdHxC"
      }
    },
    {
      "cell_type": "code",
      "source": [
        "# x값의 범위는 디폴트로 [0,1,...n]으로 설정\n",
        "a=np.array([1,2,3,4]) # y값 설정"
      ],
      "metadata": {
        "id": "tUuL4FuW6IsV"
      },
      "execution_count": null,
      "outputs": []
    },
    {
      "cell_type": "code",
      "source": [
        "# label 작성\n",
        "plt.plot(a)\n",
        "plt.title(\"test\") # 그래프의 제목\n",
        "plt.xlabel(\"x_label\") # x축의 문구 작성\n",
        "plt.ylabel(\"y_label\") # y축의 문구 작성\n",
        "plt.show() # 그래프 출력 (주피터 노트북 생략 가능 / 다른 환경에서는 필수)"
      ],
      "metadata": {
        "colab": {
          "base_uri": "https://localhost:8080/",
          "height": 296
        },
        "id": "Q_fENSsiaLhd",
        "outputId": "83ebd71f-544b-427b-ce03-9f71e6caa34e"
      },
      "execution_count": null,
      "outputs": [
        {
          "output_type": "display_data",
          "data": {
            "text/plain": [
              "<Figure size 432x288 with 1 Axes>"
            ],
            "image/png": "[encoded data removed]"
          },
          "metadata": {
            "needs_background": "light"
          }
        }
      ]
    },
    {
      "cell_type": "code",
      "source": [
        "# 참조선 (수평선, 수직성, 그리드) 작성\n",
        "plt.plot(a)\n",
        "plt.axhline(y=1, color=\"red\", linewidth=2,linestyle=\"dotted\") # 수평선 : plt.axhline(y=, color=\"\", linewidth=, linestyle=\"\")\n",
        "plt.axvline(x=1, color=\"red\", linewidth=2,linestyle=\"dotted\") # 수직선 : plt.axvline(x=, color=\"\", linewidth=, linestyle=\"\")\n",
        "plt.grid() # 그리드 표시 grid (color,linestyle,linewidth)"
      ],
      "metadata": {
        "colab": {
          "base_uri": "https://localhost:8080/",
          "height": 265
        },
        "id": "ZQBxhjREbpIj",
        "outputId": "dab1485b-997d-4ccf-f250-364934aed987"
      },
      "execution_count": null,
      "outputs": [
        {
          "output_type": "display_data",
          "data": {
            "text/plain": [
              "<Figure size 432x288 with 1 Axes>"
            ],
            "image/png": "[encoded data removed]"
          },
          "metadata": {
            "needs_background": "light"
          }
        }
      ]
    },
    {
      "cell_type": "code",
      "source": [
        "# 상한/하한 값 설정\n",
        "plt.plot(a)\n",
        "plt.xlim([0,2]) # x축 상한/하한 값\n",
        "plt.ylim([1,3]) # y축 상한/하한 값\n",
        "# plt.axis([0,2,1,3]) : x축과 y축의 상한/하한 값 "
      ],
      "metadata": {
        "colab": {
          "base_uri": "https://localhost:8080/",
          "height": 287
        },
        "id": "YIyHyAP_aRNR",
        "outputId": "030fba34-deab-46a5-cc43-4e3fc6537397"
      },
      "execution_count": null,
      "outputs": [
        {
          "output_type": "execute_result",
          "data": {
            "text/plain": [
              "(1.0, 3.0)"
            ]
          },
          "metadata": {},
          "execution_count": 132
        },
        {
          "output_type": "display_data",
          "data": {
            "text/plain": [
              "<Figure size 432x288 with 1 Axes>"
            ],
            "image/png": "[encoded data removed]"
          },
          "metadata": {
            "needs_background": "light"
          }
        }
      ]
    },
    {
      "cell_type": "code",
      "source": [
        "# 눈금 라벨 개수 \n",
        "plt.plot(a)\n",
        "plt.xticks(np.arange(1,4), label=[\"a\", \"b\", \"c\"]) # x축 눈금 라벨 설정\n",
        "plt.yticks(np.arange(1,4), label=[\"1\", \"2\", \"3\"]) # y축 눈금 라벨 설정"
      ],
      "metadata": {
        "colab": {
          "base_uri": "https://localhost:8080/",
          "height": 339
        },
        "id": "II8rzzspcWNq",
        "outputId": "8771f9c3-a972-4336-e417-c388f59c5bcf"
      },
      "execution_count": null,
      "outputs": [
        {
          "output_type": "execute_result",
          "data": {
            "text/plain": [
              "([<matplotlib.axis.YTick at 0x7ff5ef829890>,\n",
              "  <matplotlib.axis.YTick at 0x7ff5ef8dbb50>,\n",
              "  <matplotlib.axis.YTick at 0x7ff5ecb04250>],\n",
              " <a list of 3 Text major ticklabel objects>)"
            ]
          },
          "metadata": {},
          "execution_count": 133
        },
        {
          "output_type": "display_data",
          "data": {
            "text/plain": [
              "<Figure size 432x288 with 1 Axes>"
            ],
            "image/png": "[encoded data removed]"
          },
          "metadata": {
            "needs_background": "light"
          }
        }
      ]
    },
    {
      "cell_type": "code",
      "source": [
        "# 범례작성 (legend)\n",
        "x=np.linspace(0, np.pi *2, num=100)\n",
        "\n",
        "plt.plot(x, np.sin(x), \"r-\", label=\"sin\")\n",
        "plt.plot(x, np.cos(x), \"b-\", label=\"cos\") # 범례를 추가하기 위해선, plot() 메소드에 label 인자 설명 필요\n",
        "plt.legend(loc=\"best\") # 범례의 위치(loc=\"\") [ex) best, upper, lower, right, left, center]\n",
        "plt.show()"
      ],
      "metadata": {
        "colab": {
          "base_uri": "https://localhost:8080/",
          "height": 265
        },
        "id": "bJzNSlFqtYJm",
        "outputId": "b1e2890d-528b-456e-be95-c856ea388068"
      },
      "execution_count": null,
      "outputs": [
        {
          "output_type": "display_data",
          "data": {
            "text/plain": [
              "<Figure size 432x288 with 1 Axes>"
            ],
            "image/png": "[encoded data removed]"
          },
          "metadata": {
            "needs_background": "light"
          }
        }
      ]
    },
    {
      "cell_type": "code",
      "source": [
        "# 그래프의 크기 (figure)\n",
        "# figure : \n",
        "x=np.linspace(0, np.pi *2, num=100)\n",
        "y=np.cos(x)\n",
        "plt.figure(figsize=(4.2,3.5)) # figsize : figure의 너비(width), 높이(height)를 인치(inch)단위로 입력 \n",
        "plt.plot(x, y,\"r-\")"
      ],
      "metadata": {
        "colab": {
          "base_uri": "https://localhost:8080/",
          "height": 256
        },
        "id": "oOksC7nHlOxt",
        "outputId": "88da93e1-f872-48ef-8043-e485c35e021d"
      },
      "execution_count": null,
      "outputs": [
        {
          "output_type": "execute_result",
          "data": {
            "text/plain": [
              "[<matplotlib.lines.Line2D at 0x7ff5ec9f8950>]"
            ]
          },
          "metadata": {},
          "execution_count": 135
        },
        {
          "output_type": "display_data",
          "data": {
            "text/plain": [
              "<Figure size 302.4x252 with 1 Axes>"
            ],
            "image/png": "[encoded data removed]"
          },
          "metadata": {
            "needs_background": "light"
          }
        }
      ]
    },
    {
      "cell_type": "code",
      "source": [
        "# 스타일 시트\n",
        "plt.plot(a)\n",
        "plt.style.use(\"default\") # use() : 미리 만들어져 있는 스타일 지정\n",
        "print(plt.style.available) # 스타일 목록 확인"
      ],
      "metadata": {
        "colab": {
          "base_uri": "https://localhost:8080/",
          "height": 303
        },
        "id": "r1WyzGRPyuie",
        "outputId": "c194da67-3769-46f8-ee39-39a06c253565"
      },
      "execution_count": null,
      "outputs": [
        {
          "output_type": "stream",
          "name": "stdout",
          "text": [
            "['Solarize_Light2', '_classic_test_patch', 'bmh', 'classic', 'dark_background', 'fast', 'fivethirtyeight', 'ggplot', 'grayscale', 'seaborn', 'seaborn-bright', 'seaborn-colorblind', 'seaborn-dark', 'seaborn-dark-palette', 'seaborn-darkgrid', 'seaborn-deep', 'seaborn-muted', 'seaborn-notebook', 'seaborn-paper', 'seaborn-pastel', 'seaborn-poster', 'seaborn-talk', 'seaborn-ticks', 'seaborn-white', 'seaborn-whitegrid', 'tableau-colorblind10']\n"
          ]
        },
        {
          "output_type": "display_data",
          "data": {
            "text/plain": [
              "<Figure size 432x288 with 1 Axes>"
            ],
            "image/png": "[encoded data removed]"
          },
          "metadata": {
            "needs_background": "light"
          }
        }
      ]
    },
    {
      "cell_type": "markdown",
      "source": [
        "##### 이미지 저장 함수 \n",
        "  - (plt.savefig(filename, dpi=, bbox_inches=, facecolor=,)\n",
        "  - fname : 파일 경로나 파이썬의 파일과 유사한 객체\n",
        "  - dpi : 파일의 해상도 (기본값 : 100)\n",
        "  - facecolor, edge color : 서브 플롯 바깥 배경 색상\n",
        "  - format : 파일 포맷 (ex) png, jpg, svg, tif, pdf 등\n",
        "    - : 파일 형식 확인 : fig.canvas.get_supported_filetypes()\n",
        "  - bbox_inches : Figure에서 저장할 부분"
      ],
      "metadata": {
        "id": "AaWJSgnqdXGk"
      }
    },
    {
      "cell_type": "code",
      "source": [
        "plt.plot([1,2,3,4,5], \"r--\")\n",
        "plt.savefig(\"test.jpg\", dpi=90, facecolor=\"r\", bbox_inches=\"tight\")\n",
        "plt.show()"
      ],
      "metadata": {
        "colab": {
          "base_uri": "https://localhost:8080/",
          "height": 430
        },
        "id": "bvLy8r2RdXgl",
        "outputId": "0d24c45e-8101-4ef5-9daf-346be189d175"
      },
      "execution_count": null,
      "outputs": [
        {
          "output_type": "display_data",
          "data": {
            "text/plain": [
              "<Figure size 640x480 with 1 Axes>"
            ],
            "image/png": "[encoded data removed]"
          },
          "metadata": {}
        }
      ]
    },
    {
      "cell_type": "code",
      "source": [
        "# savefig 확인 모듈\n",
        "from IPython.display import Image\n",
        "Image (\"test.jpg\")"
      ],
      "metadata": {
        "colab": {
          "base_uri": "https://localhost:8080/",
          "height": 389
        },
        "id": "iUX1i0WPsH4o",
        "outputId": "bd98ba92-9b1f-4eb3-fe8b-125d737f129c"
      },
      "execution_count": null,
      "outputs": [
        {
          "output_type": "execute_result",
          "data": {
            "text/plain": [
              "<IPython.core.display.Image object>"
            ],
            "image/jpeg": "[encoded data removed]"
          },
          "metadata": {},
          "execution_count": 138
        }
      ]
    },
    {
      "cell_type": "markdown",
      "source": [
        "#### 그래프 "
      ],
      "metadata": {
        "id": "DBwWlcjVdi0E"
      }
    },
    {
      "cell_type": "markdown",
      "source": [
        "그래프 종류\n",
        "  - 산점도 (scatter())\n",
        "  - 막대 그래프 (bar())\n",
        "  - 수평 막대 그래프 (barh())\n",
        "  - 파이 그래프 (pie())\n",
        "  - 선 그래프 (plot())\n",
        "  - 히스토그램 (hist())\n",
        "  - 상자그림 (boxplot())\n",
        "  - 히트맵 (imshow())"
      ],
      "metadata": {
        "id": "y581FdWI0UGS"
      }
    },
    {
      "cell_type": "markdown",
      "source": [
        "선 그래프 \n",
        "  - (plt.plot(불러올 함수, color=\"색\", linestyle=\"선 형태\", marker=\"점 형태\")\n",
        "  - \"색/마커/선형태\" ex) \"b*- : 블루/별/실선\"\n",
        "  - color : (r : 빨강, b : 블루, g : 녹색)\n",
        "  - linestyle : (실선(solid, \"-\") , 점음표(dotted, \":\"), 점선(dashed, \"--\"), 모스식 (dash-dot, \"-.\")"
      ],
      "metadata": {
        "id": "L0kpHrdGdmFD"
      }
    },
    {
      "cell_type": "markdown",
      "source": [
        " 점형태 (marker)\n",
        "\n",
        "![sphx_glr_marker_reference_002.webp](data:image/webp;base64,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)"
      ],
      "metadata": {
        "id": "EhAdNiZLlf7k"
      }
    },
    {
      "cell_type": "code",
      "source": [
        "# 선형 그래프\n",
        "plt.plot([1,2,3,4,5], color=\"red\", linestyle=\"solid\", marker=\"o\")\n",
        "plt.show()"
      ],
      "metadata": {
        "colab": {
          "base_uri": "https://localhost:8080/",
          "height": 430
        },
        "id": "DOG1rtyadvDE",
        "outputId": "3f9d5fee-cf1b-476d-c9cb-ffe630b90d91"
      },
      "execution_count": null,
      "outputs": [
        {
          "output_type": "display_data",
          "data": {
            "text/plain": [
              "<Figure size 640x480 with 1 Axes>"
            ],
            "image/png": "[encoded data removed]"
          },
          "metadata": {}
        }
      ]
    },
    {
      "cell_type": "code",
      "source": [
        "# 다차원 배열 그래프\n",
        "a=np.arange(1,10)\n",
        "plt.plot((a**2), color=\"red\", linestyle=\"solid\", marker=\"o\")\n",
        "plt.show()"
      ],
      "metadata": {
        "colab": {
          "base_uri": "https://localhost:8080/",
          "height": 430
        },
        "id": "t2IWGxMoefjX",
        "outputId": "2c426861-b0fe-4acc-c7d1-17cb71e7f28a"
      },
      "execution_count": null,
      "outputs": [
        {
          "output_type": "display_data",
          "data": {
            "text/plain": [
              "<Figure size 640x480 with 1 Axes>"
            ],
            "image/png": "[encoded data removed]"
          },
          "metadata": {}
        }
      ]
    },
    {
      "cell_type": "code",
      "source": [
        "# 여러개 배열 그래프\n",
        "x=np.arange(-20,20)\n",
        "y_1=2*x\n",
        "y_2=(1/3)*x**2+5\n",
        "y_3=-x**2-5\n",
        "plt.plot(x,y_1,\"r--\", x,y_2,\"g^-\", x,y_3,\"b*:\")\n",
        "plt.axis([-30,30,-30,30])\n",
        "plt.show()"
      ],
      "metadata": {
        "colab": {
          "base_uri": "https://localhost:8080/",
          "height": 435
        },
        "id": "FaKWAq9efXUs",
        "outputId": "627ab672-dde9-4344-d816-4204801f699e"
      },
      "execution_count": null,
      "outputs": [
        {
          "output_type": "display_data",
          "data": {
            "text/plain": [
              "<Figure size 640x480 with 1 Axes>"
            ],
            "image/png": "[encoded data removed]"
          },
          "metadata": {}
        }
      ]
    },
    {
      "cell_type": "code",
      "source": [
        "# 복잡한 선\n",
        "a=np.random.rand(30)\n",
        "plt.plot(a, \"r*--\")\n",
        "plt.show()"
      ],
      "metadata": {
        "colab": {
          "base_uri": "https://localhost:8080/",
          "height": 430
        },
        "id": "vA4ks-YimXJ1",
        "outputId": "d9e24415-2963-482e-e15d-9ab3eec3a75a"
      },
      "execution_count": null,
      "outputs": [
        {
          "output_type": "display_data",
          "data": {
            "text/plain": [
              "<Figure size 640x480 with 1 Axes>"
            ],
            "image/png": "[encoded data removed]"
          },
          "metadata": {}
        }
      ]
    },
    {
      "cell_type": "code",
      "source": [
        "# sin, cos함수\n",
        "x=np.linspace(0, np.pi *2, num=100)\n",
        "\n",
        "plt.plot(x, np.sin(x), \"r-\")\n",
        "plt.plot(x, np.cos(x), \"b-\")\n",
        "plt.show()"
      ],
      "metadata": {
        "colab": {
          "base_uri": "https://localhost:8080/",
          "height": 430
        },
        "id": "i1mO163EoAfz",
        "outputId": "d898498b-03fd-4ee1-b88d-11fb4e3063f6"
      },
      "execution_count": null,
      "outputs": [
        {
          "output_type": "display_data",
          "data": {
            "text/plain": [
              "<Figure size 640x480 with 1 Axes>"
            ],
            "image/png": "[encoded data removed]"
          },
          "metadata": {}
        }
      ]
    },
    {
      "cell_type": "markdown",
      "source": [
        "##### 산점도\n",
        "  - plt.scatter(x,y,c=\"\",s=\"\",alpha=)\n",
        "  - c : 점의 색상\n",
        "  - s : 점의 사이즈\n",
        "  - alpha : 점의 투명도"
      ],
      "metadata": {
        "id": "hQerI5f8ogU0"
      }
    },
    {
      "cell_type": "code",
      "source": [
        "# 기본 산점도 그래프 \n",
        "x=np.random.randn(100)\n",
        "y=np.random.randn(100)\n",
        "plt.scatter(x,y)\n",
        "plt.show()"
      ],
      "metadata": {
        "colab": {
          "base_uri": "https://localhost:8080/",
          "height": 430
        },
        "id": "ccuJZ_cZoit6",
        "outputId": "b13a227a-0246-41ae-f031-e909601e1b4f"
      },
      "execution_count": null,
      "outputs": [
        {
          "output_type": "display_data",
          "data": {
            "text/plain": [
              "<Figure size 640x480 with 1 Axes>"
            ],
            "image/png": "[encoded data removed]"
          },
          "metadata": {}
        }
      ]
    },
    {
      "cell_type": "code",
      "source": [
        "# 사이즈 산점도 그래프\n",
        "n=30\n",
        "x=np.random.rand(n)\n",
        "y=np.random.rand(n)\n",
        "colors=np.random.rand(n)\n",
        "area=(30*np.random.rand(n))**2 # 반지름 0부터 15\n",
        "print(area)\n",
        "plt.scatter(x,y,c=colors,s=area,alpha=0.5) \n",
        "plt.show()"
      ],
      "metadata": {
        "colab": {
          "base_uri": "https://localhost:8080/",
          "height": 577
        },
        "id": "4SwtE4gPpyOq",
        "outputId": "2ce14bba-a850-48a1-9bc4-c4bd65cdfd78"
      },
      "execution_count": null,
      "outputs": [
        {
          "output_type": "stream",
          "name": "stdout",
          "text": [
            "[9.60409827e-01 3.65529994e+02 1.05080648e+00 1.11581907e+02\n",
            " 2.56168398e-01 1.00750809e+02 9.89863649e+01 8.84722788e+02\n",
            " 2.47302534e+02 2.22517211e+02 7.76959539e-01 3.53730444e+02\n",
            " 3.45817524e+01 1.08454021e+02 1.72768226e+02 8.84726583e+02\n",
            " 4.97412475e+02 2.80472677e+02 6.32464995e+02 2.96177717e+02\n",
            " 6.78495697e+02 7.21593677e+00 4.33754388e+02 1.11384340e+02\n",
            " 1.08558451e+02 3.43401453e+01 1.53887452e+02 7.60091862e+02\n",
            " 3.61638008e+01 7.42883000e+02]\n"
          ]
        },
        {
          "output_type": "display_data",
          "data": {
            "text/plain": [
              "<Figure size 640x480 with 1 Axes>"
            ],
            "image/png": "[encoded data removed]"
          },
          "metadata": {}
        }
      ]
    },
    {
      "cell_type": "markdown",
      "source": [
        "##### 막대그래프"
      ],
      "metadata": {
        "id": "WL4T0qy60ZCL"
      }
    },
    {
      "cell_type": "code",
      "source": [
        "# 누적 막대 그래프\n",
        "x=np.arange(3)\n",
        "years=[\"2012\",\"2031\",\"2032\"]\n",
        "domestic=[2322,3232,3321]\n",
        "foreign=[777,321,211]\n",
        "\n",
        "a=plt.bar(x,domestic)\n",
        "b=plt.bar(x,foreign)\n",
        "plt.xticks(x,years)\n",
        "plt.show()"
      ],
      "metadata": {
        "colab": {
          "base_uri": "https://localhost:8080/",
          "height": 430
        },
        "id": "24uDcF5w0auc",
        "outputId": "652e99cf-d416-4c2f-d7ca-e12a31e1ccee"
      },
      "execution_count": null,
      "outputs": [
        {
          "output_type": "display_data",
          "data": {
            "text/plain": [
              "<Figure size 640x480 with 1 Axes>"
            ],
            "image/png": "[encoded data removed]"
          },
          "metadata": {}
        }
      ]
    },
    {
      "cell_type": "code",
      "source": [
        "# 누적 막대 그래프 ()\n",
        "x=np.arange(3)\n",
        "years=[\"2012\",\"2031\",\"2032\"]\n",
        "domestic=[2322,3232,3321]\n",
        "foreign=[777,321,211]\n",
        "\n",
        "a=plt.bar(x+0.3,domestic,width=0.25) # x+0.0 : x축의 간격 조절 / width : 막대의 너비 조절\n",
        "b=plt.bar(x,foreign, width=0.25)\n",
        "plt.xticks(x,years)\n",
        "plt.show()"
      ],
      "metadata": {
        "colab": {
          "base_uri": "https://localhost:8080/",
          "height": 430
        },
        "id": "voH4Ki4w4EcE",
        "outputId": "7db05281-1a1d-407c-cf51-f0a4e5f9947d"
      },
      "execution_count": null,
      "outputs": [
        {
          "output_type": "display_data",
          "data": {
            "text/plain": [
              "<Figure size 640x480 with 1 Axes>"
            ],
            "image/png": "[encoded data removed]"
          },
          "metadata": {}
        }
      ]
    },
    {
      "cell_type": "markdown",
      "source": [
        "##### 파이 차트\n",
        "  - plt.pie(a, colors=\"색 지정\", autopct=\"부채꼴 안에 숫자 형식\", labels=\"이름 지정)\n",
        "   - autopct = 퍼센트를 파이차트 안에 표시\\\n",
        "      1. autopct = '%.1f' 소수 첫째자리까지 표시\n",
        "      2. autopct = '%.2f 소수 둘째자리까지 표시\n",
        "      3. autopct = '%.1f%%' 퍼센트까지 포함: "
      ],
      "metadata": {
        "id": "PiHQAAYj4YaE"
      }
    },
    {
      "cell_type": "code",
      "source": [
        "# 기본 파이 차트\n",
        "a=np.random.rand(5)\n",
        "clist=[\"r\", \"b\", \"c\", \"y\", \"g\"]\n",
        "plt.pie(a, colors=clist, autopct=\"%.2f%%\")"
      ],
      "metadata": {
        "colab": {
          "base_uri": "https://localhost:8080/",
          "height": 682
        },
        "id": "MxDz-mb04cCL",
        "outputId": "5636c8bf-fec2-43fa-a635-3ae6514773a7"
      },
      "execution_count": null,
      "outputs": [
        {
          "output_type": "execute_result",
          "data": {
            "text/plain": [
              "([<matplotlib.patches.Wedge at 0x7ff5ec8bb790>,\n",
              "  <matplotlib.patches.Wedge at 0x7ff5ec8bb950>,\n",
              "  <matplotlib.patches.Wedge at 0x7ff5ec84ed10>,\n",
              "  <matplotlib.patches.Wedge at 0x7ff5ec84ee50>,\n",
              "  <matplotlib.patches.Wedge at 0x7ff5ec918a90>],\n",
              " [Text(0.5618795187411623, 0.9456698189215939, ''),\n",
              "  Text(-0.8209678116918496, 0.7321283030766504, ''),\n",
              "  Text(-1.0768243565948934, 0.22460922742397285, ''),\n",
              "  Text(-0.7339527726442819, -0.8193371269067277, ''),\n",
              "  Text(0.8291647715393029, -0.7228317796266125, '')],\n",
              " [Text(0.30647973749517937, 0.5158199012299602, '32.93%'),\n",
              "  Text(-0.4478006245591907, 0.39934271076908207, '10.95%'),\n",
              "  Text(-0.5873587399608509, 0.12251412404943972, '5.69%'),\n",
              "  Text(-0.4003378759877901, -0.4469111601309423, '27.61%'),\n",
              "  Text(0.45227169356689245, -0.39427187979633405, '22.82%')])"
            ]
          },
          "metadata": {},
          "execution_count": 148
        },
        {
          "output_type": "display_data",
          "data": {
            "text/plain": [
              "<Figure size 640x480 with 1 Axes>"
            ],
            "image/png": "[encoded data removed]"
          },
          "metadata": {}
        }
      ]
    },
    {
      "cell_type": "markdown",
      "source": [
        "##### 히트맵 (imshow)"
      ],
      "metadata": {
        "id": "5HlYNkeG6WNc"
      }
    },
    {
      "cell_type": "code",
      "source": [
        "# 기본 히트맵 차트\n",
        "a=np.random.random((10,10))\n",
        "plt.imshow(a, cmap=\"gray\") # imshow : 원하는 사이즈의 픽셀을 원하는 색으로 채워서 만든 그림 (히트맵)\n",
        "plt.colorbar() # colorbar : 색상 막대"
      ],
      "metadata": {
        "colab": {
          "base_uri": "https://localhost:8080/",
          "height": 448
        },
        "outputId": "2399dd22-c28a-40ae-ae1d-141d8645c623",
        "id": "roK_rxfu6WNi"
      },
      "execution_count": null,
      "outputs": [
        {
          "output_type": "execute_result",
          "data": {
            "text/plain": [
              "<matplotlib.colorbar.Colorbar at 0x7ff5ec932790>"
            ]
          },
          "metadata": {},
          "execution_count": 149
        },
        {
          "output_type": "display_data",
          "data": {
            "text/plain": [
              "<Figure size 640x480 with 2 Axes>"
            ],
            "image/png": "[encoded data removed]"
          },
          "metadata": {}
        }
      ]
    },
    {
      "cell_type": "markdown",
      "source": [
        "##### 히스토그램\n",
        "  - 막대의 높이 : 상대도수를 계급구간의 폭으로 나눔으로써 파악\n",
        "  - 폭이 넓으면 : 자료가 간략하게 요약되나, 많은 정보 유실\n",
        "  - 폭이 좁으면 : 각 계급의 도수에서 어떤 경향을 파악하기 힘듬"
      ],
      "metadata": {
        "id": "3uA7LwYyY-9R"
      }
    },
    {
      "cell_type": "code",
      "source": [
        "# 기본 히스토그램 \n",
        "a=np.random.randn(100)\n",
        "plt.hist(a, bins=10) # bins = 동일한 구간으로 나누어 주는 함수 \n",
        "plt.show()"
      ],
      "metadata": {
        "colab": {
          "base_uri": "https://localhost:8080/",
          "height": 430
        },
        "id": "TxDAuZrbZDm3",
        "outputId": "d6ec7f26-f427-47fc-8856-50778dfb4d8d"
      },
      "execution_count": null,
      "outputs": [
        {
          "output_type": "display_data",
          "data": {
            "text/plain": [
              "<Figure size 640x480 with 1 Axes>"
            ],
            "image/png": "[encoded data removed]"
          },
          "metadata": {}
        }
      ]
    },
    {
      "cell_type": "code",
      "source": [
        "# 누적 히스토그램\n",
        "a=np.random.randn(100)\n",
        "b=np.random.randn(100)\n",
        "\n",
        "plt.hist(a, bins=6, label=\"a\", cumulative=True) # cumulative : 자료의 누적합을 표현 (기본값 : False)\n",
        "plt.hist(b, bins=6, label=\"b\", cumulative=False)\n",
        "\n",
        "plt.legend(loc=\"best\")\n",
        "plt.show()"
      ],
      "metadata": {
        "colab": {
          "base_uri": "https://localhost:8080/",
          "height": 430
        },
        "id": "dQ_vOiJZbFt2",
        "outputId": "da482711-92de-4acc-edb3-c6da21b6d6bc"
      },
      "execution_count": null,
      "outputs": [
        {
          "output_type": "display_data",
          "data": {
            "text/plain": [
              "<Figure size 640x480 with 1 Axes>"
            ],
            "image/png": "[encoded data removed]"
          },
          "metadata": {}
        }
      ]
    },
    {
      "cell_type": "code",
      "source": [
        "# 확률 밀도 함수\n",
        "a=np.random.normal(loc=0, scale=5, size=10000)\n",
        "b=np.random.normal(loc=8, scale=5, size=10000)\n",
        "\n",
        "plt.hist(a, color=\"r\", bins=200, density=True) # density : 확률밀도를 설정하기 위해 가중치 데이터를 정규\n",
        "plt.hist(b, color=\"b\", bins=200, density=True)\n",
        "plt.show()"
      ],
      "metadata": {
        "colab": {
          "base_uri": "https://localhost:8080/",
          "height": 430
        },
        "id": "1uM_TXVred4a",
        "outputId": "e1fa5bcf-3ac6-496e-a8e3-66f7acf17a86"
      },
      "execution_count": null,
      "outputs": [
        {
          "output_type": "display_data",
          "data": {
            "text/plain": [
              "<Figure size 640x480 with 1 Axes>"
            ],
            "image/png": "[encoded data removed]"
          },
          "metadata": {}
        }
      ]
    },
    {
      "cell_type": "markdown",
      "source": [
        "###### SCIPY\n",
        "  - scipy.stats : 여러가지 확률 분포 분석을 위한 기능\n",
        "  - https://namyoungkim.github.io/scipy/probability/2017/09/04/scipy/"
      ],
      "metadata": {
        "id": "Opz0iiGxgSR1"
      }
    },
    {
      "cell_type": "code",
      "source": [
        "from scipy.stats import norm\n",
        "\n",
        "data = norm.rvs(10.0, 3, size=10000)\n",
        "plt.hist(data, color=\"r\", alpha=0.6, density=True)\n",
        "\n",
        "mu, std = norm.fit(data)\n",
        "xmin, xmax = plt.xlim()\n",
        "x = np.linspace (xmin, xmax, 100)\n",
        "p = norm.pdf(x,mu,std)\n",
        "plt.plot(x,p,\"b-\", linewidth=2)"
      ],
      "metadata": {
        "colab": {
          "base_uri": "https://localhost:8080/",
          "height": 448
        },
        "id": "dFZDYU1HiuAt",
        "outputId": "48e6bd8c-1dbe-47d3-fd71-0baefa5918ab"
      },
      "execution_count": null,
      "outputs": [
        {
          "output_type": "execute_result",
          "data": {
            "text/plain": [
              "[<matplotlib.lines.Line2D at 0x7ff5ec823ed0>]"
            ]
          },
          "metadata": {},
          "execution_count": 153
        },
        {
          "output_type": "display_data",
          "data": {
            "text/plain": [
              "<Figure size 640x480 with 1 Axes>"
            ],
            "image/png": "[encoded data removed]"
          },
          "metadata": {}
        }
      ]
    },
    {
      "cell_type": "markdown",
      "source": [
        "##### 상자그림"
      ],
      "metadata": {
        "id": "ctFo_3UIkd3q"
      }
    },
    {
      "cell_type": "code",
      "source": [
        "# 상자그림\n",
        "np.random.seed(3) # np.random.seed()를 사용해서 난수가 발생하는 동작을 제어 \n",
        "box_1 = np.random.normal(100, 50, 200)\n",
        "box_2 = np.random.normal(80, 40, 200)\n",
        "box_3 = np.random.normal(150, 60, 200)\n",
        "box_4 = np.random.normal(30, 10, 200)\n",
        "\n",
        "plt.boxplot([box_1, box_2, box_3, box_4])\n",
        "plt.show()"
      ],
      "metadata": {
        "colab": {
          "base_uri": "https://localhost:8080/",
          "height": 430
        },
        "id": "qligZWFrkfH9",
        "outputId": "3a2f669b-7c2b-426a-cd25-2971f8124b79"
      },
      "execution_count": null,
      "outputs": [
        {
          "output_type": "display_data",
          "data": {
            "text/plain": [
              "<Figure size 640x480 with 1 Axes>"
            ],
            "image/png": "[encoded data removed]"
          },
          "metadata": {}
        }
      ]
    },
    {
      "cell_type": "markdown",
      "source": [
        "##### subplots \n",
        "  - fig, ax = matplotlib.pyplot.subplots(nrows=, ncols=)\n",
        "  - figure : 그리기 요소들을 포함하는 컨테이너 [여래개의 Axes 포함]\n",
        "  - axes : 그림을 그릴 수 있는 공간 (axis(x,y축 객체)와 axes 혼동 주의)\n",
        "  - subplots : 다양한 종류의 그래프를 한 화면에 그리는 함수\n",
        "  - (nrows, ncols) : 그래프에 필요한 행과 열"
      ],
      "metadata": {
        "id": "AXvVYLRa0ISo"
      }
    },
    {
      "cell_type": "code",
      "source": [
        "# subplots 그래프 그리기\n",
        "fig, ax = plt.subplots(2,2)\n",
        "\n",
        "x=np.random.randn(100)\n",
        "y=np.random.randn(100)\n",
        "ax[0,0].scatter(x,y)\n",
        "\n",
        "x=np.random.uniform(0,10,10)\n",
        "y=np.random.uniform(0,10,10)\n",
        "ax[0,1].bar(x,y)\n",
        "\n",
        "x=np.linspace(0,np.pi,10)\n",
        "y=np.sin(x)\n",
        "ax[1,0].plot(x,y)\n",
        "\n",
        "z=np.random.uniform(0,1,(5,5))\n",
        "ax[1,1].imshow(z)"
      ],
      "metadata": {
        "id": "tPTEgAv30HwW",
        "colab": {
          "base_uri": "https://localhost:8080/",
          "height": 452
        },
        "outputId": "9efdd62f-8651-4514-a6e6-193f16fec27a"
      },
      "execution_count": null,
      "outputs": [
        {
          "output_type": "execute_result",
          "data": {
            "text/plain": [
              "<matplotlib.image.AxesImage at 0x7ff5ef380e50>"
            ]
          },
          "metadata": {},
          "execution_count": 155
        },
        {
          "output_type": "display_data",
          "data": {
            "text/plain": [
              "<Figure size 640x480 with 4 Axes>"
            ],
            "image/png": "[encoded data removed]"
          },
          "metadata": {}
        }
      ]
    },
    {
      "cell_type": "code",
      "source": [
        "fig, ax = plt.subplots (3,3)\n",
        "\n",
        "grid=plt.GridSpec (3, 3, wspace=0.3, hspace=0.5)\n",
        "\n",
        "#산점도\n",
        "x=np.random.uniform(0,10,100)\n",
        "y=np.random.uniform(0,10,100)\n",
        "plt.subplot(grid[0,0:]).scatter(x,y)\n",
        "\n",
        "# 직선 그래프\n",
        "y=np.arange(0,4)\n",
        "plt.subplot(grid[1,:2]).plot(y,\"r--\")\n",
        "\n",
        "# cos 그래프\n",
        "x=np.linspace(0,np.pi*3, 100)\n",
        "y=np.cos(x)\n",
        "plt.subplot(grid[2,0]).plot(x,y,\"g\")\n",
        "\n",
        "# 막대 그래프\n",
        "x=np.arange(10)\n",
        "y=np.random.uniform(0,10,10)\n",
        "plt.subplot(grid[2,1]).bar(x,y)\n",
        "\n",
        "# 히트맵\n",
        "z=np.random.uniform(0,3,(10,5))\n",
        "plt.subplot(grid[1:,2]).imshow(z)"
      ],
      "metadata": {
        "colab": {
          "base_uri": "https://localhost:8080/",
          "height": 449
        },
        "id": "uA-VsD_q2asy",
        "outputId": "3f283377-d953-42ec-86e0-b11135ec5aa8"
      },
      "execution_count": null,
      "outputs": [
        {
          "output_type": "execute_result",
          "data": {
            "text/plain": [
              "<matplotlib.image.AxesImage at 0x7ff5ec498810>"
            ]
          },
          "metadata": {},
          "execution_count": 156
        },
        {
          "output_type": "display_data",
          "data": {
            "text/plain": [
              "<Figure size 640x480 with 5 Axes>"
            ],
            "image/png": "[encoded data removed]"
          },
          "metadata": {}
        }
      ]
    },
    {
      "cell_type": "code",
      "source": [
        "fig, ax = plt.subplots(2,3)\n",
        "\n",
        "#plt.GridSpec (행, 열, wspace=수평여백. hspace=수직여백) * 여백은 비율값\n",
        "grid=plt.GridSpec(2,3,wspace=0.4,hspace=0.3)\n",
        "\n",
        "x=np.random.randn(100)\n",
        "y=np.random.randn(100)\n",
        "plt.subplot(grid[0,0]).scatter(x,y)\n",
        "\n",
        "x=np.random.uniform(0,10,10)\n",
        "y=np.random.uniform(0,10,10)\n",
        "plt.subplot(grid[0,1:]).bar(x,y)\n",
        "\n",
        "x=np.linspace(0,np.pi,10)\n",
        "y=np.sin(x)\n",
        "plt.subplot(grid[1,:2]).plot(x,y)\n",
        "\n",
        "z=np.random.uniform(0,1,(5,5))\n",
        "plt.subplot(grid[1,2]).imshow(z)\n"
      ],
      "metadata": {
        "id": "D-k8gxry4VGE",
        "colab": {
          "base_uri": "https://localhost:8080/",
          "height": 448
        },
        "outputId": "482d6b41-b2e0-4de5-ee76-f72dac2c0ad7"
      },
      "execution_count": null,
      "outputs": [
        {
          "output_type": "execute_result",
          "data": {
            "text/plain": [
              "<matplotlib.image.AxesImage at 0x7ff5ec05a9d0>"
            ]
          },
          "metadata": {},
          "execution_count": 157
        },
        {
          "output_type": "display_data",
          "data": {
            "text/plain": [
              "<Figure size 640x480 with 4 Axes>"
            ],
            "image/png": "[encoded data removed]"
          },
          "metadata": {}
        }
      ]
    }
  ]
}